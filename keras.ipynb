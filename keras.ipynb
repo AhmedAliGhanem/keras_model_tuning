{
  "nbformat": 4,
  "nbformat_minor": 0,
  "metadata": {
    "colab": {
      "name": "keras.ipynb",
      "version": "0.3.2",
      "provenance": [],
      "collapsed_sections": [],
      "include_colab_link": true
    },
    "kernelspec": {
      "name": "python3",
      "display_name": "Python 3"
    },
    "accelerator": "GPU"
  },
  "cells": [
    {
      "cell_type": "markdown",
      "metadata": {
        "id": "view-in-github",
        "colab_type": "text"
      },
      "source": [
        "<a href=\"https://colab.research.google.com/github/georgeliu1998/keras_model_tuning/blob/master/keras.ipynb\" target=\"_parent\"><img src=\"https://colab.research.google.com/assets/colab-badge.svg\" alt=\"Open In Colab\"/></a>"
      ]
    },
    {
      "metadata": {
        "id": "QQl1lUm7zmN9",
        "colab_type": "code",
        "outputId": "343170df-a7bf-4314-92cf-fbb9aa131167",
        "colab": {
          "base_uri": "https://localhost:8080/",
          "height": 34
        }
      },
      "cell_type": "code",
      "source": [
        "import numpy as np\n",
        "import pandas as pd\n",
        "import sklearn\n",
        "import pickle\n",
        "from time import time\n",
        "import importlib # for dynamic class instantiation from a string\n",
        "\n",
        "from sklearn.model_selection import StratifiedKFold, cross_val_score\n",
        "#from sklearn.preprocessing import StandardScaler\n",
        "\n",
        "import xgboost as xgb\n",
        "\n",
        "\n",
        "from keras.models import Sequential\n",
        "from keras.layers import Dense\n",
        "#from keras.wrappers.scikit_learn import KerasClassifier\n",
        "from keras.utils import to_categorical\n",
        "\n",
        "import matplotlib.pyplot as plt\n",
        "import seaborn as sns\n",
        "%matplotlib inline"
      ],
      "execution_count": 1,
      "outputs": [
        {
          "output_type": "stream",
          "text": [
            "Using TensorFlow backend.\n"
          ],
          "name": "stderr"
        }
      ]
    },
    {
      "metadata": {
        "id": "pYJCnFnjwiLF",
        "colab_type": "code",
        "colab": {}
      },
      "cell_type": "code",
      "source": [
        "seed = np.random.RandomState(6)"
      ],
      "execution_count": 0,
      "outputs": []
    },
    {
      "metadata": {
        "id": "jUyYfdfxreXS",
        "colab_type": "code",
        "colab": {
          "base_uri": "https://localhost:8080/",
          "height": 122
        },
        "outputId": "dbed680a-806a-4651-847a-deff1823ce83"
      },
      "cell_type": "code",
      "source": [
        "# Mount gdrive \n",
        "from google.colab import drive\n",
        "drive.mount('/content/gdrive')"
      ],
      "execution_count": 3,
      "outputs": [
        {
          "output_type": "stream",
          "text": [
            "Go to this URL in a browser: https://accounts.google.com/o/oauth2/auth?client_id=947318989803-6bn6qk8qdgf4n4g3pfee6491hc0brc4i.apps.googleusercontent.com&redirect_uri=urn%3Aietf%3Awg%3Aoauth%3A2.0%3Aoob&scope=email%20https%3A%2F%2Fwww.googleapis.com%2Fauth%2Fdocs.test%20https%3A%2F%2Fwww.googleapis.com%2Fauth%2Fdrive%20https%3A%2F%2Fwww.googleapis.com%2Fauth%2Fdrive.photos.readonly%20https%3A%2F%2Fwww.googleapis.com%2Fauth%2Fpeopleapi.readonly&response_type=code\n",
            "\n",
            "Enter your authorization code:\n",
            "··········\n",
            "Mounted at /content/gdrive\n"
          ],
          "name": "stdout"
        }
      ]
    },
    {
      "metadata": {
        "id": "wwRIfdxNJ6oM",
        "colab_type": "code",
        "outputId": "b1513556-1d27-45a4-9490-9615439169a8",
        "colab": {
          "base_uri": "https://localhost:8080/",
          "height": 204
        }
      },
      "cell_type": "code",
      "source": [
        "df = pd.read_csv(\"/content/gdrive/My Drive/pima-indians-diabetes.csv\", header=None)\n",
        "df.head()"
      ],
      "execution_count": 4,
      "outputs": [
        {
          "output_type": "execute_result",
          "data": {
            "text/html": [
              "<div>\n",
              "<style scoped>\n",
              "    .dataframe tbody tr th:only-of-type {\n",
              "        vertical-align: middle;\n",
              "    }\n",
              "\n",
              "    .dataframe tbody tr th {\n",
              "        vertical-align: top;\n",
              "    }\n",
              "\n",
              "    .dataframe thead th {\n",
              "        text-align: right;\n",
              "    }\n",
              "</style>\n",
              "<table border=\"1\" class=\"dataframe\">\n",
              "  <thead>\n",
              "    <tr style=\"text-align: right;\">\n",
              "      <th></th>\n",
              "      <th>0</th>\n",
              "      <th>1</th>\n",
              "      <th>2</th>\n",
              "      <th>3</th>\n",
              "      <th>4</th>\n",
              "      <th>5</th>\n",
              "      <th>6</th>\n",
              "      <th>7</th>\n",
              "      <th>8</th>\n",
              "    </tr>\n",
              "  </thead>\n",
              "  <tbody>\n",
              "    <tr>\n",
              "      <th>0</th>\n",
              "      <td>6</td>\n",
              "      <td>148</td>\n",
              "      <td>72</td>\n",
              "      <td>35</td>\n",
              "      <td>0</td>\n",
              "      <td>33.6</td>\n",
              "      <td>0.627</td>\n",
              "      <td>50</td>\n",
              "      <td>1</td>\n",
              "    </tr>\n",
              "    <tr>\n",
              "      <th>1</th>\n",
              "      <td>1</td>\n",
              "      <td>85</td>\n",
              "      <td>66</td>\n",
              "      <td>29</td>\n",
              "      <td>0</td>\n",
              "      <td>26.6</td>\n",
              "      <td>0.351</td>\n",
              "      <td>31</td>\n",
              "      <td>0</td>\n",
              "    </tr>\n",
              "    <tr>\n",
              "      <th>2</th>\n",
              "      <td>8</td>\n",
              "      <td>183</td>\n",
              "      <td>64</td>\n",
              "      <td>0</td>\n",
              "      <td>0</td>\n",
              "      <td>23.3</td>\n",
              "      <td>0.672</td>\n",
              "      <td>32</td>\n",
              "      <td>1</td>\n",
              "    </tr>\n",
              "    <tr>\n",
              "      <th>3</th>\n",
              "      <td>1</td>\n",
              "      <td>89</td>\n",
              "      <td>66</td>\n",
              "      <td>23</td>\n",
              "      <td>94</td>\n",
              "      <td>28.1</td>\n",
              "      <td>0.167</td>\n",
              "      <td>21</td>\n",
              "      <td>0</td>\n",
              "    </tr>\n",
              "    <tr>\n",
              "      <th>4</th>\n",
              "      <td>0</td>\n",
              "      <td>137</td>\n",
              "      <td>40</td>\n",
              "      <td>35</td>\n",
              "      <td>168</td>\n",
              "      <td>43.1</td>\n",
              "      <td>2.288</td>\n",
              "      <td>33</td>\n",
              "      <td>1</td>\n",
              "    </tr>\n",
              "  </tbody>\n",
              "</table>\n",
              "</div>"
            ],
            "text/plain": [
              "   0    1   2   3    4     5      6   7  8\n",
              "0  6  148  72  35    0  33.6  0.627  50  1\n",
              "1  1   85  66  29    0  26.6  0.351  31  0\n",
              "2  8  183  64   0    0  23.3  0.672  32  1\n",
              "3  1   89  66  23   94  28.1  0.167  21  0\n",
              "4  0  137  40  35  168  43.1  2.288  33  1"
            ]
          },
          "metadata": {
            "tags": []
          },
          "execution_count": 4
        }
      ]
    },
    {
      "metadata": {
        "id": "eJ-kaPbGKG7B",
        "colab_type": "code",
        "outputId": "ecc27f80-7266-4f33-f434-ddecdd80770c",
        "colab": {
          "base_uri": "https://localhost:8080/",
          "height": 34
        }
      },
      "cell_type": "code",
      "source": [
        "# Get the features and labels as np arrays\n",
        "X, y = df.values[:, 0:8], df.values[:, 8]\n",
        "print(X.shape, y.shape)"
      ],
      "execution_count": 5,
      "outputs": [
        {
          "output_type": "stream",
          "text": [
            "(768, 8) (768,)\n"
          ],
          "name": "stdout"
        }
      ]
    },
    {
      "metadata": {
        "id": "Che2aHnO5Q6v",
        "colab_type": "code",
        "outputId": "8171f2e3-6adc-402f-95e7-944621d6aef7",
        "colab": {
          "base_uri": "https://localhost:8080/",
          "height": 51
        }
      },
      "cell_type": "code",
      "source": [
        "# Get baseline accuracy using XGBoost\n",
        "t1 = time()\n",
        "clf = xgb.XGBClassifier()\n",
        "cv = StratifiedKFold(n_splits=3, random_state=seed)\n",
        "scores = cross_val_score(clf, X, y, cv=cv)\n",
        "t2 = time()\n",
        "t = t2 - t1\n",
        "\n",
        "print(\"Mean Accuracy: {:.2%}, Standard Deviation: {:.2%}\".format(scores.mean(), scores.std()))\n",
        "print(\"Time taken: {:.2f} seconds\".format(t))"
      ],
      "execution_count": 9,
      "outputs": [
        {
          "output_type": "stream",
          "text": [
            "Mean Accuracy: 77.61%, Standard Deviation: 3.07%\n",
            "Time taken: 0.11 seconds\n"
          ],
          "name": "stdout"
        }
      ]
    },
    {
      "metadata": {
        "id": "HCQ1-GuByxYx",
        "colab_type": "code",
        "colab": {}
      },
      "cell_type": "code",
      "source": [
        "class SequentialModel:\n",
        "  \"\"\"\n",
        "  The base class for a Neural Networks model\n",
        "  \"\"\"\n",
        "  \n",
        "  def __init__(self, input_dim, num_layers, num_units, \n",
        "               activation, activation_out, \n",
        "               loss, initializer, optimizer, learning_rate, \n",
        "               metrics, epochs, batch_size, one_hot=False):\n",
        "    \"\"\"\n",
        "    Params:\n",
        "      input_dim: int, number of features\n",
        "      num_layers: int, number of layers of the model (excluding the input layer)\n",
        "      num_units: list, number of units in each layer(excluding the input layer)\n",
        "      activation: str, activation function used in all layers except output\n",
        "      activation_out: str, activation function used in output layer\n",
        "      loss: str, loss functon\n",
        "      initializer: str, kernel initializer\n",
        "      optimizer: str, optimizer\n",
        "      metrics: list of strings, metrics used\n",
        "      epochs: int, number of epochs to train for\n",
        "      batch_size: int, number of samples per batch\n",
        "      one_hot: bool, whether one hot encoding is needed\n",
        "    \"\"\"\n",
        "    self.input_dim = input_dim\n",
        "    self.num_layers = num_layers\n",
        "    self.num_units = num_units\n",
        "    self.activation = activation\n",
        "    self.activation_out = activation_out\n",
        "    self.loss = loss\n",
        "    self.initializer = initializer\n",
        "    self.optimizer = optimizer\n",
        "    self.learning_rate = learning_rate\n",
        "    self.metrics = metrics\n",
        "    self.epochs = epochs\n",
        "    self.batch_size = batch_size\n",
        "    self.one_hot = one_hot\n",
        "    \n",
        "    # Initialize the sequential model\n",
        "    self.model = Sequential()\n",
        "  \n",
        "    \n",
        "  def build_model(self):\n",
        "    \"\"\"\n",
        "    Adds layers and compiles the model\n",
        "    \"\"\"\n",
        "    # Ensure num_units tuple's length is the same as num_layers\n",
        "    if self.num_layers != len(self.num_units):\n",
        "      # Expand the list by repeating number of nodes except for last layer\n",
        "      num_nodes, num_nodes_out = self.num_units[0], self.num_units[-1]\n",
        "      self.num_units = [i for i in range(self.num_layers-1) for i in [num_nodes]]\n",
        "      self.num_units.append(num_nodes_out) \n",
        " \n",
        "    # Loop thru all the layers\n",
        "    for i in range(self.num_layers):\n",
        "      # different layers should have different setups\n",
        "      if i == 0: # input and first hidden layer\n",
        "        self.model.add(Dense(units=self.num_units[i],\n",
        "                             input_dim=self.input_dim,\n",
        "                             kernel_initializer=self.initializer,\n",
        "                             activation=self.activation)) \n",
        "      elif i+1 == self.num_layers: # output layer\n",
        "        self.model.add(Dense(units=self.num_units[i],\n",
        "                             kernel_initializer=self.initializer,\n",
        "                             activation=self.activation_out))\n",
        "      else: # hidden layers\n",
        "        self.model.add(Dense(units=self.num_units[i],\n",
        "                            kernel_initializer=self.initializer,\n",
        "                            activation=self.activation))\n",
        "    \n",
        "    # Instantiate the optimizer class\n",
        "    optimizer_class = getattr(importlib.import_module(\"keras.optimizers\"), \n",
        "                             self.optimizer)\n",
        "    self.optimizer = optimizer_class(lr=self.learning_rate)\n",
        "    # Compile the model\n",
        "    self.model.compile(loss=self.loss,\n",
        "                       optimizer=self.optimizer,\n",
        "                       metrics=self.metrics)\n",
        "        \n",
        "  \n",
        "  def evaluate_model(self, X, y, n_splits=3):\n",
        "    \"\"\"\n",
        "    Evaluates the model using cross-validation.\n",
        "    \n",
        "    Params:\n",
        "      X: np.array, features\n",
        "      y: np.array, labels\n",
        "      n_splits: int, number of folds for the cross-validation\n",
        "    Returns:\n",
        "      mean_accuracy: float, the average accuracy based on the cross-validation.\n",
        "    \n",
        "    \"\"\"\n",
        "    score_lst = []\n",
        "    t1 = time()\n",
        "    \n",
        "    print(\"Starting {}-fold cross-validation...\".format(n_splits))\n",
        "    \n",
        "    kfold = StratifiedKFold(n_splits=n_splits, \n",
        "                            shuffle=True, \n",
        "                            random_state=seed)\n",
        "    \n",
        "    # Loop through the different folds\n",
        "    for train_index, test_index in kfold.split(X, y):\n",
        "      # Do one-hot encoding when needed\n",
        "      if self.one_hot:\n",
        "        y_one_hot = to_categorical(y)\n",
        "      else:\n",
        "        y_one_hot = y\n",
        "        \n",
        "      self.model.fit(X[train_index],\n",
        "                     y_one_hot[train_index],\n",
        "                     epochs=self.epochs,\n",
        "                     batch_size=self.batch_size,\n",
        "                     verbose=0)\n",
        "        \n",
        "      scores = self.model.evaluate(X[test_index],\n",
        "                                   y_one_hot[test_index], \n",
        "                                   verbose=0)\n",
        "            \n",
        "      # The second item is accuracy\n",
        "      score_lst.append(scores[1])\n",
        "\n",
        "    t2 = time()\n",
        "    t = t2 - t1\n",
        "    # Convert time to mintues\n",
        "    t /= 60\n",
        "\n",
        "    print(\"Finished cross-valiation. Took {:.1f} mintues.\".format(t))\n",
        "\n",
        "    # Convert to np.array and calculate mean and sd\n",
        "    score_lst = np.array(score_lst)\n",
        "    mean_acc = score_lst.mean()\n",
        "    sd_acc = score_lst.std()\n",
        "\n",
        "    print(\"Mean Accuracy: {:.2%}, Standard Deviation: {:.2%}\".format(mean_acc, sd_acc))\n",
        "    return mean_acc"
      ],
      "execution_count": 0,
      "outputs": []
    },
    {
      "metadata": {
        "id": "3QbFJkQVK4tQ",
        "colab_type": "code",
        "colab": {}
      },
      "cell_type": "code",
      "source": [
        "def get_defaults():\n",
        "  \"\"\"\n",
        "  Returns a dict of default hyperparameter values\n",
        "  \"\"\"\n",
        "  input_dim=8\n",
        "  num_layers=2\n",
        "  num_units=[8, 1]\n",
        "  activation='relu'\n",
        "  activation_out='sigmoid'\n",
        "  loss='binary_crossentropy'\n",
        "  initializer='random_uniform'\n",
        "  optimizer='adam'\n",
        "  learning_rate=0.001\n",
        "  metrics=['accuracy']\n",
        "  epochs=10\n",
        "  batch_size=4\n",
        "  one_hot=False\n",
        "  \n",
        "  defaults = {'input_dim': input_dim, \n",
        "              'num_layers': num_layers, \n",
        "              'num_units': num_units, \n",
        "              'activation': activation, \n",
        "              'activation_out': activation_out, \n",
        "              'loss': loss, \n",
        "              'initializer': initializer, \n",
        "              'optimizer': optimizer, \n",
        "              'learning_rate': learning_rate, \n",
        "              'metrics': metrics, \n",
        "              'epochs': epochs, \n",
        "              'batch_size': batch_size, \n",
        "              'one_hot': one_hot}\n",
        "  \n",
        "  return defaults"
      ],
      "execution_count": 0,
      "outputs": []
    },
    {
      "metadata": {
        "id": "_ijY3XR7Ocyf",
        "colab_type": "code",
        "colab": {}
      },
      "cell_type": "code",
      "source": [
        "def build_test_model(param_dict):\n",
        "  \"\"\"\n",
        "  Builds a Neural Network model using the given params and returns the \n",
        "  cross-validation accuracy\n",
        "  \n",
        "  Params:\n",
        "    param_dict: dict - Python dict containing the tuning parameters and values\n",
        "  \n",
        "  Returns:\n",
        "    result: float - percentage accuracy based on cross-validation\n",
        "  \n",
        "  \"\"\"\n",
        "  model = SequentialModel(input_dim=param_dict['input_dim'], \n",
        "                          num_layers=param_dict['num_layers'], \n",
        "                          num_units=param_dict['num_units'],\n",
        "                          activation=param_dict['activation'], \n",
        "                          activation_out=param_dict['activation_out'], \n",
        "                          loss=param_dict['loss'], \n",
        "                          initializer=param_dict['initializer'], \n",
        "                          optimizer=param_dict['optimizer'], \n",
        "                          learning_rate=param_dict['learning_rate'], \n",
        "                          metrics=param_dict['metrics'], \n",
        "                          epochs=param_dict['epochs'], \n",
        "                          batch_size=param_dict['batch_size'], \n",
        "                          one_hot=param_dict['one_hot'])\n",
        "\n",
        "  model.build_model()\n",
        "  result = model.evaluate_model(X, y)\n",
        "  \n",
        "  return result"
      ],
      "execution_count": 0,
      "outputs": []
    },
    {
      "metadata": {
        "id": "8CjnqVGL_s_Q",
        "colab_type": "code",
        "colab": {}
      },
      "cell_type": "code",
      "source": [
        "# Get baseline accuracy using defauls with the defined Neural Networks class  \n",
        "build_test_model(param_dict=defaults)"
      ],
      "execution_count": 0,
      "outputs": []
    },
    {
      "metadata": {
        "id": "2VnF5lzmLISj",
        "colab_type": "code",
        "colab": {}
      },
      "cell_type": "code",
      "source": [
        "def get_tuning_options(use_defaults=True, **kwargs):\n",
        "  \"\"\"\n",
        "  Define tuning parameter and corresponding options\n",
        "  \n",
        "  Params:\n",
        "    -----------------####################\n",
        "  Returns:\n",
        "    -----------------####################\n",
        "  \n",
        "  \"\"\" \n",
        "  tuning_options = {}\n",
        "  \n",
        "  for param, options in kwargs.items():\n",
        "    tuning_options[param] = options \n",
        "  \n",
        "  return tuning_options"
      ],
      "execution_count": 0,
      "outputs": []
    },
    {
      "metadata": {
        "id": "Yc5XufW6ANeo",
        "colab_type": "code",
        "colab": {
          "base_uri": "https://localhost:8080/",
          "height": 255
        },
        "outputId": "870bdf44-aea6-49e8-b0fd-748946108178"
      },
      "cell_type": "code",
      "source": [
        "num_units = [4, 8, 16, 32, 64]\n",
        "num_layers = [2, 4, 8, 16, 32]\n",
        "loss = ['binary_crossentropy', 'categorical_crossentropy', 'sparse_categorical_crossentropy']\n",
        "initializer = ['random_uniform', 'random_normal', 'TruncatedNormal', 'glorot_normal', 'glorot_uniform']\n",
        "learning_rate = [0.001, 0.002, 0.01, 0.1, 1]\n",
        "optimizer = ['adam', 'adamax', 'adagrad', 'sgd', 'rmsprop']\n",
        "epochs = [10, 20, 40, 80, 160]\n",
        "batch_size = [1, 2, 4, 8, 16]\n",
        "\n",
        "\n",
        "tuning_options = get_tuning_options(use_defaults=False,\n",
        "                                    num_units=num_units, \n",
        "                                    num_layers=num_layers, \n",
        "                                    loss=loss, \n",
        "                                    initializer=initializer,\n",
        "                                    learning_rate=learning_rate, \n",
        "                                    optimizer=optimizer, \n",
        "                                    epochs=epochs, \n",
        "                                    batch_size=batch_size)\n",
        "tuning_options"
      ],
      "execution_count": 35,
      "outputs": [
        {
          "output_type": "execute_result",
          "data": {
            "text/plain": [
              "{'batch_size': [1, 2, 4, 8, 16],\n",
              " 'epochs': [10, 20, 40, 80, 160],\n",
              " 'initializer': ['random_uniform',\n",
              "  'random_normal',\n",
              "  'TruncatedNormal',\n",
              "  'glorot_normal',\n",
              "  'glorot_uniform'],\n",
              " 'learning_rate': [0.001, 0.002, 0.01, 0.1, 1],\n",
              " 'loss': ['binary_crossentropy',\n",
              "  'categorical_crossentropy',\n",
              "  'sparse_categorical_crossentropy'],\n",
              " 'num_layers': [2, 4, 8, 16, 32],\n",
              " 'num_units': [4, 8, 16, 32, 64],\n",
              " 'optimizer': ['adam', 'adamax', 'adagrad', 'sgd', 'rmsprop']}"
            ]
          },
          "metadata": {
            "tags": []
          },
          "execution_count": 35
        }
      ]
    },
    {
      "metadata": {
        "id": "cf3kbnDie18w",
        "colab_type": "code",
        "colab": {}
      },
      "cell_type": "code",
      "source": [
        "def run_test(tuning_options, X, y, \n",
        "             use_defaults=True,\n",
        "             param_dict=None):\n",
        "  \"\"\"\n",
        "  Tests different hyperparameter's accurcy using the given tuning options\n",
        "  \n",
        "  Params:\n",
        "    -----------------####################\n",
        "  Returns:\n",
        "    -----------------####################\n",
        "  \n",
        "  \"\"\"\n",
        "  # Initiate a dict to store all results\n",
        "  results = {}\n",
        "\n",
        "  for parameter, options in tuning_options.items():\n",
        "    results[parameter] = {}\n",
        "    # Get the base hyperparameters to use for test\n",
        "    if use_defaults:\n",
        "      param_dict = get_defaults()\n",
        "    else:\n",
        "      param_dict = param_dict\n",
        "    \n",
        "    for option in options:\n",
        "      print(\"\\nEvaluating parameter \\\"{}\\\" using value \\\"{}\\\"...\".format(parameter, option))\n",
        "      # Update the corresponding hyperparameter\n",
        "      if parameter == 'num_units':\n",
        "        param_dict[parameter] == [option, 1]\n",
        "      else:\n",
        "        param_dict[parameter] = option\n",
        "      try:\n",
        "        result = build_test_model(param_dict=param_dict) \n",
        "        results[parameter][option] = result\n",
        "      except Exception as e: \n",
        "        results[parameter][option] = 'NaN'\n",
        "        print('Error: {}, skipping...'.format(e))\n",
        "        pass\n",
        "\n",
        "  return results"
      ],
      "execution_count": 0,
      "outputs": []
    },
    {
      "metadata": {
        "id": "8KcQXMDm1yVb",
        "colab_type": "code",
        "colab": {}
      },
      "cell_type": "code",
      "source": [
        "results = run_test(tuning_options, X, y)"
      ],
      "execution_count": 0,
      "outputs": []
    },
    {
      "metadata": {
        "id": "s159Jx6Fplqx",
        "colab_type": "code",
        "colab": {
          "base_uri": "https://localhost:8080/",
          "height": 34
        },
        "outputId": "00adb5cd-3c1b-4a84-a5e5-85fb21dff5a7"
      },
      "cell_type": "code",
      "source": [
        "# Save the dict    \n",
        "with open('/content/gdrive/My Drive/cross_validation_results.pkl', 'wb') as f:\n",
        "    pickle.dump(results, f, pickle.HIGHEST_PROTOCOL)\n",
        "    print(\"Results saved to Google Drive successfully!\")"
      ],
      "execution_count": 72,
      "outputs": [
        {
          "output_type": "stream",
          "text": [
            "Results saved to Google Drive successfully!\n"
          ],
          "name": "stdout"
        }
      ]
    },
    {
      "metadata": {
        "id": "Kozw8MO7Iu3I",
        "colab_type": "code",
        "colab": {}
      },
      "cell_type": "code",
      "source": [
        "# Load the pickled results dict\n",
        "with open('/content/gdrive/My Drive/cross_validation_results.pkl', 'rb') as f:\n",
        "    tuning_results = pickle.load(f)"
      ],
      "execution_count": 0,
      "outputs": []
    },
    {
      "metadata": {
        "id": "PTns86tjLRDq",
        "colab_type": "code",
        "colab": {}
      },
      "cell_type": "code",
      "source": [
        "def wrangle(tuning_results):\n",
        "    \"\"\"\n",
        "    Params:\n",
        "        tuning_results: dict, the dict loaded from pickled hyperparameter tuning results\n",
        "    \n",
        "    Returns:\n",
        "        df_long: pandas df, the wrangled long format dataframe\n",
        "    \"\"\"\n",
        "    # Save as df\n",
        "    df = pd.DataFrame(tuning_results)\n",
        "    # Get the col names as value vars for melt func\n",
        "    value_vars = df.columns.tolist()\n",
        "    # Reset index and rename the index col \n",
        "    df = df.reset_index().rename(columns={'index': 'option'})\n",
        "    # Transform from wide to long format for easy plotting\n",
        "    df_long = pd.melt(df, id_vars='option', value_vars=value_vars)\n",
        "    df_long = df_long.rename(columns={'variable': 'parameter'})\n",
        "    # Exclude the zero and null values\n",
        "    df_long = df_long[~df_long['value'].isnull()]\n",
        "    df_long = df_long.query(\"value!=0 & value!='NaN'\")\n",
        "    \n",
        "    return df_long\n",
        "\n",
        "df_long = wrangle(tuning_results)"
      ],
      "execution_count": 0,
      "outputs": []
    },
    {
      "metadata": {
        "id": "q_xgwDiwjvHr",
        "colab_type": "code",
        "colab": {}
      },
      "cell_type": "code",
      "source": [
        "def transform_df(df_long):\n",
        "  \"\"\"\n",
        "  Transforms the long form df into a plottable df\n",
        "  \"\"\"\n",
        "\n",
        "  # Calculate the range and sd of each parameter group and convert to a df\n",
        "  ranges = df_long.groupby('parameter').apply(lambda grp: grp.value.max() - grp.value.min())\n",
        "  sd = df_long.groupby('parameter').apply(lambda grp: grp.value.std())\n",
        "  spread = pd.concat([ranges, sd], axis=1).rename(columns={0: 'ranges', 1: 'sd'})\n",
        "\n",
        "  # Join back the df\n",
        "  df_spread = pd.merge(df_long, spread, how='left', left_on='parameter', right_index=True)\n",
        "\n",
        "  # Reorder columns\n",
        "  df_spread = df_spread[['parameter', 'option', 'value', 'ranges', 'sd']]\n",
        "\n",
        "  # Remove the row with zero value\n",
        "  df_spread = df_spread.query('ranges!=0')\n",
        "\n",
        "  # Sort the dataframe and use the resulting index to slice\n",
        "  # This ensures the plot will be ordered accordingly\n",
        "  idx = df_spread.sort_values(by=['ranges', 'option'], ascending=False).index\n",
        "  df_plot = df_spread.loc[idx, :]\n",
        "  df_plot\n",
        "  \n",
        "  return df_plot\n",
        "\n",
        "df_plot = transform_df(df_long)"
      ],
      "execution_count": 0,
      "outputs": []
    },
    {
      "metadata": {
        "id": "e5SS5w_7DXZs",
        "colab_type": "code",
        "outputId": "6bd633b6-b83a-41d0-cd43-93810208729e",
        "colab": {
          "base_uri": "https://localhost:8080/",
          "height": 774
        }
      },
      "cell_type": "code",
      "source": [
        "fig, ax = plt.subplots(figsize=(16, 12))\n",
        "df_plot['value'] = df_plot['value'].astype(float)\n",
        "sns.boxplot(x='parameter', y='value', data=df_plot, ax=ax)\n",
        "sns.swarmplot(x='parameter', y='value', data=df_plot, size=12, ax=ax)\n",
        "ax.set_xlabel('Parameters',size=20)\n",
        "ax.set_ylabel('Values',size=20)"
      ],
      "execution_count": 41,
      "outputs": [
        {
          "output_type": "stream",
          "text": [
            "/usr/local/lib/python3.6/dist-packages/seaborn/categorical.py:454: FutureWarning: remove_na is deprecated and is a private function. Do not use.\n",
            "  box_data = remove_na(group_data)\n"
          ],
          "name": "stderr"
        },
        {
          "output_type": "execute_result",
          "data": {
            "text/plain": [
              "Text(0,0.5,'Values')"
            ]
          },
          "metadata": {
            "tags": []
          },
          "execution_count": 41
        },
        {
          "output_type": "display_data",
          "data": {
            "image/png": "[encoded data removed]",
            "text/plain": [
              "<matplotlib.figure.Figure at 0x7fc49199a860>"
            ]
          },
          "metadata": {
            "tags": []
          }
        }
      ]
    },
    {
      "metadata": {
        "id": "RzU36qL3OYb8",
        "colab_type": "code",
        "colab": {
          "base_uri": "https://localhost:8080/",
          "height": 136
        },
        "outputId": "af28f2e3-5c00-4481-eb4d-cc499475092c"
      },
      "cell_type": "code",
      "source": [
        "# Get the best parameter options\n",
        "best_options = df_plot.groupby('parameter').apply(lambda grp: grp.nlargest(1, 'value'))[['parameter', 'option']].values.tolist()\n",
        "best_options"
      ],
      "execution_count": 42,
      "outputs": [
        {
          "output_type": "execute_result",
          "data": {
            "text/plain": [
              "[['batch_size', 4],\n",
              " ['epochs', 160],\n",
              " ['initializer', 'random_uniform'],\n",
              " ['learning_rate', 0.002],\n",
              " ['num_layers', 4],\n",
              " ['num_units', 16],\n",
              " ['optimizer', 'adamax']]"
            ]
          },
          "metadata": {
            "tags": []
          },
          "execution_count": 42
        }
      ]
    },
    {
      "metadata": {
        "id": "r2LScFOJRKpZ",
        "colab_type": "code",
        "colab": {
          "base_uri": "https://localhost:8080/",
          "height": 85
        },
        "outputId": "0fdc690b-18a8-48ca-b99c-58e6f6766e69"
      },
      "cell_type": "code",
      "source": [
        "# Use the best_options to build a new baseline model\n",
        "param_dict = get_defaults()\n",
        "\n",
        "for i in best_options:\n",
        "  if i[0] == 'num_units': # ensure num_units is a list\n",
        "    param_dict[i[0]] = [i[1], 1]\n",
        "  else:\n",
        "    param_dict[i[0]] = i[1]\n",
        "\n",
        "build_test_model(param_dict=param_dict)"
      ],
      "execution_count": 43,
      "outputs": [
        {
          "output_type": "stream",
          "text": [
            "Starting 3-fold cross-validation...\n",
            "Finished cross-valiation. Took 5.4 mintues.\n",
            "Mean Accuracy: 74.48%, Standard Deviation: 1.25%\n"
          ],
          "name": "stdout"
        },
        {
          "output_type": "execute_result",
          "data": {
            "text/plain": [
              "0.7448297336565322"
            ]
          },
          "metadata": {
            "tags": []
          },
          "execution_count": 43
        }
      ]
    },
    {
      "metadata": {
        "id": "xNeotHP_I9sL",
        "colab_type": "code",
        "outputId": "7e398ccd-3db7-4259-c340-504c36cefc50",
        "colab": {
          "base_uri": "https://localhost:8080/",
          "height": 527
        }
      },
      "cell_type": "code",
      "source": [
        "learning_rate = [0.00095, 0.001, 0.0018, 0.0019, 0.002, 0.003] #0.00095\n",
        "\n",
        "tuning_options = get_tuning_options(learning_rate=learning_rate)\n",
        "\n",
        "result = run_test(tuning_options, X, y, use_defaults=False, param_dict=param_dict)"
      ],
      "execution_count": 47,
      "outputs": [
        {
          "output_type": "stream",
          "text": [
            "\n",
            "Evaluating parameter \"learning_rate\" using value \"0.00095\"...\n",
            "Starting 3-fold cross-validation...\n",
            "Finished cross-valiation. Took 5.6 mintues.\n",
            "Mean Accuracy: 77.08%, Standard Deviation: 1.05%\n",
            "\n",
            "Evaluating parameter \"learning_rate\" using value \"0.001\"...\n",
            "Starting 3-fold cross-validation...\n",
            "Finished cross-valiation. Took 5.6 mintues.\n",
            "Mean Accuracy: 76.82%, Standard Deviation: 1.48%\n",
            "\n",
            "Evaluating parameter \"learning_rate\" using value \"0.0018\"...\n",
            "Starting 3-fold cross-validation...\n",
            "Finished cross-valiation. Took 5.7 mintues.\n",
            "Mean Accuracy: 75.79%, Standard Deviation: 1.32%\n",
            "\n",
            "Evaluating parameter \"learning_rate\" using value \"0.0019\"...\n",
            "Starting 3-fold cross-validation...\n",
            "Finished cross-valiation. Took 5.7 mintues.\n",
            "Mean Accuracy: 76.31%, Standard Deviation: 2.99%\n",
            "\n",
            "Evaluating parameter \"learning_rate\" using value \"0.002\"...\n",
            "Starting 3-fold cross-validation...\n",
            "Finished cross-valiation. Took 5.7 mintues.\n",
            "Mean Accuracy: 75.14%, Standard Deviation: 2.59%\n",
            "\n",
            "Evaluating parameter \"learning_rate\" using value \"0.003\"...\n",
            "Starting 3-fold cross-validation...\n",
            "Finished cross-valiation. Took 5.7 mintues.\n",
            "Mean Accuracy: 76.17%, Standard Deviation: 0.92%\n"
          ],
          "name": "stdout"
        }
      ]
    },
    {
      "metadata": {
        "id": "kIlZwm7iNKam",
        "colab_type": "code",
        "colab": {
          "base_uri": "https://localhost:8080/",
          "height": 238
        },
        "outputId": "f66e91e2-1d40-4fc9-dfb3-e2ceff78baca"
      },
      "cell_type": "code",
      "source": [
        "param_dict['learning_rate'] = 0.00095\n",
        "param_dict"
      ],
      "execution_count": 50,
      "outputs": [
        {
          "output_type": "execute_result",
          "data": {
            "text/plain": [
              "{'activation': 'relu',\n",
              " 'activation_out': 'sigmoid',\n",
              " 'batch_size': 4,\n",
              " 'epochs': 160,\n",
              " 'initializer': 'random_uniform',\n",
              " 'input_dim': 8,\n",
              " 'learning_rate': 0.00095,\n",
              " 'loss': 'binary_crossentropy',\n",
              " 'metrics': ['accuracy'],\n",
              " 'num_layers': 4,\n",
              " 'num_units': [16, 1],\n",
              " 'one_hot': False,\n",
              " 'optimizer': 'adamax'}"
            ]
          },
          "metadata": {
            "tags": []
          },
          "execution_count": 50
        }
      ]
    },
    {
      "metadata": {
        "id": "Rj20zhkHOGSU",
        "colab_type": "code",
        "colab": {
          "base_uri": "https://localhost:8080/",
          "height": 296
        },
        "outputId": "4a04961f-cb08-4018-894c-fcc844ffc808"
      },
      "cell_type": "code",
      "source": [
        "df_plot.query(\"parameter=='epochs'\").plot(x='option', y='value')"
      ],
      "execution_count": 52,
      "outputs": [
        {
          "output_type": "execute_result",
          "data": {
            "text/plain": [
              "<matplotlib.axes._subplots.AxesSubplot at 0x7fc47b6afa20>"
            ]
          },
          "metadata": {
            "tags": []
          },
          "execution_count": 52
        },
        {
          "output_type": "display_data",
          "data": {
            "image/png": "[encoded data removed]",
            "text/plain": [
              "<matplotlib.figure.Figure at 0x7fc47cef2940>"
            ]
          },
          "metadata": {
            "tags": []
          }
        }
      ]
    },
    {
      "metadata": {
        "id": "S8qBrBbiObAB",
        "colab_type": "code",
        "colab": {
          "base_uri": "https://localhost:8080/",
          "height": 442
        },
        "outputId": "8b45dad2-e3d7-4191-803c-a2128dd410fe"
      },
      "cell_type": "code",
      "source": [
        "epochs = [160, 180, 200, 220, 250] #0.00095\n",
        "\n",
        "tuning_options = get_tuning_options(epochs=epochs)\n",
        "\n",
        "result = run_test(tuning_options, X, y, use_defaults=False, param_dict=param_dict)"
      ],
      "execution_count": 53,
      "outputs": [
        {
          "output_type": "stream",
          "text": [
            "\n",
            "Evaluating parameter \"epochs\" using value \"160\"...\n",
            "Starting 3-fold cross-validation...\n",
            "Finished cross-valiation. Took 5.7 mintues.\n",
            "Mean Accuracy: 73.44%, Standard Deviation: 1.56%\n",
            "\n",
            "Evaluating parameter \"epochs\" using value \"180\"...\n",
            "Starting 3-fold cross-validation...\n",
            "Finished cross-valiation. Took 6.5 mintues.\n",
            "Mean Accuracy: 77.21%, Standard Deviation: 0.83%\n",
            "\n",
            "Evaluating parameter \"epochs\" using value \"200\"...\n",
            "Starting 3-fold cross-validation...\n",
            "Finished cross-valiation. Took 7.1 mintues.\n",
            "Mean Accuracy: 76.70%, Standard Deviation: 0.73%\n",
            "\n",
            "Evaluating parameter \"epochs\" using value \"220\"...\n",
            "Starting 3-fold cross-validation...\n",
            "Finished cross-valiation. Took 7.7 mintues.\n",
            "Mean Accuracy: 76.30%, Standard Deviation: 0.97%\n",
            "\n",
            "Evaluating parameter \"epochs\" using value \"250\"...\n",
            "Starting 3-fold cross-validation...\n",
            "Finished cross-valiation. Took 8.7 mintues.\n",
            "Mean Accuracy: 77.60%, Standard Deviation: 2.11%\n"
          ],
          "name": "stdout"
        }
      ]
    },
    {
      "metadata": {
        "id": "kVxipel4erKQ",
        "colab_type": "code",
        "colab": {}
      },
      "cell_type": "code",
      "source": [
        "def visualize(result, param_tuned):\n",
        "  \"\"\"\n",
        "  Visualizes the hyperparameter tuning result\n",
        "  \n",
        "  Params:\n",
        "    result - dict, result dict returned by the run_test() func\n",
        "    param_tuned - string, one of these:\n",
        "      ['num_units', 'num_layers', 'loss', 'initializer', 'optimizer', 'learning_rate', 'epochs', 'batch_size']\n",
        "  returns:\n",
        "    None\n",
        "  \"\"\"\n",
        "\n",
        "  d = result[param_tuned]\n",
        "\n",
        "  xs, ys = np.array(list(d.keys())), np.array(list(d.values()))\n",
        "\n",
        "  fig, ax = plt.subplots(figsize=(12, 8))\n",
        "  plt.plot(xs, ys)  \n",
        "  ax.set_xlim(xs.min()*0.9, xs.max()*1.1)\n",
        "  plt.show()"
      ],
      "execution_count": 0,
      "outputs": []
    },
    {
      "metadata": {
        "id": "lRbpxmcTlFI3",
        "colab_type": "code",
        "colab": {}
      },
      "cell_type": "code",
      "source": [
        "visualize(result, 'learning_rate')"
      ],
      "execution_count": 0,
      "outputs": []
    },
    {
      "metadata": {
        "id": "NQYJljE-Owom",
        "colab_type": "code",
        "colab": {}
      },
      "cell_type": "code",
      "source": [
        "# Now tune batch_size\n",
        "batch_size = [1, 2, 4, 8, 16, 32, 64, 128] #4\n",
        "tuning_options = {'batch_size': batch_size}\n",
        "result = run_test(tuning_options, X, y)\n",
        "visualize(result, 'batch_size')"
      ],
      "execution_count": 0,
      "outputs": []
    },
    {
      "metadata": {
        "id": "xPHlALpxJdrh",
        "colab_type": "text"
      },
      "cell_type": "markdown",
      "source": [
        "1. params class\n",
        "2. download pima from kaggle\n",
        "3. reproducibility, random search\n",
        "4. plot title\n",
        "5. code refactoring: given param dict, test results\n"
      ]
    },
    {
      "metadata": {
        "id": "IxKg9k1rRtqJ",
        "colab_type": "code",
        "colab": {}
      },
      "cell_type": "code",
      "source": [
        ""
      ],
      "execution_count": 0,
      "outputs": []
    }
  ]
}