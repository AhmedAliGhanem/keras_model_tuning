{
  "nbformat": 4,
  "nbformat_minor": 0,
  "metadata": {
    "colab": {
      "name": "keras.ipynb",
      "version": "0.3.2",
      "provenance": [],
      "collapsed_sections": [],
      "include_colab_link": true
    },
    "kernelspec": {
      "name": "python3",
      "display_name": "Python 3"
    },
    "accelerator": "GPU"
  },
  "cells": [
    {
      "cell_type": "markdown",
      "metadata": {
        "id": "view-in-github",
        "colab_type": "text"
      },
      "source": [
        "<a href=\"https://colab.research.google.com/github/georgeliu1998/keras_model_tuning/blob/master/keras.ipynb\" target=\"_parent\"><img src=\"https://colab.research.google.com/assets/colab-badge.svg\" alt=\"Open In Colab\"/></a>"
      ]
    },
    {
      "metadata": {
        "id": "Yt1IJBi1VYU7",
        "colab_type": "code",
        "colab": {}
      },
      "cell_type": "code",
      "source": [
        "from numpy.random import seed\n",
        "seed(6)\n",
        "\n",
        "from tensorflow import set_random_seed\n",
        "set_random_seed(6)\n",
        "\n",
        "import numpy as np\n",
        "seed = np.random.RandomState(6)"
      ],
      "execution_count": 0,
      "outputs": []
    },
    {
      "metadata": {
        "id": "QQl1lUm7zmN9",
        "colab_type": "code",
        "colab": {}
      },
      "cell_type": "code",
      "source": [
        "import pandas as pd\n",
        "import sklearn\n",
        "import pickle\n",
        "from time import time\n",
        "import importlib \n",
        "from copy import deepcopy\n",
        "\n",
        "from sklearn.model_selection import StratifiedKFold, cross_val_score\n",
        "from sklearn.preprocessing import StandardScaler, Normalizer\n",
        "\n",
        "import xgboost as xgb\n",
        "\n",
        "\n",
        "from keras.models import Sequential\n",
        "from keras.layers import Dense\n",
        "from keras.utils import to_categorical\n",
        "#from keras.wrappers.scikit_learn import KerasClassifier\n",
        "\n",
        "import matplotlib.pyplot as plt\n",
        "import seaborn as sns\n",
        "%matplotlib inline"
      ],
      "execution_count": 0,
      "outputs": []
    },
    {
      "metadata": {
        "id": "jUyYfdfxreXS",
        "colab_type": "code",
        "outputId": "41d35839-3bd7-4808-bcc9-c3d698e7e2c1",
        "colab": {
          "base_uri": "https://localhost:8080/",
          "height": 122
        }
      },
      "cell_type": "code",
      "source": [
        "# Mount gdrive \n",
        "from google.colab import drive\n",
        "drive.mount('/content/gdrive')"
      ],
      "execution_count": 3,
      "outputs": [
        {
          "output_type": "stream",
          "text": [
            "Go to this URL in a browser: https://accounts.google.com/o/oauth2/auth?client_id=947318989803-6bn6qk8qdgf4n4g3pfee6491hc0brc4i.apps.googleusercontent.com&redirect_uri=urn%3Aietf%3Awg%3Aoauth%3A2.0%3Aoob&scope=email%20https%3A%2F%2Fwww.googleapis.com%2Fauth%2Fdocs.test%20https%3A%2F%2Fwww.googleapis.com%2Fauth%2Fdrive%20https%3A%2F%2Fwww.googleapis.com%2Fauth%2Fdrive.photos.readonly%20https%3A%2F%2Fwww.googleapis.com%2Fauth%2Fpeopleapi.readonly&response_type=code\n",
            "\n",
            "Enter your authorization code:\n",
            "··········\n",
            "Mounted at /content/gdrive\n"
          ],
          "name": "stdout"
        }
      ]
    },
    {
      "metadata": {
        "id": "wwRIfdxNJ6oM",
        "colab_type": "code",
        "outputId": "2fc878fd-c5d2-4e86-96f6-c3915f78ff82",
        "colab": {
          "base_uri": "https://localhost:8080/",
          "height": 136
        }
      },
      "cell_type": "code",
      "source": [
        "pima = pd.read_csv(\"/content/gdrive/My Drive/pima-indians-diabetes.csv\", header=None)\n",
        "print(pima.head())\n",
        "\n",
        "# Get the features and labels as np arrays\n",
        "X, y = pima.values[:, 0:8], pima.values[:, 8]\n",
        "print(pima.shape, pima.shape)"
      ],
      "execution_count": 50,
      "outputs": [
        {
          "output_type": "stream",
          "text": [
            "   0    1   2   3    4     5      6   7  8\n",
            "0  6  148  72  35    0  33.6  0.627  50  1\n",
            "1  1   85  66  29    0  26.6  0.351  31  0\n",
            "2  8  183  64   0    0  23.3  0.672  32  1\n",
            "3  1   89  66  23   94  28.1  0.167  21  0\n",
            "4  0  137  40  35  168  43.1  2.288  33  1\n",
            "(768, 9) (768, 9)\n"
          ],
          "name": "stdout"
        }
      ]
    },
    {
      "metadata": {
        "id": "OvoThURN4WBl",
        "colab_type": "code",
        "colab": {
          "base_uri": "https://localhost:8080/",
          "height": 68
        },
        "outputId": "d4320448-2219-458c-850d-769bed152f02"
      },
      "cell_type": "code",
      "source": [
        "# Check percentage of both classes\n",
        "pima[8].value_counts()/pima.shape[0]"
      ],
      "execution_count": 51,
      "outputs": [
        {
          "output_type": "execute_result",
          "data": {
            "text/plain": [
              "0    0.651042\n",
              "1    0.348958\n",
              "Name: 8, dtype: float64"
            ]
          },
          "metadata": {
            "tags": []
          },
          "execution_count": 51
        }
      ]
    },
    {
      "metadata": {
        "id": "Che2aHnO5Q6v",
        "colab_type": "code",
        "outputId": "ad86235a-de62-46e8-b7ce-e66dd07e3ae6",
        "colab": {
          "base_uri": "https://localhost:8080/",
          "height": 51
        }
      },
      "cell_type": "code",
      "source": [
        "# Get baseline accuracy using XGBoost\n",
        "t1 = time()\n",
        "clf = xgb.XGBClassifier()\n",
        "cv = StratifiedKFold(n_splits=10, shuffle=True, random_state=seed)\n",
        "scores = cross_val_score(clf, X, y, cv=cv)\n",
        "t2 = time()\n",
        "t = t2 - t1\n",
        "\n",
        "print(\"Mean Accuracy: {:.2%}, Standard Deviation: {:.2%}\".format(scores.mean(), scores.std()))\n",
        "print(\"Time taken: {:.2f} seconds\".format(t))"
      ],
      "execution_count": 52,
      "outputs": [
        {
          "output_type": "stream",
          "text": [
            "Mean Accuracy: 75.91%, Standard Deviation: 3.62%\n",
            "Time taken: 0.41 seconds\n"
          ],
          "name": "stdout"
        }
      ]
    },
    {
      "metadata": {
        "id": "DAbFvKXxvh5k",
        "colab_type": "code",
        "colab": {
          "base_uri": "https://localhost:8080/",
          "height": 34
        },
        "outputId": "3db346f6-2729-4595-ce8a-568b293ec13a"
      },
      "cell_type": "code",
      "source": [
        "# Let's test with data standardization:\n",
        "std_scaler = StandardScaler()\n",
        "X_std = std_scaler.fit_transform(X)\n",
        "\n",
        "scores = cross_val_score(clf, X_std, y, cv=cv)\n",
        "\n",
        "print(\"Mean Accuracy: {:.2%}, Standard Deviation: {:.2%}\".format(scores.mean(), scores.std()))"
      ],
      "execution_count": 53,
      "outputs": [
        {
          "output_type": "stream",
          "text": [
            "Mean Accuracy: 76.43%, Standard Deviation: 2.19%\n"
          ],
          "name": "stdout"
        }
      ]
    },
    {
      "metadata": {
        "id": "HCQ1-GuByxYx",
        "colab_type": "code",
        "colab": {}
      },
      "cell_type": "code",
      "source": [
        "class SequentialModel:\n",
        "  \"\"\"\n",
        "  The base class for a Neural Networks model\n",
        "  \"\"\"\n",
        "  \n",
        "  def __init__(self, input_dim, num_layers, num_units, \n",
        "               activation, activation_out, \n",
        "               loss, initializer, optimizer, learning_rate, \n",
        "               epochs, batch_size, metrics=['accuracy'], one_hot=False):\n",
        "    \"\"\"\n",
        "    Params:\n",
        "      input_dim: int, number of features\n",
        "      num_layers: int, number of layers of the model (excluding the input layer)\n",
        "      num_units: list, number of units in each layer(excluding the input layer)\n",
        "      activation: str, activation function used in all layers except output\n",
        "      activation_out: str, activation function used in output layer\n",
        "      loss: str, loss functon\n",
        "      initializer: str, kernel initializer\n",
        "      optimizer: str, optimizer\n",
        "      metrics: list of strings, metrics used\n",
        "      epochs: int, number of epochs to train for\n",
        "      batch_size: int, number of samples per batch\n",
        "      one_hot: bool, whether one hot encoding is needed\n",
        "    \"\"\"\n",
        "    self.input_dim = input_dim\n",
        "    self.num_layers = num_layers\n",
        "    self.num_units = [num_units, 1]\n",
        "    self.activation = activation\n",
        "    self.activation_out = activation_out\n",
        "    self.loss = loss\n",
        "    self.initializer = initializer\n",
        "    self.optimizer = optimizer\n",
        "    self.learning_rate = learning_rate\n",
        "    self.metrics = metrics\n",
        "    self.epochs = epochs\n",
        "    self.batch_size = batch_size\n",
        "    self.one_hot = one_hot\n",
        "    \n",
        "    # Initialize the sequential model\n",
        "    self.model = Sequential()\n",
        "\n",
        "    \n",
        "  def build_model(self):\n",
        "    \"\"\"\n",
        "    Adds layers and compiles the model\n",
        "    \"\"\"\n",
        "    # Ensure num_units tuple's length is the same as num_layers\n",
        "    if self.num_layers != len(self.num_units):\n",
        "      # Expand the list by repeating number of nodes except for last layer\n",
        "      num_nodes, num_nodes_out = self.num_units[0], self.num_units[-1]\n",
        "      self.num_units = [i for i in range(self.num_layers-1) for i in [num_nodes]]\n",
        "      self.num_units.append(num_nodes_out) \n",
        " \n",
        "    # Loop thru all the layers\n",
        "    for i in range(self.num_layers):\n",
        "      # different layers should have different setups\n",
        "      if i == 0: # input and first hidden layer\n",
        "        self.model.add(Dense(units=self.num_units[i],\n",
        "                             input_dim=self.input_dim,\n",
        "                             kernel_initializer=self.initializer,\n",
        "                             activation=self.activation)) \n",
        "      elif i+1 == self.num_layers: # output layer\n",
        "        self.model.add(Dense(units=self.num_units[i],\n",
        "                             kernel_initializer=self.initializer,\n",
        "                             activation=self.activation_out))\n",
        "      else: # hidden layers\n",
        "        self.model.add(Dense(units=self.num_units[i],\n",
        "                            kernel_initializer=self.initializer,\n",
        "                            activation=self.activation))\n",
        "    \n",
        "    # Instantiate the optimizer class\n",
        "    optimizer_class = getattr(importlib.import_module(\"keras.optimizers\"), \n",
        "                             self.optimizer)\n",
        "    self.optimizer = optimizer_class(lr=self.learning_rate)\n",
        "    # Compile the model\n",
        "    self.model.compile(loss=self.loss,\n",
        "                       optimizer=self.optimizer,\n",
        "                       metrics=self.metrics)\n",
        "        \n",
        "  \n",
        "  def evaluate_model(self, X, y, n_splits=10):\n",
        "    \"\"\"\n",
        "    Evaluates the model using cross-validation.\n",
        "    \n",
        "    Params:\n",
        "      X: np.array, features\n",
        "      y: np.array, labels\n",
        "      n_splits: int, number of folds for the cross-validation\n",
        "    Returns:\n",
        "      mean_accuracy: float, the average accuracy based on the cross-validation.\n",
        "    \n",
        "    \"\"\"\n",
        "    score_lst = []\n",
        "    t1 = time()\n",
        "    \n",
        "    print(\"Starting {}-fold cross-validation...\".format(n_splits))\n",
        "    \n",
        "    kfold = StratifiedKFold(n_splits=n_splits, \n",
        "                            shuffle=True, \n",
        "                            random_state=seed)\n",
        "    \n",
        "    # Loop through the different folds\n",
        "    for train_index, test_index in kfold.split(X, y):\n",
        "      # Do one-hot encoding when needed\n",
        "      if self.one_hot:\n",
        "        y_one_hot = to_categorical(y)\n",
        "      else:\n",
        "        y_one_hot = y\n",
        "        \n",
        "      self.model.fit(X[train_index],\n",
        "                     y_one_hot[train_index],\n",
        "                     epochs=self.epochs,\n",
        "                     batch_size=self.batch_size,\n",
        "                     verbose=0)\n",
        "        \n",
        "      scores = self.model.evaluate(X[test_index],\n",
        "                                   y_one_hot[test_index], \n",
        "                                   verbose=0)\n",
        "            \n",
        "      # The second item is accuracy\n",
        "      score_lst.append(scores[1])\n",
        "\n",
        "    t2 = time()\n",
        "    t = t2 - t1\n",
        "    # Convert time to mintues\n",
        "    t /= 60\n",
        "\n",
        "    print(\"Finished cross-valiation. Took {:.1f} mintues.\".format(t))\n",
        "\n",
        "    # Convert to np.array and calculate mean and sd\n",
        "    score_lst = np.array(score_lst)\n",
        "    mean_acc = score_lst.mean()\n",
        "    sd_acc = score_lst.std()\n",
        "\n",
        "    print(\"Mean Accuracy: {:.2%}, Standard Deviation: {:.2%}\".format(mean_acc, sd_acc))\n",
        "    return mean_acc"
      ],
      "execution_count": 0,
      "outputs": []
    },
    {
      "metadata": {
        "id": "3QbFJkQVK4tQ",
        "colab_type": "code",
        "colab": {}
      },
      "cell_type": "code",
      "source": [
        "def get_defaults(input_dim=8, \n",
        "                 num_layers=2,\n",
        "                 num_units=8,\n",
        "                 activation='relu',\n",
        "                 activation_out='sigmoid',\n",
        "                 loss='binary_crossentropy',\n",
        "                 initializer='random_uniform',\n",
        "                 optimizer='adam',\n",
        "                 learning_rate=0.001,\n",
        "                 metrics=['accuracy'],\n",
        "                 epochs=10, \n",
        "                 batch_size=4,\n",
        "                 one_hot=False):\n",
        "  \"\"\"\n",
        "  Returns a dict of default hyperparameter values\n",
        "  \"\"\"\n",
        "\n",
        "  defaults = {'input_dim': input_dim, \n",
        "              'num_layers': num_layers, \n",
        "              'num_units': num_units, \n",
        "              'activation': activation, \n",
        "              'activation_out': activation_out, \n",
        "              'loss': loss, \n",
        "              'initializer': initializer, \n",
        "              'optimizer': optimizer, \n",
        "              'learning_rate': learning_rate, \n",
        "              'metrics': metrics, \n",
        "              'epochs': epochs, \n",
        "              'batch_size': batch_size, \n",
        "              'one_hot': one_hot}\n",
        "  \n",
        "  return defaults\n",
        "\n",
        "\n",
        "def get_tuning_options(**kwargs):\n",
        "  \"\"\"\n",
        "  Define tuning parameter and corresponding options\n",
        "  \n",
        "  Params:\n",
        "    -----------------####################\n",
        "  Returns:\n",
        "    -----------------####################\n",
        "  \n",
        "  \"\"\" \n",
        "  tuning_options = {}\n",
        "  \n",
        "  for param, options in kwargs.items():\n",
        "    tuning_options[param] = options \n",
        "  \n",
        "  return tuning_options"
      ],
      "execution_count": 0,
      "outputs": []
    },
    {
      "metadata": {
        "id": "c3ItJYo2Zd7o",
        "colab_type": "code",
        "colab": {}
      },
      "cell_type": "code",
      "source": [
        "def build_eval(X, y, param_dict):\n",
        "  \"\"\"\n",
        "  Builds a Neural Network model using the given params and returns the \n",
        "  cross-validation accuracy\n",
        "  \n",
        "  Params:\n",
        "    param_dict: dict - Python dict containing the tuning parameters and values\n",
        "  \n",
        "  Returns:\n",
        "    result: float - percentage accuracy based on cross-validation\n",
        "  \"\"\"\n",
        "  print(\"Building model using param_dict:\\n {}\".format(param_dict))\n",
        "  model = SequentialModel(input_dim=param_dict['input_dim'], \n",
        "                          num_layers=param_dict['num_layers'], \n",
        "                          num_units=param_dict['num_units'],\n",
        "                          activation=param_dict['activation'], \n",
        "                          activation_out=param_dict['activation_out'], \n",
        "                          loss=param_dict['loss'], \n",
        "                          initializer=param_dict['initializer'], \n",
        "                          optimizer=param_dict['optimizer'], \n",
        "                          learning_rate=param_dict['learning_rate'],\n",
        "                          epochs=param_dict['epochs'], \n",
        "                          batch_size=param_dict['batch_size'])\n",
        "  model.build_model()\n",
        "  result = model.evaluate_model(X, y)\n",
        "  \n",
        "  return result\n",
        "\n",
        "\n",
        "def run_test(X, y, param_dict, tuning_options=None):\n",
        "  \"\"\"\n",
        "  Tests different parameter's accurcy using the given tuning options\n",
        "\n",
        "  Params:\n",
        "    -----------------####################\n",
        "  Returns:\n",
        "    -----------------####################\n",
        "\n",
        "  \"\"\"\n",
        "  if tuning_options:\n",
        "    results = {}\n",
        "        \n",
        "    for parameter, options in  tuning_options.items():\n",
        "      results[parameter] = {}\n",
        "      param_dict_temp = deepcopy(param_dict)\n",
        "      \n",
        "      for option in options:\n",
        "        print(\"\\nEvaluating parameter \\\"{}\\\" using value \\\"{}\\\"...\".format(parameter, option))\n",
        "        # Update the corresponding parameter\n",
        "        param_dict_temp[parameter] = option\n",
        "        \n",
        "        try:\n",
        "          #print(\"param_dict_temp: {}\".format(param_dict_temp))\n",
        "          results[parameter][option] = build_eval(X, y, param_dict_temp)\n",
        "        except Exception as e: \n",
        "          results[parameter][option] = 'NaN'\n",
        "          print('Error: {}, skipping...'.format(e))\n",
        "          pass\n",
        "    return results\n",
        "  \n",
        "  else:\n",
        "    return build_eval(X, y, param_dict)"
      ],
      "execution_count": 0,
      "outputs": []
    },
    {
      "metadata": {
        "id": "q_xgwDiwjvHr",
        "colab_type": "code",
        "colab": {}
      },
      "cell_type": "code",
      "source": [
        "def wrangle_results(results):\n",
        "    \"\"\"\n",
        "    \n",
        "    Params:\n",
        "      results: dict - the results dict returned by the build_eval() function\n",
        "\n",
        "    Returns:\n",
        "        df_plot: pandas df, the wrangled long format dataframe\n",
        "    \"\"\"\n",
        "    df = pd.DataFrame(results)\n",
        "    # Get the col names as value vars for melt func\n",
        "    value_vars = df.columns.tolist()\n",
        "    # Reset index and rename the index col \n",
        "    df = df.reset_index().rename(columns={'index': 'option'})\n",
        "    # Transform from wide to long format for easy plotting\n",
        "    df_long = pd.melt(df, id_vars='option', value_vars=value_vars)\n",
        "    df_long = df_long.rename(columns={'variable': 'parameter'})\n",
        "    # Exclude the zero and null values\n",
        "    df_long = df_long[~df_long['value'].isnull()]\n",
        "    df_long = df_long.query(\"value!=0 & value!='NaN'\")\n",
        "\n",
        "    # Calculate the range and sd of each parameter group and convert to a df\n",
        "    ranges = df_long.groupby('parameter').apply(lambda grp: grp.value.max() - grp.value.min())\n",
        "    sd = df_long.groupby('parameter').apply(lambda grp: grp.value.std())\n",
        "    spread = pd.concat([ranges, sd], axis=1).rename(columns={0: 'ranges', 1: 'sd'})\n",
        "    # Join back the df\n",
        "    df_spread = pd.merge(df_long, spread, how='left', left_on='parameter', right_index=True)\n",
        "    # Reorder columns\n",
        "    df_spread = df_spread[['parameter', 'option', 'value', 'ranges', 'sd']]\n",
        "    # Remove the row with zero value\n",
        "    df_spread = df_spread.query('ranges!=0')\n",
        "    # Change column dtype\n",
        "    df_spread['value'] = df_spread['value'].astype(float)\n",
        "    # Sort the dataframe and use the resulting index to slice\n",
        "    # This ensures the plot will be ordered accordingly\n",
        "    idx = df_spread.sort_values(by=['ranges', 'option'], ascending=False).index\n",
        "    df_plot = df_spread.loc[idx, :]\n",
        "    \n",
        "    return df_plot\n",
        "\n",
        "  \n",
        "def get_best_options(df):\n",
        "  #df =  df.query(\"parameter==@param\")\n",
        "  best_options = df.groupby('parameter').apply(lambda grp: grp.nlargest(1, 'value'))[['parameter', 'option']].values.tolist()\n",
        "  \n",
        "  return best_options  \n",
        "\n",
        "\n",
        "def visualize_distribution(df, save_figure=False):\n",
        "  fig, ax = plt.subplots(figsize=(16, 12))\n",
        "  df['value'] =  df['value'].astype(float)\n",
        "  sns.boxplot(x='parameter', y='value', data=df, ax=ax)\n",
        "  sns.swarmplot(x='parameter', y='value', data=df, size=12, ax=ax)\n",
        "  ax.set_xlabel('Parameters',size=16)\n",
        "  ax.set_ylabel('Values',size=16)\n",
        "  fig_title = 'Parameter Tuning Results Distribution'\n",
        "  ax.set_title(fig_title, y=1.05, fontsize=30)\n",
        "  \n",
        "  if save_figure:\n",
        "    figure_name = '/content/gdrive/My Drive/' + fig_title + '.png'\n",
        "    fig.savefig(figure_name)\n",
        "\n",
        "\n",
        "def visualize_trend(df, save_figure=False):\n",
        "  fig, axes = plt.subplots(nrows=2, ncols=4, sharey=True, figsize=(30, 12))\n",
        "  axes = axes.flatten()\n",
        "  # Get the parameter list\n",
        "  params = df.parameter.unique().tolist()\n",
        "  # Loop thru the axes\n",
        "  for i, ax in enumerate(axes):\n",
        "    try:\n",
        "      # Each subplot corresponds to one parameter\n",
        "      param = params[i]\n",
        "      df_param = df.query(\"parameter==@param\")\n",
        "      df_param.plot(kind='line', x='option', y='value', ax=ax)\n",
        "      # Log-transform the x-axis for learning rate to avoid mixing up\n",
        "      if param == 'learning_rate':\n",
        "        ax.set_xscale('log')\n",
        "      # Set the x ticks and tick lables\n",
        "      if param in ('initializer', 'optimizer'):\n",
        "        ax.set_xticks(np.arange(5))\n",
        "        ax.set_xticklabels(df_param.option)\n",
        "      ax.set_xlabel(param, fontsize=16) \n",
        "      ax.set_ylabel('Accuracy', fontsize=16) \n",
        "      ax.get_legend().remove()\n",
        "    except:\n",
        "      # Remove the last axis since we have only 7 params\n",
        "      fig.delaxes(ax)\n",
        "  \n",
        "  fig_title = 'Parameter Tuning Trend'\n",
        "  fig.suptitle(fig_title, y=0.92, verticalalignment='bottom', fontsize=30)\n",
        "  \n",
        "  plt.show()\n",
        "  \n",
        "  if save_figure:\n",
        "    figure_name = '/content/gdrive/My Drive/' + fig_title + '.png'\n",
        "    fig.savefig(figure_name)\n"
      ],
      "execution_count": 0,
      "outputs": []
    },
    {
      "metadata": {
        "id": "EBf2SRgsc-bq",
        "colab_type": "code",
        "colab": {}
      },
      "cell_type": "code",
      "source": [
        "param_dict = get_defaults()\n",
        "\n",
        "num_units = [4, 8, 16, 32, 64]\n",
        "num_layers = [2, 4, 8, 16, 32]\n",
        "loss = ['binary_crossentropy', 'categorical_crossentropy', 'sparse_categorical_crossentropy']\n",
        "initializer = ['random_uniform', 'random_normal', 'TruncatedNormal', 'glorot_normal', 'glorot_uniform']\n",
        "learning_rate = [0.001, 0.002, 0.01, 0.1, 1]\n",
        "optimizer = ['adam', 'adamax', 'adagrad', 'sgd', 'rmsprop']\n",
        "epochs = [10, 20, 40, 80, 160]\n",
        "batch_size = [1, 2, 4, 8, 16]\n",
        "\n",
        "\n",
        "tuning_options = get_tuning_options(num_units=num_units, \n",
        "                                    num_layers=num_layers, \n",
        "                                    loss=loss, \n",
        "                                    initializer=initializer,\n",
        "                                    learning_rate=learning_rate, \n",
        "                                    optimizer=optimizer, \n",
        "                                    epochs=epochs, \n",
        "                                    batch_size=batch_size)"
      ],
      "execution_count": 0,
      "outputs": []
    },
    {
      "metadata": {
        "id": "8CjnqVGL_s_Q",
        "colab_type": "code",
        "outputId": "f03afea8-71f6-4c74-c26d-06897dab4d0b",
        "colab": {
          "base_uri": "https://localhost:8080/",
          "height": 139
        }
      },
      "cell_type": "code",
      "source": [
        "# Get baseline accuracy using defauls with the defined Neural Networks class  \n",
        "\n",
        "run_test(X=X, y=y, param_dict=param_dict)"
      ],
      "execution_count": 46,
      "outputs": [
        {
          "output_type": "stream",
          "text": [
            "Building model using param_dict:\n",
            " {'input_dim': 8, 'num_layers': 2, 'num_units': 8, 'activation': 'relu', 'activation_out': 'sigmoid', 'loss': 'binary_crossentropy', 'initializer': 'random_uniform', 'optimizer': 'adam', 'learning_rate': 0.001, 'metrics': ['accuracy'], 'epochs': 10, 'batch_size': 4, 'one_hot': False}\n",
            "Starting 10-fold cross-validation...\n",
            "Finished cross-valiation. Took 1.5 mintues.\n",
            "Mean Accuracy: 74.86%, Standard Deviation: 4.59%\n"
          ],
          "name": "stdout"
        },
        {
          "output_type": "execute_result",
          "data": {
            "text/plain": [
              "0.7485645950818339"
            ]
          },
          "metadata": {
            "tags": []
          },
          "execution_count": 46
        }
      ]
    },
    {
      "metadata": {
        "id": "iTqI0PIcKSIW",
        "colab_type": "code",
        "outputId": "379122f6-bf71-4f96-c0ee-6ec6d0b41540",
        "colab": {
          "base_uri": "https://localhost:8080/",
          "height": 4661
        }
      },
      "cell_type": "code",
      "source": [
        "# Test all the tuning options\n",
        "results = run_test(X=X, y=y, param_dict=param_dict,\n",
        "                   tuning_options=tuning_options)\n",
        "\n",
        "# Save the tuning results \n",
        "with open('/content/gdrive/My Drive/cross_validation_results.pkl', 'wb') as f:\n",
        "    pickle.dump(results, f, pickle.HIGHEST_PROTOCOL)\n",
        "    print(\"\\nResults saved to Google Drive successfully!\")"
      ],
      "execution_count": 13,
      "outputs": [
        {
          "output_type": "stream",
          "text": [
            "\n",
            "Evaluating parameter \"num_units\" using value \"4\"...\n",
            "Building model using param_dict:\n",
            " {'input_dim': 8, 'num_layers': 2, 'num_units': 4, 'activation': 'relu', 'activation_out': 'sigmoid', 'loss': 'binary_crossentropy', 'initializer': 'random_uniform', 'optimizer': 'adam', 'learning_rate': 0.001, 'metrics': ['accuracy'], 'epochs': 10, 'batch_size': 4, 'one_hot': False}\n",
            "Starting 10-fold cross-validation...\n",
            "Finished cross-valiation. Took 1.2 mintues.\n",
            "Mean Accuracy: 73.06%, Standard Deviation: 3.67%\n",
            "\n",
            "Evaluating parameter \"num_units\" using value \"8\"...\n",
            "Building model using param_dict:\n",
            " {'input_dim': 8, 'num_layers': 2, 'num_units': 8, 'activation': 'relu', 'activation_out': 'sigmoid', 'loss': 'binary_crossentropy', 'initializer': 'random_uniform', 'optimizer': 'adam', 'learning_rate': 0.001, 'metrics': ['accuracy'], 'epochs': 10, 'batch_size': 4, 'one_hot': False}\n",
            "Starting 10-fold cross-validation...\n",
            "Finished cross-valiation. Took 1.3 mintues.\n",
            "Mean Accuracy: 72.28%, Standard Deviation: 4.17%\n",
            "\n",
            "Evaluating parameter \"num_units\" using value \"16\"...\n",
            "Building model using param_dict:\n",
            " {'input_dim': 8, 'num_layers': 2, 'num_units': 16, 'activation': 'relu', 'activation_out': 'sigmoid', 'loss': 'binary_crossentropy', 'initializer': 'random_uniform', 'optimizer': 'adam', 'learning_rate': 0.001, 'metrics': ['accuracy'], 'epochs': 10, 'batch_size': 4, 'one_hot': False}\n",
            "Starting 10-fold cross-validation...\n",
            "Finished cross-valiation. Took 1.3 mintues.\n",
            "Mean Accuracy: 74.08%, Standard Deviation: 3.83%\n",
            "\n",
            "Evaluating parameter \"num_units\" using value \"32\"...\n",
            "Building model using param_dict:\n",
            " {'input_dim': 8, 'num_layers': 2, 'num_units': 32, 'activation': 'relu', 'activation_out': 'sigmoid', 'loss': 'binary_crossentropy', 'initializer': 'random_uniform', 'optimizer': 'adam', 'learning_rate': 0.001, 'metrics': ['accuracy'], 'epochs': 10, 'batch_size': 4, 'one_hot': False}\n",
            "Starting 10-fold cross-validation...\n",
            "Finished cross-valiation. Took 1.2 mintues.\n",
            "Mean Accuracy: 73.71%, Standard Deviation: 2.83%\n",
            "\n",
            "Evaluating parameter \"num_units\" using value \"64\"...\n",
            "Building model using param_dict:\n",
            " {'input_dim': 8, 'num_layers': 2, 'num_units': 64, 'activation': 'relu', 'activation_out': 'sigmoid', 'loss': 'binary_crossentropy', 'initializer': 'random_uniform', 'optimizer': 'adam', 'learning_rate': 0.001, 'metrics': ['accuracy'], 'epochs': 10, 'batch_size': 4, 'one_hot': False}\n",
            "Starting 10-fold cross-validation...\n",
            "Finished cross-valiation. Took 1.2 mintues.\n",
            "Mean Accuracy: 72.80%, Standard Deviation: 5.75%\n",
            "\n",
            "Evaluating parameter \"num_layers\" using value \"2\"...\n",
            "Building model using param_dict:\n",
            " {'input_dim': 8, 'num_layers': 2, 'num_units': 8, 'activation': 'relu', 'activation_out': 'sigmoid', 'loss': 'binary_crossentropy', 'initializer': 'random_uniform', 'optimizer': 'adam', 'learning_rate': 0.001, 'metrics': ['accuracy'], 'epochs': 10, 'batch_size': 4, 'one_hot': False}\n",
            "Starting 10-fold cross-validation...\n",
            "Finished cross-valiation. Took 1.3 mintues.\n",
            "Mean Accuracy: 73.06%, Standard Deviation: 4.59%\n",
            "\n",
            "Evaluating parameter \"num_layers\" using value \"4\"...\n",
            "Building model using param_dict:\n",
            " {'input_dim': 8, 'num_layers': 4, 'num_units': 8, 'activation': 'relu', 'activation_out': 'sigmoid', 'loss': 'binary_crossentropy', 'initializer': 'random_uniform', 'optimizer': 'adam', 'learning_rate': 0.001, 'metrics': ['accuracy'], 'epochs': 10, 'batch_size': 4, 'one_hot': False}\n",
            "Starting 10-fold cross-validation...\n",
            "Finished cross-valiation. Took 1.6 mintues.\n",
            "Mean Accuracy: 75.12%, Standard Deviation: 5.67%\n",
            "\n",
            "Evaluating parameter \"num_layers\" using value \"8\"...\n",
            "Building model using param_dict:\n",
            " {'input_dim': 8, 'num_layers': 8, 'num_units': 8, 'activation': 'relu', 'activation_out': 'sigmoid', 'loss': 'binary_crossentropy', 'initializer': 'random_uniform', 'optimizer': 'adam', 'learning_rate': 0.001, 'metrics': ['accuracy'], 'epochs': 10, 'batch_size': 4, 'one_hot': False}\n",
            "Starting 10-fold cross-validation...\n",
            "Finished cross-valiation. Took 2.4 mintues.\n",
            "Mean Accuracy: 73.71%, Standard Deviation: 5.77%\n",
            "\n",
            "Evaluating parameter \"num_layers\" using value \"16\"...\n",
            "Building model using param_dict:\n",
            " {'input_dim': 8, 'num_layers': 16, 'num_units': 8, 'activation': 'relu', 'activation_out': 'sigmoid', 'loss': 'binary_crossentropy', 'initializer': 'random_uniform', 'optimizer': 'adam', 'learning_rate': 0.001, 'metrics': ['accuracy'], 'epochs': 10, 'batch_size': 4, 'one_hot': False}\n",
            "Starting 10-fold cross-validation...\n",
            "Finished cross-valiation. Took 3.7 mintues.\n",
            "Mean Accuracy: 65.11%, Standard Deviation: 0.34%\n",
            "\n",
            "Evaluating parameter \"num_layers\" using value \"32\"...\n",
            "Building model using param_dict:\n",
            " {'input_dim': 8, 'num_layers': 32, 'num_units': 8, 'activation': 'relu', 'activation_out': 'sigmoid', 'loss': 'binary_crossentropy', 'initializer': 'random_uniform', 'optimizer': 'adam', 'learning_rate': 0.001, 'metrics': ['accuracy'], 'epochs': 10, 'batch_size': 4, 'one_hot': False}\n",
            "Starting 10-fold cross-validation...\n",
            "Finished cross-valiation. Took 6.3 mintues.\n",
            "Mean Accuracy: 65.11%, Standard Deviation: 0.34%\n",
            "\n",
            "Evaluating parameter \"loss\" using value \"binary_crossentropy\"...\n",
            "Building model using param_dict:\n",
            " {'input_dim': 8, 'num_layers': 2, 'num_units': 8, 'activation': 'relu', 'activation_out': 'sigmoid', 'loss': 'binary_crossentropy', 'initializer': 'random_uniform', 'optimizer': 'adam', 'learning_rate': 0.001, 'metrics': ['accuracy'], 'epochs': 10, 'batch_size': 4, 'one_hot': False}\n",
            "Starting 10-fold cross-validation...\n",
            "Finished cross-valiation. Took 1.4 mintues.\n",
            "Mean Accuracy: 73.59%, Standard Deviation: 7.18%\n",
            "\n",
            "Evaluating parameter \"loss\" using value \"categorical_crossentropy\"...\n",
            "Building model using param_dict:\n",
            " {'input_dim': 8, 'num_layers': 2, 'num_units': 8, 'activation': 'relu', 'activation_out': 'sigmoid', 'loss': 'categorical_crossentropy', 'initializer': 'random_uniform', 'optimizer': 'adam', 'learning_rate': 0.001, 'metrics': ['accuracy'], 'epochs': 10, 'batch_size': 4, 'one_hot': False}\n",
            "Starting 10-fold cross-validation...\n",
            "Error: You are passing a target array of shape (691, 1) while using as loss `categorical_crossentropy`. `categorical_crossentropy` expects targets to be binary matrices (1s and 0s) of shape (samples, classes). If your targets are integer classes, you can convert them to the expected format via:\n",
            "```\n",
            "from keras.utils import to_categorical\n",
            "y_binary = to_categorical(y_int)\n",
            "```\n",
            "\n",
            "Alternatively, you can use the loss function `sparse_categorical_crossentropy` instead, which does expect integer targets., skipping...\n",
            "\n",
            "Evaluating parameter \"loss\" using value \"sparse_categorical_crossentropy\"...\n",
            "Building model using param_dict:\n",
            " {'input_dim': 8, 'num_layers': 2, 'num_units': 8, 'activation': 'relu', 'activation_out': 'sigmoid', 'loss': 'sparse_categorical_crossentropy', 'initializer': 'random_uniform', 'optimizer': 'adam', 'learning_rate': 0.001, 'metrics': ['accuracy'], 'epochs': 10, 'batch_size': 4, 'one_hot': False}\n",
            "Starting 10-fold cross-validation...\n",
            "Finished cross-valiation. Took 1.2 mintues.\n",
            "Mean Accuracy: 0.00%, Standard Deviation: 0.00%\n",
            "\n",
            "Evaluating parameter \"initializer\" using value \"random_uniform\"...\n",
            "Building model using param_dict:\n",
            " {'input_dim': 8, 'num_layers': 2, 'num_units': 8, 'activation': 'relu', 'activation_out': 'sigmoid', 'loss': 'binary_crossentropy', 'initializer': 'random_uniform', 'optimizer': 'adam', 'learning_rate': 0.001, 'metrics': ['accuracy'], 'epochs': 10, 'batch_size': 4, 'one_hot': False}\n",
            "Starting 10-fold cross-validation...\n",
            "Finished cross-valiation. Took 1.4 mintues.\n",
            "Mean Accuracy: 72.00%, Standard Deviation: 4.74%\n",
            "\n",
            "Evaluating parameter \"initializer\" using value \"random_normal\"...\n",
            "Building model using param_dict:\n",
            " {'input_dim': 8, 'num_layers': 2, 'num_units': 8, 'activation': 'relu', 'activation_out': 'sigmoid', 'loss': 'binary_crossentropy', 'initializer': 'random_normal', 'optimizer': 'adam', 'learning_rate': 0.001, 'metrics': ['accuracy'], 'epochs': 10, 'batch_size': 4, 'one_hot': False}\n",
            "Starting 10-fold cross-validation...\n",
            "Finished cross-valiation. Took 1.4 mintues.\n",
            "Mean Accuracy: 69.27%, Standard Deviation: 1.83%\n",
            "\n",
            "Evaluating parameter \"initializer\" using value \"TruncatedNormal\"...\n",
            "Building model using param_dict:\n",
            " {'input_dim': 8, 'num_layers': 2, 'num_units': 8, 'activation': 'relu', 'activation_out': 'sigmoid', 'loss': 'binary_crossentropy', 'initializer': 'TruncatedNormal', 'optimizer': 'adam', 'learning_rate': 0.001, 'metrics': ['accuracy'], 'epochs': 10, 'batch_size': 4, 'one_hot': False}\n",
            "Starting 10-fold cross-validation...\n",
            "Finished cross-valiation. Took 1.4 mintues.\n",
            "Mean Accuracy: 72.93%, Standard Deviation: 4.72%\n",
            "\n",
            "Evaluating parameter \"initializer\" using value \"glorot_normal\"...\n",
            "Building model using param_dict:\n",
            " {'input_dim': 8, 'num_layers': 2, 'num_units': 8, 'activation': 'relu', 'activation_out': 'sigmoid', 'loss': 'binary_crossentropy', 'initializer': 'glorot_normal', 'optimizer': 'adam', 'learning_rate': 0.001, 'metrics': ['accuracy'], 'epochs': 10, 'batch_size': 4, 'one_hot': False}\n",
            "Starting 10-fold cross-validation...\n",
            "Finished cross-valiation. Took 1.4 mintues.\n",
            "Mean Accuracy: 65.50%, Standard Deviation: 1.75%\n",
            "\n",
            "Evaluating parameter \"initializer\" using value \"glorot_uniform\"...\n",
            "Building model using param_dict:\n",
            " {'input_dim': 8, 'num_layers': 2, 'num_units': 8, 'activation': 'relu', 'activation_out': 'sigmoid', 'loss': 'binary_crossentropy', 'initializer': 'glorot_uniform', 'optimizer': 'adam', 'learning_rate': 0.001, 'metrics': ['accuracy'], 'epochs': 10, 'batch_size': 4, 'one_hot': False}\n",
            "Starting 10-fold cross-validation...\n",
            "Finished cross-valiation. Took 1.4 mintues.\n",
            "Mean Accuracy: 67.83%, Standard Deviation: 6.66%\n",
            "\n",
            "Evaluating parameter \"learning_rate\" using value \"0.001\"...\n",
            "Building model using param_dict:\n",
            " {'input_dim': 8, 'num_layers': 2, 'num_units': 8, 'activation': 'relu', 'activation_out': 'sigmoid', 'loss': 'binary_crossentropy', 'initializer': 'random_uniform', 'optimizer': 'adam', 'learning_rate': 0.001, 'metrics': ['accuracy'], 'epochs': 10, 'batch_size': 4, 'one_hot': False}\n",
            "Starting 10-fold cross-validation...\n",
            "Finished cross-valiation. Took 1.4 mintues.\n",
            "Mean Accuracy: 72.54%, Standard Deviation: 5.46%\n",
            "\n",
            "Evaluating parameter \"learning_rate\" using value \"0.002\"...\n",
            "Building model using param_dict:\n",
            " {'input_dim': 8, 'num_layers': 2, 'num_units': 8, 'activation': 'relu', 'activation_out': 'sigmoid', 'loss': 'binary_crossentropy', 'initializer': 'random_uniform', 'optimizer': 'adam', 'learning_rate': 0.002, 'metrics': ['accuracy'], 'epochs': 10, 'batch_size': 4, 'one_hot': False}\n",
            "Starting 10-fold cross-validation...\n",
            "Finished cross-valiation. Took 1.4 mintues.\n",
            "Mean Accuracy: 72.54%, Standard Deviation: 6.02%\n",
            "\n",
            "Evaluating parameter \"learning_rate\" using value \"0.01\"...\n",
            "Building model using param_dict:\n",
            " {'input_dim': 8, 'num_layers': 2, 'num_units': 8, 'activation': 'relu', 'activation_out': 'sigmoid', 'loss': 'binary_crossentropy', 'initializer': 'random_uniform', 'optimizer': 'adam', 'learning_rate': 0.01, 'metrics': ['accuracy'], 'epochs': 10, 'batch_size': 4, 'one_hot': False}\n",
            "Starting 10-fold cross-validation...\n",
            "Finished cross-valiation. Took 1.4 mintues.\n",
            "Mean Accuracy: 65.11%, Standard Deviation: 0.34%\n",
            "\n",
            "Evaluating parameter \"learning_rate\" using value \"0.1\"...\n",
            "Building model using param_dict:\n",
            " {'input_dim': 8, 'num_layers': 2, 'num_units': 8, 'activation': 'relu', 'activation_out': 'sigmoid', 'loss': 'binary_crossentropy', 'initializer': 'random_uniform', 'optimizer': 'adam', 'learning_rate': 0.1, 'metrics': ['accuracy'], 'epochs': 10, 'batch_size': 4, 'one_hot': False}\n",
            "Starting 10-fold cross-validation...\n",
            "Finished cross-valiation. Took 1.4 mintues.\n",
            "Mean Accuracy: 65.11%, Standard Deviation: 0.34%\n",
            "\n",
            "Evaluating parameter \"learning_rate\" using value \"1\"...\n",
            "Building model using param_dict:\n",
            " {'input_dim': 8, 'num_layers': 2, 'num_units': 8, 'activation': 'relu', 'activation_out': 'sigmoid', 'loss': 'binary_crossentropy', 'initializer': 'random_uniform', 'optimizer': 'adam', 'learning_rate': 1, 'metrics': ['accuracy'], 'epochs': 10, 'batch_size': 4, 'one_hot': False}\n",
            "Starting 10-fold cross-validation...\n",
            "Finished cross-valiation. Took 1.4 mintues.\n",
            "Mean Accuracy: 59.39%, Standard Deviation: 12.06%\n",
            "\n",
            "Evaluating parameter \"optimizer\" using value \"adam\"...\n",
            "Building model using param_dict:\n",
            " {'input_dim': 8, 'num_layers': 2, 'num_units': 8, 'activation': 'relu', 'activation_out': 'sigmoid', 'loss': 'binary_crossentropy', 'initializer': 'random_uniform', 'optimizer': 'adam', 'learning_rate': 0.001, 'metrics': ['accuracy'], 'epochs': 10, 'batch_size': 4, 'one_hot': False}\n",
            "Starting 10-fold cross-validation...\n",
            "Finished cross-valiation. Took 1.4 mintues.\n",
            "Mean Accuracy: 71.10%, Standard Deviation: 5.22%\n",
            "\n",
            "Evaluating parameter \"optimizer\" using value \"adamax\"...\n",
            "Building model using param_dict:\n",
            " {'input_dim': 8, 'num_layers': 2, 'num_units': 8, 'activation': 'relu', 'activation_out': 'sigmoid', 'loss': 'binary_crossentropy', 'initializer': 'random_uniform', 'optimizer': 'adamax', 'learning_rate': 0.001, 'metrics': ['accuracy'], 'epochs': 10, 'batch_size': 4, 'one_hot': False}\n",
            "Starting 10-fold cross-validation...\n",
            "Finished cross-valiation. Took 1.3 mintues.\n",
            "Mean Accuracy: 71.12%, Standard Deviation: 6.52%\n",
            "\n",
            "Evaluating parameter \"optimizer\" using value \"adagrad\"...\n",
            "Building model using param_dict:\n",
            " {'input_dim': 8, 'num_layers': 2, 'num_units': 8, 'activation': 'relu', 'activation_out': 'sigmoid', 'loss': 'binary_crossentropy', 'initializer': 'random_uniform', 'optimizer': 'adagrad', 'learning_rate': 0.001, 'metrics': ['accuracy'], 'epochs': 10, 'batch_size': 4, 'one_hot': False}\n",
            "Starting 10-fold cross-validation...\n",
            "Finished cross-valiation. Took 1.3 mintues.\n",
            "Mean Accuracy: 65.36%, Standard Deviation: 1.78%\n",
            "\n",
            "Evaluating parameter \"optimizer\" using value \"sgd\"...\n",
            "Building model using param_dict:\n",
            " {'input_dim': 8, 'num_layers': 2, 'num_units': 8, 'activation': 'relu', 'activation_out': 'sigmoid', 'loss': 'binary_crossentropy', 'initializer': 'random_uniform', 'optimizer': 'sgd', 'learning_rate': 0.001, 'metrics': ['accuracy'], 'epochs': 10, 'batch_size': 4, 'one_hot': False}\n",
            "Starting 10-fold cross-validation...\n",
            "Finished cross-valiation. Took 1.2 mintues.\n",
            "Mean Accuracy: 68.89%, Standard Deviation: 4.09%\n",
            "\n",
            "Evaluating parameter \"optimizer\" using value \"rmsprop\"...\n",
            "Building model using param_dict:\n",
            " {'input_dim': 8, 'num_layers': 2, 'num_units': 8, 'activation': 'relu', 'activation_out': 'sigmoid', 'loss': 'binary_crossentropy', 'initializer': 'random_uniform', 'optimizer': 'rmsprop', 'learning_rate': 0.001, 'metrics': ['accuracy'], 'epochs': 10, 'batch_size': 4, 'one_hot': False}\n",
            "Starting 10-fold cross-validation...\n",
            "Finished cross-valiation. Took 1.3 mintues.\n",
            "Mean Accuracy: 68.37%, Standard Deviation: 4.52%\n",
            "\n",
            "Evaluating parameter \"epochs\" using value \"10\"...\n",
            "Building model using param_dict:\n",
            " {'input_dim': 8, 'num_layers': 2, 'num_units': 8, 'activation': 'relu', 'activation_out': 'sigmoid', 'loss': 'binary_crossentropy', 'initializer': 'random_uniform', 'optimizer': 'adam', 'learning_rate': 0.001, 'metrics': ['accuracy'], 'epochs': 10, 'batch_size': 4, 'one_hot': False}\n",
            "Starting 10-fold cross-validation...\n",
            "Finished cross-valiation. Took 1.4 mintues.\n",
            "Mean Accuracy: 72.54%, Standard Deviation: 3.61%\n",
            "\n",
            "Evaluating parameter \"epochs\" using value \"20\"...\n",
            "Building model using param_dict:\n",
            " {'input_dim': 8, 'num_layers': 2, 'num_units': 8, 'activation': 'relu', 'activation_out': 'sigmoid', 'loss': 'binary_crossentropy', 'initializer': 'random_uniform', 'optimizer': 'adam', 'learning_rate': 0.001, 'metrics': ['accuracy'], 'epochs': 20, 'batch_size': 4, 'one_hot': False}\n",
            "Starting 10-fold cross-validation...\n",
            "Finished cross-valiation. Took 2.8 mintues.\n",
            "Mean Accuracy: 74.89%, Standard Deviation: 5.63%\n",
            "\n",
            "Evaluating parameter \"epochs\" using value \"40\"...\n",
            "Building model using param_dict:\n",
            " {'input_dim': 8, 'num_layers': 2, 'num_units': 8, 'activation': 'relu', 'activation_out': 'sigmoid', 'loss': 'binary_crossentropy', 'initializer': 'random_uniform', 'optimizer': 'adam', 'learning_rate': 0.001, 'metrics': ['accuracy'], 'epochs': 40, 'batch_size': 4, 'one_hot': False}\n",
            "Starting 10-fold cross-validation...\n",
            "Finished cross-valiation. Took 5.6 mintues.\n",
            "Mean Accuracy: 72.16%, Standard Deviation: 5.44%\n",
            "\n",
            "Evaluating parameter \"epochs\" using value \"80\"...\n",
            "Building model using param_dict:\n",
            " {'input_dim': 8, 'num_layers': 2, 'num_units': 8, 'activation': 'relu', 'activation_out': 'sigmoid', 'loss': 'binary_crossentropy', 'initializer': 'random_uniform', 'optimizer': 'adam', 'learning_rate': 0.001, 'metrics': ['accuracy'], 'epochs': 80, 'batch_size': 4, 'one_hot': False}\n",
            "Starting 10-fold cross-validation...\n",
            "Finished cross-valiation. Took 11.2 mintues.\n",
            "Mean Accuracy: 76.32%, Standard Deviation: 4.80%\n",
            "\n",
            "Evaluating parameter \"epochs\" using value \"160\"...\n",
            "Building model using param_dict:\n",
            " {'input_dim': 8, 'num_layers': 2, 'num_units': 8, 'activation': 'relu', 'activation_out': 'sigmoid', 'loss': 'binary_crossentropy', 'initializer': 'random_uniform', 'optimizer': 'adam', 'learning_rate': 0.001, 'metrics': ['accuracy'], 'epochs': 160, 'batch_size': 4, 'one_hot': False}\n",
            "Starting 10-fold cross-validation...\n",
            "Finished cross-valiation. Took 22.4 mintues.\n",
            "Mean Accuracy: 73.96%, Standard Deviation: 4.13%\n",
            "\n",
            "Evaluating parameter \"batch_size\" using value \"1\"...\n",
            "Building model using param_dict:\n",
            " {'input_dim': 8, 'num_layers': 2, 'num_units': 8, 'activation': 'relu', 'activation_out': 'sigmoid', 'loss': 'binary_crossentropy', 'initializer': 'random_uniform', 'optimizer': 'adam', 'learning_rate': 0.001, 'metrics': ['accuracy'], 'epochs': 10, 'batch_size': 1, 'one_hot': False}\n",
            "Starting 10-fold cross-validation...\n",
            "Finished cross-valiation. Took 5.5 mintues.\n",
            "Mean Accuracy: 72.81%, Standard Deviation: 6.67%\n",
            "\n",
            "Evaluating parameter \"batch_size\" using value \"2\"...\n",
            "Building model using param_dict:\n",
            " {'input_dim': 8, 'num_layers': 2, 'num_units': 8, 'activation': 'relu', 'activation_out': 'sigmoid', 'loss': 'binary_crossentropy', 'initializer': 'random_uniform', 'optimizer': 'adam', 'learning_rate': 0.001, 'metrics': ['accuracy'], 'epochs': 10, 'batch_size': 2, 'one_hot': False}\n",
            "Starting 10-fold cross-validation...\n",
            "Finished cross-valiation. Took 2.8 mintues.\n",
            "Mean Accuracy: 72.40%, Standard Deviation: 3.68%\n",
            "\n",
            "Evaluating parameter \"batch_size\" using value \"4\"...\n",
            "Building model using param_dict:\n",
            " {'input_dim': 8, 'num_layers': 2, 'num_units': 8, 'activation': 'relu', 'activation_out': 'sigmoid', 'loss': 'binary_crossentropy', 'initializer': 'random_uniform', 'optimizer': 'adam', 'learning_rate': 0.001, 'metrics': ['accuracy'], 'epochs': 10, 'batch_size': 4, 'one_hot': False}\n",
            "Starting 10-fold cross-validation...\n",
            "Finished cross-valiation. Took 1.4 mintues.\n",
            "Mean Accuracy: 71.76%, Standard Deviation: 5.69%\n",
            "\n",
            "Evaluating parameter \"batch_size\" using value \"8\"...\n",
            "Building model using param_dict:\n",
            " {'input_dim': 8, 'num_layers': 2, 'num_units': 8, 'activation': 'relu', 'activation_out': 'sigmoid', 'loss': 'binary_crossentropy', 'initializer': 'random_uniform', 'optimizer': 'adam', 'learning_rate': 0.001, 'metrics': ['accuracy'], 'epochs': 10, 'batch_size': 8, 'one_hot': False}\n",
            "Starting 10-fold cross-validation...\n",
            "Finished cross-valiation. Took 0.8 mintues.\n",
            "Mean Accuracy: 71.88%, Standard Deviation: 3.93%\n",
            "\n",
            "Evaluating parameter \"batch_size\" using value \"16\"...\n",
            "Building model using param_dict:\n",
            " {'input_dim': 8, 'num_layers': 2, 'num_units': 8, 'activation': 'relu', 'activation_out': 'sigmoid', 'loss': 'binary_crossentropy', 'initializer': 'random_uniform', 'optimizer': 'adam', 'learning_rate': 0.001, 'metrics': ['accuracy'], 'epochs': 10, 'batch_size': 16, 'one_hot': False}\n",
            "Starting 10-fold cross-validation...\n",
            "Finished cross-valiation. Took 0.4 mintues.\n",
            "Mean Accuracy: 70.57%, Standard Deviation: 2.91%\n",
            "Results saved to Google Drive successfully!\n"
          ],
          "name": "stdout"
        }
      ]
    },
    {
      "metadata": {
        "id": "Kozw8MO7Iu3I",
        "colab_type": "code",
        "outputId": "29b430bb-2005-43a8-ae43-c9b360818272",
        "colab": {
          "base_uri": "https://localhost:8080/",
          "height": 102
        }
      },
      "cell_type": "code",
      "source": [
        "# Load the pickled results dict\n",
        "with open('/content/gdrive/My Drive/cross_validation_results.pkl', 'rb') as f:\n",
        "    results = pickle.load(f)\n",
        "\n",
        "df = wrangle_results(results)"
      ],
      "execution_count": 15,
      "outputs": [
        {
          "output_type": "stream",
          "text": [
            "/usr/local/lib/python3.6/dist-packages/ipykernel_launcher.py:33: SettingWithCopyWarning: \n",
            "A value is trying to be set on a copy of a slice from a DataFrame.\n",
            "Try using .loc[row_indexer,col_indexer] = value instead\n",
            "\n",
            "See the caveats in the documentation: http://pandas.pydata.org/pandas-docs/stable/indexing.html#indexing-view-versus-copy\n"
          ],
          "name": "stderr"
        }
      ]
    },
    {
      "metadata": {
        "id": "exxz2QY_EawU",
        "colab_type": "code",
        "outputId": "196cf4ee-46d8-47e8-b56d-50a72795b0eb",
        "colab": {
          "base_uri": "https://localhost:8080/",
          "height": 814
        }
      },
      "cell_type": "code",
      "source": [
        "visualize_distribution(df)"
      ],
      "execution_count": 16,
      "outputs": [
        {
          "output_type": "stream",
          "text": [
            "/usr/local/lib/python3.6/dist-packages/seaborn/categorical.py:454: FutureWarning: remove_na is deprecated and is a private function. Do not use.\n",
            "  box_data = remove_na(group_data)\n"
          ],
          "name": "stderr"
        },
        {
          "output_type": "display_data",
          "data": {
            "image/png": "[encoded data removed]",
            "text/plain": [
              "<matplotlib.figure.Figure at 0x7fb443c555c0>"
            ]
          },
          "metadata": {
            "tags": []
          }
        }
      ]
    },
    {
      "metadata": {
        "id": "homU6uWWEeoN",
        "colab_type": "code",
        "outputId": "798e7243-7bbe-474a-a9f2-bb1490e57a0a",
        "colab": {
          "base_uri": "https://localhost:8080/",
          "height": 782
        }
      },
      "cell_type": "code",
      "source": [
        "visualize_trend(df)"
      ],
      "execution_count": 17,
      "outputs": [
        {
          "output_type": "display_data",
          "data": {
            "image/png": "[encoded data removed]",
            "text/plain": [
              "<matplotlib.figure.Figure at 0x7fb443728860>"
            ]
          },
          "metadata": {
            "tags": []
          }
        }
      ]
    },
    {
      "metadata": {
        "id": "r2LScFOJRKpZ",
        "colab_type": "code",
        "outputId": "58d1630d-90e7-4dc9-f8b0-4143ca557999",
        "colab": {
          "base_uri": "https://localhost:8080/",
          "height": 71
        }
      },
      "cell_type": "code",
      "source": [
        "best_options = get_best_options(df)\n",
        "print(best_options)\n",
        "\n",
        "for i in best_options:\n",
        "  param_dict[i[0]] = i[1]\n",
        "print(param_dict)"
      ],
      "execution_count": 18,
      "outputs": [
        {
          "output_type": "stream",
          "text": [
            "[['batch_size', 1], ['epochs', 80], ['initializer', 'TruncatedNormal'], ['learning_rate', 0.001], ['num_layers', 4], ['num_units', 16], ['optimizer', 'adamax']]\n",
            "{'input_dim': 8, 'num_layers': 4, 'num_units': 16, 'activation': 'relu', 'activation_out': 'sigmoid', 'loss': 'binary_crossentropy', 'initializer': 'TruncatedNormal', 'optimizer': 'adamax', 'learning_rate': 0.001, 'metrics': ['accuracy'], 'epochs': 80, 'batch_size': 1, 'one_hot': False}\n"
          ],
          "name": "stdout"
        }
      ]
    },
    {
      "metadata": {
        "id": "-8DnyqKeg3tq",
        "colab_type": "code",
        "colab": {
          "base_uri": "https://localhost:8080/",
          "height": 139
        },
        "outputId": "478729a5-4c3d-4dc9-96fb-678bc26e1076"
      },
      "cell_type": "code",
      "source": [
        "# Build a model using the best options\n",
        "run_test(X=X, y=y, param_dict=param_dict)"
      ],
      "execution_count": 19,
      "outputs": [
        {
          "output_type": "stream",
          "text": [
            "Building model using param_dict:\n",
            " {'input_dim': 8, 'num_layers': 4, 'num_units': 16, 'activation': 'relu', 'activation_out': 'sigmoid', 'loss': 'binary_crossentropy', 'initializer': 'TruncatedNormal', 'optimizer': 'adamax', 'learning_rate': 0.001, 'metrics': ['accuracy'], 'epochs': 80, 'batch_size': 1, 'one_hot': False}\n",
            "Starting 10-fold cross-validation...\n",
            "Finished cross-valiation. Took 50.1 mintues.\n",
            "Mean Accuracy: 78.13%, Standard Deviation: 4.50%\n"
          ],
          "name": "stdout"
        },
        {
          "output_type": "execute_result",
          "data": {
            "text/plain": [
              "0.7813055378805671"
            ]
          },
          "metadata": {
            "tags": []
          },
          "execution_count": 19
        }
      ]
    },
    {
      "metadata": {
        "id": "MaW_K9aD9Jyg",
        "colab_type": "text"
      },
      "cell_type": "markdown",
      "source": [
        "Wow, that's brutal - it took 50 minutes! But I guess I cannot complain since the result is great! Definitely close to top results for this dataset. Let's now try tuning individual parameters using the default parameter settings.\n",
        "\n"
      ]
    },
    {
      "metadata": {
        "id": "6e3KFWmRh8bS",
        "colab_type": "code",
        "outputId": "dae24914-33ed-4dec-b5d2-6d1b190adf2f",
        "colab": {
          "base_uri": "https://localhost:8080/",
          "height": 751
        }
      },
      "cell_type": "code",
      "source": [
        "param_dict = get_defaults()\n",
        "# Get 6 randomly generated learning rates\n",
        "bases = np.repeat(10, 6)\n",
        "exponents = -(np.random.rand(6) + 2) # the exponent should be between -2 and -3\n",
        "learning_rate = np.power(bases, exponents).tolist() \n",
        "\n",
        "tuning_options = get_tuning_options(learning_rate=learning_rate)\n",
        "\n",
        "results = run_test(X=X, y=y, \n",
        "                   param_dict=param_dict, \n",
        "                   tuning_options=tuning_options)"
      ],
      "execution_count": 20,
      "outputs": [
        {
          "output_type": "stream",
          "text": [
            "\n",
            "Evaluating parameter \"learning_rate\" using value \"0.0011589780553470678\"...\n",
            "Building model using param_dict:\n",
            " {'input_dim': 8, 'num_layers': 2, 'num_units': 8, 'activation': 'relu', 'activation_out': 'sigmoid', 'loss': 'binary_crossentropy', 'initializer': 'random_uniform', 'optimizer': 'adam', 'learning_rate': 0.0011589780553470678, 'metrics': ['accuracy'], 'epochs': 10, 'batch_size': 4, 'one_hot': False}\n",
            "Starting 10-fold cross-validation...\n",
            "Finished cross-valiation. Took 1.4 mintues.\n",
            "Mean Accuracy: 73.83%, Standard Deviation: 5.48%\n",
            "\n",
            "Evaluating parameter \"learning_rate\" using value \"0.0014018907004056484\"...\n",
            "Building model using param_dict:\n",
            " {'input_dim': 8, 'num_layers': 2, 'num_units': 8, 'activation': 'relu', 'activation_out': 'sigmoid', 'loss': 'binary_crossentropy', 'initializer': 'random_uniform', 'optimizer': 'adam', 'learning_rate': 0.0014018907004056484, 'metrics': ['accuracy'], 'epochs': 10, 'batch_size': 4, 'one_hot': False}\n",
            "Starting 10-fold cross-validation...\n",
            "Finished cross-valiation. Took 1.4 mintues.\n",
            "Mean Accuracy: 73.57%, Standard Deviation: 6.10%\n",
            "\n",
            "Evaluating parameter \"learning_rate\" using value \"0.003560783975913642\"...\n",
            "Building model using param_dict:\n",
            " {'input_dim': 8, 'num_layers': 2, 'num_units': 8, 'activation': 'relu', 'activation_out': 'sigmoid', 'loss': 'binary_crossentropy', 'initializer': 'random_uniform', 'optimizer': 'adam', 'learning_rate': 0.003560783975913642, 'metrics': ['accuracy'], 'epochs': 10, 'batch_size': 4, 'one_hot': False}\n",
            "Starting 10-fold cross-validation...\n",
            "Finished cross-valiation. Took 1.4 mintues.\n",
            "Mean Accuracy: 73.70%, Standard Deviation: 6.38%\n",
            "\n",
            "Evaluating parameter \"learning_rate\" using value \"0.004619715563833756\"...\n",
            "Building model using param_dict:\n",
            " {'input_dim': 8, 'num_layers': 2, 'num_units': 8, 'activation': 'relu', 'activation_out': 'sigmoid', 'loss': 'binary_crossentropy', 'initializer': 'random_uniform', 'optimizer': 'adam', 'learning_rate': 0.004619715563833756, 'metrics': ['accuracy'], 'epochs': 10, 'batch_size': 4, 'one_hot': False}\n",
            "Starting 10-fold cross-validation...\n",
            "Finished cross-valiation. Took 1.4 mintues.\n",
            "Mean Accuracy: 72.14%, Standard Deviation: 2.59%\n",
            "\n",
            "Evaluating parameter \"learning_rate\" using value \"0.0038964954650687\"...\n",
            "Building model using param_dict:\n",
            " {'input_dim': 8, 'num_layers': 2, 'num_units': 8, 'activation': 'relu', 'activation_out': 'sigmoid', 'loss': 'binary_crossentropy', 'initializer': 'random_uniform', 'optimizer': 'adam', 'learning_rate': 0.0038964954650687, 'metrics': ['accuracy'], 'epochs': 10, 'batch_size': 4, 'one_hot': False}\n",
            "Starting 10-fold cross-validation...\n",
            "Finished cross-valiation. Took 1.5 mintues.\n",
            "Mean Accuracy: 65.11%, Standard Deviation: 0.34%\n",
            "\n",
            "Evaluating parameter \"learning_rate\" using value \"0.0010205366827692648\"...\n",
            "Building model using param_dict:\n",
            " {'input_dim': 8, 'num_layers': 2, 'num_units': 8, 'activation': 'relu', 'activation_out': 'sigmoid', 'loss': 'binary_crossentropy', 'initializer': 'random_uniform', 'optimizer': 'adam', 'learning_rate': 0.0010205366827692648, 'metrics': ['accuracy'], 'epochs': 10, 'batch_size': 4, 'one_hot': False}\n",
            "Starting 10-fold cross-validation...\n",
            "Finished cross-valiation. Took 1.4 mintues.\n",
            "Mean Accuracy: 70.31%, Standard Deviation: 3.70%\n"
          ],
          "name": "stdout"
        }
      ]
    },
    {
      "metadata": {
        "id": "CoUts7phZ7Ct",
        "colab_type": "code",
        "colab": {
          "base_uri": "https://localhost:8080/",
          "height": 430
        },
        "outputId": "31dcddb7-6533-48ee-d323-dbe9dd71870a"
      },
      "cell_type": "code",
      "source": [
        "df = wrangle_results(results)\n",
        "visualize_trend(df)"
      ],
      "execution_count": 21,
      "outputs": [
        {
          "output_type": "display_data",
          "data": {
            "image/png": "[encoded data removed]",
            "text/plain": [
              "<matplotlib.figure.Figure at 0x7fb43d8b9630>"
            ]
          },
          "metadata": {
            "tags": []
          }
        }
      ]
    },
    {
      "metadata": {
        "id": "rCOLyjaWaq9f",
        "colab_type": "code",
        "colab": {
          "base_uri": "https://localhost:8080/",
          "height": 34
        },
        "outputId": "7e6515d7-4df8-449d-e671-55f546f95915"
      },
      "cell_type": "code",
      "source": [
        "best_lr = get_best_options(df)\n",
        "best_lr"
      ],
      "execution_count": 22,
      "outputs": [
        {
          "output_type": "execute_result",
          "data": {
            "text/plain": [
              "[['learning_rate', 0.0011589780553470678]]"
            ]
          },
          "metadata": {
            "tags": []
          },
          "execution_count": 22
        }
      ]
    },
    {
      "metadata": {
        "id": "ogGdQHNIbmBy",
        "colab_type": "code",
        "colab": {
          "base_uri": "https://localhost:8080/",
          "height": 139
        },
        "outputId": "45b28d2b-e4d1-44be-8135-ae780fe8d2d5"
      },
      "cell_type": "code",
      "source": [
        "param_dict['learning_rate'] = best_lr[0][1]\n",
        "\n",
        "run_test(X=X, y=y, param_dict=param_dict)"
      ],
      "execution_count": 23,
      "outputs": [
        {
          "output_type": "stream",
          "text": [
            "Building model using param_dict:\n",
            " {'input_dim': 8, 'num_layers': 2, 'num_units': 8, 'activation': 'relu', 'activation_out': 'sigmoid', 'loss': 'binary_crossentropy', 'initializer': 'random_uniform', 'optimizer': 'adam', 'learning_rate': 0.0011589780553470678, 'metrics': ['accuracy'], 'epochs': 10, 'batch_size': 4, 'one_hot': False}\n",
            "Starting 10-fold cross-validation...\n",
            "Finished cross-valiation. Took 1.5 mintues.\n",
            "Mean Accuracy: 72.39%, Standard Deviation: 4.13%\n"
          ],
          "name": "stdout"
        },
        {
          "output_type": "execute_result",
          "data": {
            "text/plain": [
              "0.7238550943274736"
            ]
          },
          "metadata": {
            "tags": []
          },
          "execution_count": 23
        }
      ]
    },
    {
      "metadata": {
        "id": "jaDyJYCN6_vc",
        "colab_type": "text"
      },
      "cell_type": "markdown",
      "source": [
        "Let's check the baseline model and confirm the model above is indeed better:"
      ]
    },
    {
      "metadata": {
        "id": "qIRHYDSyfObs",
        "colab_type": "code",
        "colab": {
          "base_uri": "https://localhost:8080/",
          "height": 139
        },
        "outputId": "26dc7e30-6904-4133-a218-068efccdfb0c"
      },
      "cell_type": "code",
      "source": [
        "param_dict_defaults = get_defaults()\n",
        "run_test(X=X, y=y, param_dict=param_dict_defaults)"
      ],
      "execution_count": 24,
      "outputs": [
        {
          "output_type": "stream",
          "text": [
            "Building model using param_dict:\n",
            " {'input_dim': 8, 'num_layers': 2, 'num_units': 8, 'activation': 'relu', 'activation_out': 'sigmoid', 'loss': 'binary_crossentropy', 'initializer': 'random_uniform', 'optimizer': 'adam', 'learning_rate': 0.001, 'metrics': ['accuracy'], 'epochs': 10, 'batch_size': 4, 'one_hot': False}\n",
            "Starting 10-fold cross-validation...\n",
            "Finished cross-valiation. Took 1.5 mintues.\n",
            "Mean Accuracy: 72.92%, Standard Deviation: 4.35%\n"
          ],
          "name": "stdout"
        },
        {
          "output_type": "execute_result",
          "data": {
            "text/plain": [
              "0.7292036930584207"
            ]
          },
          "metadata": {
            "tags": []
          },
          "execution_count": 24
        }
      ]
    },
    {
      "metadata": {
        "id": "lKXCkad77M-r",
        "colab_type": "text"
      },
      "cell_type": "markdown",
      "source": [
        "This is weird since the model with tuned parameter has a even lower accuracy. A possible reason is randomness that is resulted from libraries other than Numpy, TensorFlow and Keras, the result is just an outlier. Nevertheless, let's keep the learning rate.\n",
        "\n",
        "Next, let's keep the updated learning rate and tune batch size:"
      ]
    },
    {
      "metadata": {
        "id": "A1Nr9t6rcHhg",
        "colab_type": "code",
        "colab": {
          "base_uri": "https://localhost:8080/",
          "height": 394
        },
        "outputId": "b2d02c86-090a-4e53-dd2c-b18f4c99a8f9"
      },
      "cell_type": "code",
      "source": [
        "batch_size = [2 ** e for e in range(3)]\n",
        "\n",
        "tuning_options = get_tuning_options(batch_size=batch_size)\n",
        "\n",
        "results = run_test(X=X, y=y, \n",
        "                   param_dict=param_dict, \n",
        "                   tuning_options=tuning_options)"
      ],
      "execution_count": 28,
      "outputs": [
        {
          "output_type": "stream",
          "text": [
            "\n",
            "Evaluating parameter \"batch_size\" using value \"1\"...\n",
            "Building model using param_dict:\n",
            " {'input_dim': 8, 'num_layers': 2, 'num_units': 8, 'activation': 'relu', 'activation_out': 'sigmoid', 'loss': 'binary_crossentropy', 'initializer': 'random_uniform', 'optimizer': 'adam', 'learning_rate': 0.0011589780553470678, 'metrics': ['accuracy'], 'epochs': 10, 'batch_size': 1, 'one_hot': False}\n",
            "Starting 10-fold cross-validation...\n",
            "Finished cross-valiation. Took 5.7 mintues.\n",
            "Mean Accuracy: 69.15%, Standard Deviation: 5.17%\n",
            "\n",
            "Evaluating parameter \"batch_size\" using value \"2\"...\n",
            "Building model using param_dict:\n",
            " {'input_dim': 8, 'num_layers': 2, 'num_units': 8, 'activation': 'relu', 'activation_out': 'sigmoid', 'loss': 'binary_crossentropy', 'initializer': 'random_uniform', 'optimizer': 'adam', 'learning_rate': 0.0011589780553470678, 'metrics': ['accuracy'], 'epochs': 10, 'batch_size': 2, 'one_hot': False}\n",
            "Starting 10-fold cross-validation...\n",
            "Finished cross-valiation. Took 3.0 mintues.\n",
            "Mean Accuracy: 73.45%, Standard Deviation: 3.41%\n",
            "\n",
            "Evaluating parameter \"batch_size\" using value \"4\"...\n",
            "Building model using param_dict:\n",
            " {'input_dim': 8, 'num_layers': 2, 'num_units': 8, 'activation': 'relu', 'activation_out': 'sigmoid', 'loss': 'binary_crossentropy', 'initializer': 'random_uniform', 'optimizer': 'adam', 'learning_rate': 0.0011589780553470678, 'metrics': ['accuracy'], 'epochs': 10, 'batch_size': 4, 'one_hot': False}\n",
            "Starting 10-fold cross-validation...\n",
            "Finished cross-valiation. Took 1.5 mintues.\n",
            "Mean Accuracy: 70.97%, Standard Deviation: 5.83%\n"
          ],
          "name": "stdout"
        }
      ]
    },
    {
      "metadata": {
        "id": "Wth374fJe54x",
        "colab_type": "code",
        "colab": {
          "base_uri": "https://localhost:8080/",
          "height": 426
        },
        "outputId": "5e48ee9d-0d2e-4501-d3f2-640a4142a804"
      },
      "cell_type": "code",
      "source": [
        "df = wrangle_results(results)\n",
        "visualize_trend(df)"
      ],
      "execution_count": 29,
      "outputs": [
        {
          "output_type": "display_data",
          "data": {
            "image/png": "[encoded data removed]",
            "text/plain": [
              "<matplotlib.figure.Figure at 0x7fb43c579e10>"
            ]
          },
          "metadata": {
            "tags": []
          }
        }
      ]
    },
    {
      "metadata": {
        "id": "F-sVLKmifFZ3",
        "colab_type": "text"
      },
      "cell_type": "markdown",
      "source": [
        "So let's change batch_size to 2 and train again."
      ]
    },
    {
      "metadata": {
        "id": "w8bRyuiUfDb0",
        "colab_type": "code",
        "colab": {
          "base_uri": "https://localhost:8080/",
          "height": 139
        },
        "outputId": "c93c7cdd-d3f1-4090-b957-0002bd6f014e"
      },
      "cell_type": "code",
      "source": [
        "best_batch_size = get_best_options(df)\n",
        "param_dict['batch_size'] = best_batch_size[0][1]\n",
        "\n",
        "run_test(X=X, y=y, param_dict=param_dict)"
      ],
      "execution_count": 33,
      "outputs": [
        {
          "output_type": "stream",
          "text": [
            "Building model using param_dict:\n",
            " {'input_dim': 8, 'num_layers': 2, 'num_units': 8, 'activation': 'relu', 'activation_out': 'sigmoid', 'loss': 'binary_crossentropy', 'initializer': 'random_uniform', 'optimizer': 'adam', 'learning_rate': 0.0011589780553470678, 'metrics': ['accuracy'], 'epochs': 10, 'batch_size': 2, 'one_hot': False}\n",
            "Starting 10-fold cross-validation...\n",
            "Finished cross-valiation. Took 3.0 mintues.\n",
            "Mean Accuracy: 74.09%, Standard Deviation: 4.26%\n"
          ],
          "name": "stdout"
        },
        {
          "output_type": "execute_result",
          "data": {
            "text/plain": [
              "0.740943269503907"
            ]
          },
          "metadata": {
            "tags": []
          },
          "execution_count": 33
        }
      ]
    },
    {
      "metadata": {
        "id": "3R6Ix8vZRrfp",
        "colab_type": "text"
      },
      "cell_type": "markdown",
      "source": [
        "That's perfect. Now, let's keep this batch size and test different epoch options:"
      ]
    },
    {
      "metadata": {
        "id": "S8qBrBbiObAB",
        "colab_type": "code",
        "outputId": "7702fade-062c-4359-f3b0-66cfc5649318",
        "colab": {
          "base_uri": "https://localhost:8080/",
          "height": 803
        }
      },
      "cell_type": "code",
      "source": [
        "# We'll keep the same params and tune epochs\n",
        "epochs = [20, 60, 80] \n",
        "\n",
        "tuning_options = get_tuning_options(epochs=epochs)\n",
        "\n",
        "results = run_test(X=X, y=y, \n",
        "                   param_dict=param_dict, \n",
        "                   tuning_options=tuning_options)\n",
        "\n",
        "df = wrangle_results(results)\n",
        "visualize_trend(df)"
      ],
      "execution_count": 35,
      "outputs": [
        {
          "output_type": "stream",
          "text": [
            "\n",
            "Evaluating parameter \"epochs\" using value \"20\"...\n",
            "Building model using param_dict:\n",
            " {'input_dim': 8, 'num_layers': 2, 'num_units': 8, 'activation': 'relu', 'activation_out': 'sigmoid', 'loss': 'binary_crossentropy', 'initializer': 'random_uniform', 'optimizer': 'adam', 'learning_rate': 0.0011589780553470678, 'metrics': ['accuracy'], 'epochs': 20, 'batch_size': 2, 'one_hot': False}\n",
            "Starting 10-fold cross-validation...\n",
            "Finished cross-valiation. Took 5.9 mintues.\n",
            "Mean Accuracy: 76.04%, Standard Deviation: 4.66%\n",
            "\n",
            "Evaluating parameter \"epochs\" using value \"60\"...\n",
            "Building model using param_dict:\n",
            " {'input_dim': 8, 'num_layers': 2, 'num_units': 8, 'activation': 'relu', 'activation_out': 'sigmoid', 'loss': 'binary_crossentropy', 'initializer': 'random_uniform', 'optimizer': 'adam', 'learning_rate': 0.0011589780553470678, 'metrics': ['accuracy'], 'epochs': 60, 'batch_size': 2, 'one_hot': False}\n",
            "Starting 10-fold cross-validation...\n",
            "Finished cross-valiation. Took 17.7 mintues.\n",
            "Mean Accuracy: 75.39%, Standard Deviation: 3.53%\n",
            "\n",
            "Evaluating parameter \"epochs\" using value \"80\"...\n",
            "Building model using param_dict:\n",
            " {'input_dim': 8, 'num_layers': 2, 'num_units': 8, 'activation': 'relu', 'activation_out': 'sigmoid', 'loss': 'binary_crossentropy', 'initializer': 'random_uniform', 'optimizer': 'adam', 'learning_rate': 0.0011589780553470678, 'metrics': ['accuracy'], 'epochs': 80, 'batch_size': 2, 'one_hot': False}\n",
            "Starting 10-fold cross-validation...\n",
            "Finished cross-valiation. Took 23.4 mintues.\n",
            "Mean Accuracy: 76.44%, Standard Deviation: 3.71%\n"
          ],
          "name": "stdout"
        },
        {
          "output_type": "display_data",
          "data": {
            "image/png": "[encoded data removed]",
            "text/plain": [
              "<matplotlib.figure.Figure at 0x7fb43c09d4a8>"
            ]
          },
          "metadata": {
            "tags": []
          }
        }
      ]
    },
    {
      "metadata": {
        "id": "vUsIjftTd2ZH",
        "colab_type": "text"
      },
      "cell_type": "markdown",
      "source": [
        "Here, we got the same result as before, i.e. 80 epochs is the best choice. So, let's update the param_dict:"
      ]
    },
    {
      "metadata": {
        "id": "6TlfScyWY6l8",
        "colab_type": "code",
        "colab": {}
      },
      "cell_type": "code",
      "source": [
        "epochs = get_best_options(df)\n",
        "param_dict['epochs'] = epochs[0][1]"
      ],
      "execution_count": 0,
      "outputs": []
    },
    {
      "metadata": {
        "id": "4N_yfWWyhCze",
        "colab_type": "text"
      },
      "cell_type": "markdown",
      "source": [
        "Next, let's test whether standardizing the data is helpful. We'll first try with the baseline parameters."
      ]
    },
    {
      "metadata": {
        "id": "ms_Rnb6ytigA",
        "colab_type": "code",
        "colab": {
          "base_uri": "https://localhost:8080/",
          "height": 139
        },
        "outputId": "1748348a-e234-41e8-b580-68e97c0c895d"
      },
      "cell_type": "code",
      "source": [
        "param_dict_defaults = get_defaults()\n",
        "run_test(X=X, y=y, param_dict=param_dict_defaults)"
      ],
      "execution_count": 49,
      "outputs": [
        {
          "output_type": "stream",
          "text": [
            "Building model using param_dict:\n",
            " {'input_dim': 8, 'num_layers': 2, 'num_units': 8, 'activation': 'relu', 'activation_out': 'sigmoid', 'loss': 'binary_crossentropy', 'initializer': 'random_uniform', 'optimizer': 'adam', 'learning_rate': 0.001, 'metrics': ['accuracy'], 'epochs': 10, 'batch_size': 4, 'one_hot': False}\n",
            "Starting 10-fold cross-validation...\n",
            "Finished cross-valiation. Took 1.6 mintues.\n",
            "Mean Accuracy: 77.47%, Standard Deviation: 3.62%\n"
          ],
          "name": "stdout"
        },
        {
          "output_type": "execute_result",
          "data": {
            "text/plain": [
              "0.7746924147895974"
            ]
          },
          "metadata": {
            "tags": []
          },
          "execution_count": 49
        }
      ]
    },
    {
      "metadata": {
        "id": "NeAhIzWYd0DG",
        "colab_type": "text"
      },
      "cell_type": "markdown",
      "source": [
        "Wow, incredible! That's 77.47% vs. 74.86%, an almost 4 percentage points increase without doing any tuning! Let's now use the best param options and the standardized data to train a final model."
      ]
    },
    {
      "metadata": {
        "id": "vrBdzzCgeIBH",
        "colab_type": "code",
        "outputId": "8bdb5fc8-4ef0-480f-c0d6-f670391bb7ea",
        "colab": {
          "base_uri": "https://localhost:8080/",
          "height": 139
        }
      },
      "cell_type": "code",
      "source": [
        "param_dict = {'input_dim': 8, 'num_layers': 2, 'num_units': 8, \n",
        "              'activation': 'relu', 'activation_out': 'sigmoid', \n",
        "              'loss': 'binary_crossentropy', 'initializer': 'random_uniform', \n",
        "              'optimizer': 'adam', 'learning_rate': 0.0011589780553470678, \n",
        "              'epochs': 80, 'batch_size': 2}\n",
        "\n",
        "run_test(X=X_std, y=y, param_dict=param_dict)"
      ],
      "execution_count": 47,
      "outputs": [
        {
          "output_type": "stream",
          "text": [
            "Building model using param_dict:\n",
            " {'input_dim': 8, 'num_layers': 2, 'num_units': 8, 'activation': 'relu', 'activation_out': 'sigmoid', 'loss': 'binary_crossentropy', 'initializer': 'random_uniform', 'optimizer': 'adam', 'learning_rate': 0.0011589780553470678, 'epochs': 80, 'batch_size': 2}\n",
            "Starting 10-fold cross-validation...\n",
            "Finished cross-valiation. Took 24.1 mintues.\n",
            "Mean Accuracy: 77.73%, Standard Deviation: 2.39%\n"
          ],
          "name": "stdout"
        },
        {
          "output_type": "execute_result",
          "data": {
            "text/plain": [
              "0.7773069055660571"
            ]
          },
          "metadata": {
            "tags": []
          },
          "execution_count": 47
        }
      ]
    },
    {
      "metadata": {
        "id": "QLrDWMZjs7zi",
        "colab_type": "text"
      },
      "cell_type": "markdown",
      "source": [
        "There we go! We have the [state-of-the-art accuracy result](https://www.kaggle.com/general/19387) now with 10-fold cross-validation! Although it seems parameter tuning's contribution in performance increase is marginal compared with data standardization."
      ]
    }
  ]
}