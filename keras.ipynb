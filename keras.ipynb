{
  "nbformat": 4,
  "nbformat_minor": 0,
  "metadata": {
    "colab": {
      "name": "keras.ipynb",
      "version": "0.3.2",
      "provenance": [],
      "collapsed_sections": [],
      "include_colab_link": true
    },
    "kernelspec": {
      "name": "python3",
      "display_name": "Python 3"
    },
    "accelerator": "GPU"
  },
  "cells": [
    {
      "cell_type": "markdown",
      "metadata": {
        "id": "view-in-github",
        "colab_type": "text"
      },
      "source": [
        "<a href=\"https://colab.research.google.com/github/georgeliu1998/keras_model_tuning/blob/master/keras.ipynb\" target=\"_parent\"><img src=\"https://colab.research.google.com/assets/colab-badge.svg\" alt=\"Open In Colab\"/></a>"
      ]
    },
    {
      "metadata": {
        "id": "lUr6h-8uObPb",
        "colab_type": "text"
      },
      "cell_type": "markdown",
      "source": [
        "# Building and Tuning a Neural Network Model Using Keras"
      ]
    },
    {
      "metadata": {
        "id": "Dg07ZSmLO9Co",
        "colab_type": "text"
      },
      "cell_type": "markdown",
      "source": [
        "Did you ever wonder which parameters are most impactful when it comes to neural networkings model tuning? I did. That's why I worked on this project. The goal was to develop intuition about neural network parameter tuning (including hyperparameter).\n",
        "\n",
        "In this project, I use Keras to build a generic neural network class which can be used to test model performance. With the power of Colab GPU, building and tesing neural networks is a pleasure. So let's do this!"
      ]
    },
    {
      "metadata": {
        "id": "cn22xt_HPMmE",
        "colab_type": "text"
      },
      "cell_type": "markdown",
      "source": [
        "## Setting up the Environment"
      ]
    },
    {
      "metadata": {
        "id": "Yt1IJBi1VYU7",
        "colab_type": "code",
        "colab": {}
      },
      "cell_type": "code",
      "source": [
        "from numpy.random import seed\n",
        "seed(6)\n",
        "\n",
        "from tensorflow import set_random_seed\n",
        "set_random_seed(6)\n",
        "\n",
        "import numpy as np\n",
        "seed = np.random.RandomState(6)"
      ],
      "execution_count": 0,
      "outputs": []
    },
    {
      "metadata": {
        "id": "QQl1lUm7zmN9",
        "colab_type": "code",
        "outputId": "4e4c4b6a-9cf4-417a-eefc-9003cfa92ce4",
        "colab": {
          "base_uri": "https://localhost:8080/",
          "height": 34
        }
      },
      "cell_type": "code",
      "source": [
        "import pandas as pd\n",
        "import sklearn\n",
        "import pickle\n",
        "from time import time\n",
        "import importlib \n",
        "from copy import deepcopy\n",
        "import matplotlib.pyplot as plt\n",
        "import seaborn as sns\n",
        "%matplotlib inline\n",
        "\n",
        "from sklearn.model_selection import StratifiedKFold, cross_val_score\n",
        "from sklearn.preprocessing import StandardScaler\n",
        "\n",
        "import xgboost as xgb\n",
        "\n",
        "from keras.models import Sequential\n",
        "from keras.layers import Dense\n",
        "from keras.utils import to_categorical"
      ],
      "execution_count": 0,
      "outputs": [
        {
          "output_type": "stream",
          "text": [
            "Using TensorFlow backend.\n"
          ],
          "name": "stderr"
        }
      ]
    },
    {
      "metadata": {
        "id": "z0RqR8iKPWbg",
        "colab_type": "text"
      },
      "cell_type": "markdown",
      "source": [
        "## Getting the Data"
      ]
    },
    {
      "metadata": {
        "id": "O8wWbePpD5m1",
        "colab_type": "code",
        "colab": {}
      },
      "cell_type": "code",
      "source": [
        "# Upload the Kaggle API credentials\n",
        "from google.colab import files\n",
        "files.upload()"
      ],
      "execution_count": 0,
      "outputs": []
    },
    {
      "metadata": {
        "id": "NAyABHTS4f1T",
        "colab_type": "code",
        "colab": {}
      },
      "cell_type": "code",
      "source": [
        "# Install Kaggle API\n",
        "!pip install -U -q kaggle\n",
        "\n",
        "# Create a directory and copy over the API json file\n",
        "!mkdir -p ~/.kaggle\n",
        "!cp kaggle.json ~/.kaggle/\n",
        "\n",
        "# Limit access\n",
        "!chmod 600 ~/.kaggle/kaggle.json"
      ],
      "execution_count": 0,
      "outputs": []
    },
    {
      "metadata": {
        "id": "crB_KeBhASsW",
        "colab_type": "code",
        "outputId": "e1301af3-3919-4c01-9606-d1bfa58f1dd6",
        "colab": {
          "base_uri": "https://localhost:8080/",
          "height": 68
        }
      },
      "cell_type": "code",
      "source": [
        "# Download the dataset\n",
        "!kaggle datasets download -d uciml/pima-indians-diabetes-database"
      ],
      "execution_count": 0,
      "outputs": [
        {
          "output_type": "stream",
          "text": [
            "Downloading pima-indians-diabetes-database.zip to /content\n",
            "\r  0% 0.00/8.86k [00:00<?, ?B/s]\n",
            "\r100% 8.86k/8.86k [00:00<00:00, 3.55MB/s]\n"
          ],
          "name": "stdout"
        }
      ]
    },
    {
      "metadata": {
        "id": "wwRIfdxNJ6oM",
        "colab_type": "code",
        "outputId": "e1082ce2-3baf-4388-dcce-ec804e4048dc",
        "colab": {
          "base_uri": "https://localhost:8080/",
          "height": 255
        }
      },
      "cell_type": "code",
      "source": [
        "pima = pd.read_csv('pima-indians-diabetes-database.zip')\n",
        "print(pima.head())\n",
        "\n",
        "# Get the features and labels as np arrays\n",
        "X, y = pima.values[:, 0:8], pima.values[:, 8]\n",
        "print(pima.shape, pima.shape)"
      ],
      "execution_count": 0,
      "outputs": [
        {
          "output_type": "stream",
          "text": [
            "   Pregnancies  Glucose  BloodPressure  SkinThickness  Insulin   BMI  \\\n",
            "0            6      148             72             35        0  33.6   \n",
            "1            1       85             66             29        0  26.6   \n",
            "2            8      183             64              0        0  23.3   \n",
            "3            1       89             66             23       94  28.1   \n",
            "4            0      137             40             35      168  43.1   \n",
            "\n",
            "   DiabetesPedigreeFunction  Age  Outcome  \n",
            "0                     0.627   50        1  \n",
            "1                     0.351   31        0  \n",
            "2                     0.672   32        1  \n",
            "3                     0.167   21        0  \n",
            "4                     2.288   33        1  \n",
            "(768, 9) (768, 9)\n"
          ],
          "name": "stdout"
        }
      ]
    },
    {
      "metadata": {
        "id": "OvoThURN4WBl",
        "colab_type": "code",
        "outputId": "0a999403-13cd-47ac-b7a1-c3a6fa0646b1",
        "colab": {
          "base_uri": "https://localhost:8080/",
          "height": 68
        }
      },
      "cell_type": "code",
      "source": [
        "# Check percentage of both classes\n",
        "pima['Outcome'].value_counts()/pima.shape[0]"
      ],
      "execution_count": 0,
      "outputs": [
        {
          "output_type": "execute_result",
          "data": {
            "text/plain": [
              "0    0.651042\n",
              "1    0.348958\n",
              "Name: Outcome, dtype: float64"
            ]
          },
          "metadata": {
            "tags": []
          },
          "execution_count": 8
        }
      ]
    },
    {
      "metadata": {
        "id": "QO84VCPbPdi_",
        "colab_type": "text"
      },
      "cell_type": "markdown",
      "source": [
        "## Getting a Baseline Result with XGBoost"
      ]
    },
    {
      "metadata": {
        "id": "Che2aHnO5Q6v",
        "colab_type": "code",
        "outputId": "3dc54534-1699-4598-da62-ef4f0408e0a9",
        "colab": {
          "base_uri": "https://localhost:8080/",
          "height": 51
        }
      },
      "cell_type": "code",
      "source": [
        "# Get baseline accuracy using XGBoost\n",
        "t1 = time()\n",
        "clf = xgb.XGBClassifier()\n",
        "cv = StratifiedKFold(n_splits=10, shuffle=True, random_state=seed)\n",
        "scores = cross_val_score(clf, X, y, cv=cv)\n",
        "t2 = time()\n",
        "t = t2 - t1\n",
        "\n",
        "print(\"Mean Accuracy: {:.2%}, Standard Deviation: {:.2%}\".format(scores.mean(), scores.std()))\n",
        "print(\"Time taken: {:.2f} seconds\".format(t))"
      ],
      "execution_count": 0,
      "outputs": [
        {
          "output_type": "stream",
          "text": [
            "Mean Accuracy: 74.88%, Standard Deviation: 3.45%\n",
            "Time taken: 0.35 seconds\n"
          ],
          "name": "stdout"
        }
      ]
    },
    {
      "metadata": {
        "id": "DAbFvKXxvh5k",
        "colab_type": "code",
        "outputId": "e3d306c4-5055-4a63-d987-4e39793facf4",
        "colab": {
          "base_uri": "https://localhost:8080/",
          "height": 34
        }
      },
      "cell_type": "code",
      "source": [
        "# Let's test with data standardization:\n",
        "std_scaler = StandardScaler()\n",
        "X_std = std_scaler.fit_transform(X)\n",
        "\n",
        "scores = cross_val_score(clf, X_std, y, cv=cv)\n",
        "\n",
        "print(\"Mean Accuracy: {:.2%}, Standard Deviation: {:.2%}\".format(scores.mean(), scores.std()))"
      ],
      "execution_count": 0,
      "outputs": [
        {
          "output_type": "stream",
          "text": [
            "Mean Accuracy: 76.31%, Standard Deviation: 2.72%\n"
          ],
          "name": "stdout"
        }
      ]
    },
    {
      "metadata": {
        "id": "Da3Dip_6Pslu",
        "colab_type": "text"
      },
      "cell_type": "markdown",
      "source": [
        "## Building the Neural Network Class and Test Functions"
      ]
    },
    {
      "metadata": {
        "id": "HCQ1-GuByxYx",
        "colab_type": "code",
        "colab": {}
      },
      "cell_type": "code",
      "source": [
        "class SequentialModel:\n",
        "  \"\"\"\n",
        "  The base class for a Neural Networks model\n",
        "  \"\"\"\n",
        "  \n",
        "  def __init__(self, input_dim, num_layers, num_units, \n",
        "               activation, activation_out, \n",
        "               loss, initializer, optimizer, learning_rate, \n",
        "               epochs, batch_size, metrics=['accuracy'], one_hot=False):\n",
        "    \"\"\"\n",
        "    Params:\n",
        "      input_dim: int, number of features\n",
        "      num_layers: int, number of layers of the model (excluding the input layer)\n",
        "      num_units: list, number of units in each layer(excluding the input layer)\n",
        "      activation: str, activation function used in all layers except output\n",
        "      activation_out: str, activation function used in output layer\n",
        "      loss: str, loss functon\n",
        "      initializer: str, kernel initializer\n",
        "      optimizer: str, optimizer\n",
        "      metrics: list of strings, metrics used\n",
        "      epochs: int, number of epochs to train for\n",
        "      batch_size: int, number of samples per batch\n",
        "      one_hot: bool, whether one hot encoding is needed\n",
        "    \"\"\"\n",
        "    self.input_dim = input_dim\n",
        "    self.num_layers = num_layers\n",
        "    self.num_units = [num_units, 1]\n",
        "    self.activation = activation\n",
        "    self.activation_out = activation_out\n",
        "    self.loss = loss\n",
        "    self.initializer = initializer\n",
        "    self.optimizer = optimizer\n",
        "    self.learning_rate = learning_rate\n",
        "    self.metrics = metrics\n",
        "    self.epochs = epochs\n",
        "    self.batch_size = batch_size\n",
        "    self.one_hot = one_hot\n",
        "    \n",
        "    # Initialize the sequential model\n",
        "    self.model = Sequential()\n",
        "\n",
        "    \n",
        "  def build_model(self):\n",
        "    \"\"\"\n",
        "    Adds layers and compiles the model\n",
        "    \"\"\"\n",
        "    # Ensure num_units list's length is the same as num_layers\n",
        "    if self.num_layers != len(self.num_units):\n",
        "      # Expand the list by repeating number of nodes except for last layer\n",
        "      num_nodes, num_nodes_out = self.num_units[0], self.num_units[-1]\n",
        "      self.num_units = [i for i in range(self.num_layers-1) for i in [num_nodes]]\n",
        "      self.num_units.append(num_nodes_out) \n",
        " \n",
        "    # Loop thru all the layers\n",
        "    for i in range(self.num_layers):\n",
        "      # different layers should have different setups\n",
        "      if i == 0: # input and first hidden layer\n",
        "        self.model.add(Dense(units=self.num_units[i],\n",
        "                             input_dim=self.input_dim,\n",
        "                             kernel_initializer=self.initializer,\n",
        "                             activation=self.activation)) \n",
        "      elif i+1 == self.num_layers: # output layer\n",
        "        self.model.add(Dense(units=self.num_units[i],\n",
        "                             kernel_initializer=self.initializer,\n",
        "                             activation=self.activation_out))\n",
        "      else: # hidden layers\n",
        "        self.model.add(Dense(units=self.num_units[i],\n",
        "                            kernel_initializer=self.initializer,\n",
        "                            activation=self.activation))\n",
        "    \n",
        "    # Instantiate the optimizer class\n",
        "    optimizer_class = getattr(importlib.import_module(\"keras.optimizers\"), \n",
        "                             self.optimizer)\n",
        "    self.optimizer = optimizer_class(lr=self.learning_rate)\n",
        "    # Compile the model\n",
        "    self.model.compile(loss=self.loss,\n",
        "                       optimizer=self.optimizer,\n",
        "                       metrics=self.metrics)\n",
        "        \n",
        "  \n",
        "  def evaluate_model(self, X, y, n_splits=10):\n",
        "    \"\"\"\n",
        "    Evaluates the model using cross-validation.\n",
        "    \n",
        "    Params:\n",
        "      X: np.array, features\n",
        "      y: np.array, labels\n",
        "      n_splits: int, number of folds for the cross-validation\n",
        "    Returns:\n",
        "      mean_accuracy: float, the average accuracy based on the cross-validation.\n",
        "    \n",
        "    \"\"\"\n",
        "    score_lst = []\n",
        "    t1 = time()\n",
        "    \n",
        "    print(\"Starting {}-fold cross-validation...\".format(n_splits))\n",
        "    \n",
        "    kfold = StratifiedKFold(n_splits=n_splits, \n",
        "                            shuffle=True, \n",
        "                            random_state=seed)\n",
        "    \n",
        "    # Loop through the different folds\n",
        "    for train_index, test_index in kfold.split(X, y):\n",
        "      # Do one-hot encoding when needed\n",
        "      if self.one_hot:\n",
        "        y_one_hot = to_categorical(y)\n",
        "      else:\n",
        "        y_one_hot = y\n",
        "        \n",
        "      self.model.fit(X[train_index],\n",
        "                     y_one_hot[train_index],\n",
        "                     epochs=self.epochs,\n",
        "                     batch_size=self.batch_size,\n",
        "                     verbose=0)\n",
        "        \n",
        "      scores = self.model.evaluate(X[test_index],\n",
        "                                   y_one_hot[test_index], \n",
        "                                   verbose=0)\n",
        "            \n",
        "      # The second item is accuracy\n",
        "      score_lst.append(scores[1])\n",
        "\n",
        "    t2 = time()\n",
        "    t = t2 - t1\n",
        "    # Convert time to mintues\n",
        "    t /= 60\n",
        "\n",
        "    print(\"Finished cross-valiation. Took {:.1f} mintues.\".format(t))\n",
        "\n",
        "    # Convert to np.array and calculate mean and sd\n",
        "    score_lst = np.array(score_lst)\n",
        "    mean_acc = score_lst.mean()\n",
        "    sd_acc = score_lst.std()\n",
        "\n",
        "    print(\"Mean Accuracy: {:.2%}, Standard Deviation: {:.2%}\".format(mean_acc, sd_acc))\n",
        "    return mean_acc"
      ],
      "execution_count": 0,
      "outputs": []
    },
    {
      "metadata": {
        "id": "3QbFJkQVK4tQ",
        "colab_type": "code",
        "colab": {}
      },
      "cell_type": "code",
      "source": [
        "def get_defaults(input_dim=8, \n",
        "                 num_layers=2,\n",
        "                 num_units=8,\n",
        "                 activation='relu',\n",
        "                 activation_out='sigmoid',\n",
        "                 loss='binary_crossentropy',\n",
        "                 initializer='random_uniform',\n",
        "                 optimizer='adam',\n",
        "                 learning_rate=0.001,\n",
        "                 metrics=['accuracy'],\n",
        "                 epochs=10, \n",
        "                 batch_size=4,\n",
        "                 one_hot=False):\n",
        "  \"\"\"\n",
        "  Returns a dict of default hyperparameter values  \n",
        "  \"\"\"\n",
        "\n",
        "  defaults = {'input_dim': input_dim, \n",
        "              'num_layers': num_layers, \n",
        "              'num_units': num_units, \n",
        "              'activation': activation, \n",
        "              'activation_out': activation_out, \n",
        "              'loss': loss, \n",
        "              'initializer': initializer, \n",
        "              'optimizer': optimizer, \n",
        "              'learning_rate': learning_rate, \n",
        "              'metrics': metrics, \n",
        "              'epochs': epochs, \n",
        "              'batch_size': batch_size, \n",
        "              'one_hot': one_hot}\n",
        "  \n",
        "  return defaults\n",
        "\n",
        "\n",
        "def get_tuning_options(**kwargs):\n",
        "  \"\"\"\n",
        "  Defines tuning parameter and corresponding options\n",
        "  \n",
        "  Params:\n",
        "    Keyword arguments - the key words can be any of the following:\n",
        "      input_dim, num_layers, num_units, activation, activation_out, \n",
        "      loss, initializer, optimizer, learning_rate, epochs, batch_size, \n",
        "      metrics=['accuracy'], one_hot=False\n",
        "  Returns:\n",
        "    tuning_options: Python dict made up of the given keyword, argument pairs\n",
        "  \n",
        "  \"\"\" \n",
        "  tuning_options = {}\n",
        "  \n",
        "  for param, options in kwargs.items():\n",
        "    tuning_options[param] = options \n",
        "  \n",
        "  return tuning_options"
      ],
      "execution_count": 0,
      "outputs": []
    },
    {
      "metadata": {
        "id": "c3ItJYo2Zd7o",
        "colab_type": "code",
        "colab": {}
      },
      "cell_type": "code",
      "source": [
        "def build_eval(X, y, param_dict):\n",
        "  \"\"\"\n",
        "  Builds a Neural Network model using the given params and returns the \n",
        "  cross-validation accuracy\n",
        "  \n",
        "  Params:\n",
        "    X: np.array, the features\n",
        "    y: np.array, the labels\n",
        "    param_dict: Python dict containing the tuning parameters and values\n",
        "  \n",
        "  Returns:\n",
        "    result: float, percentage accuracy based on cross-validation\n",
        "  \"\"\"\n",
        "  print(\"Building model using param_dict:\\n {}\".format(param_dict))\n",
        "  \n",
        "  model = SequentialModel(input_dim=param_dict['input_dim'], \n",
        "                          num_layers=param_dict['num_layers'], \n",
        "                          num_units=param_dict['num_units'],\n",
        "                          activation=param_dict['activation'], \n",
        "                          activation_out=param_dict['activation_out'], \n",
        "                          loss=param_dict['loss'], \n",
        "                          initializer=param_dict['initializer'], \n",
        "                          optimizer=param_dict['optimizer'], \n",
        "                          learning_rate=param_dict['learning_rate'],\n",
        "                          epochs=param_dict['epochs'], \n",
        "                          batch_size=param_dict['batch_size'])\n",
        "  model.build_model()\n",
        "  result = model.evaluate_model(X, y)\n",
        "  \n",
        "  return result\n",
        "\n",
        "\n",
        "def run_test(X, y, param_dict, tuning_options=None):\n",
        "  \"\"\"\n",
        "  Tests different parameter's accurcy using the given tuning options\n",
        "\n",
        "  Params:\n",
        "    X: np.array, the features\n",
        "    y: np.array, the labels\n",
        "    param_dict: Python dict containing the tuning parameters and values\n",
        "    tuning_options: Python dict made up of the given keyword, argument pairs\n",
        "  Returns:\n",
        "    results: a dict when tuning_options is provided, otherwise a float that's the mean accuracy.\n",
        "\n",
        "  \"\"\"\n",
        "  if tuning_options:\n",
        "    results = {}\n",
        "        \n",
        "    for parameter, options in  tuning_options.items():\n",
        "      results[parameter] = {}\n",
        "      param_dict_temp = deepcopy(param_dict)\n",
        "      \n",
        "      for option in options:\n",
        "        print(\"\\nEvaluating parameter \\\"{}\\\" using value \\\"{}\\\"...\".format(parameter, option))\n",
        "        # Update the corresponding parameter\n",
        "        param_dict_temp[parameter] = option\n",
        "        \n",
        "        try:\n",
        "          #print(\"param_dict_temp: {}\".format(param_dict_temp))\n",
        "          results[parameter][option] = build_eval(X, y, param_dict_temp)\n",
        "        except Exception as e: \n",
        "          results[parameter][option] = 'NaN'\n",
        "          print('Error: {}, skipping...'.format(e))\n",
        "          pass\n",
        "    return results\n",
        "  \n",
        "  else:\n",
        "    return build_eval(X, y, param_dict)"
      ],
      "execution_count": 0,
      "outputs": []
    },
    {
      "metadata": {
        "id": "q_xgwDiwjvHr",
        "colab_type": "code",
        "colab": {}
      },
      "cell_type": "code",
      "source": [
        "def wrangle_results(results):\n",
        "    \"\"\"\n",
        "    Transforms the results dict into a df that's good for analysis.\n",
        "    \n",
        "    Params:\n",
        "      results: dict, the results dict returned by the build_eval() function\n",
        "\n",
        "    Returns:\n",
        "        df_plot: pandas df, the wrangled long format dataframe\n",
        "    \"\"\"\n",
        "    df = pd.DataFrame(results)\n",
        "    # Get the col names as value vars for melt func\n",
        "    value_vars = df.columns.tolist()\n",
        "    # Reset index and rename the index col \n",
        "    df = df.reset_index().rename(columns={'index': 'option'})\n",
        "    # Transform from wide to long format for easy plotting\n",
        "    df_long = pd.melt(df, id_vars='option', value_vars=value_vars)\n",
        "    df_long = df_long.rename(columns={'variable': 'parameter'})\n",
        "    # Exclude the zero and null values\n",
        "    df_long = df_long[~df_long['value'].isnull()]\n",
        "    df_long = df_long.query(\"value!=0 & value!='NaN'\")\n",
        "\n",
        "    # Calculate the range and sd of each parameter group and convert to a df\n",
        "    ranges = df_long.groupby('parameter').apply(lambda grp: grp.value.max() - grp.value.min())\n",
        "    sd = df_long.groupby('parameter').apply(lambda grp: grp.value.std())\n",
        "    spread = pd.concat([ranges, sd], axis=1).rename(columns={0: 'ranges', 1: 'sd'})\n",
        "    # Join back the df\n",
        "    df_spread = pd.merge(df_long, spread, how='left', left_on='parameter', right_index=True)\n",
        "    # Reorder columns\n",
        "    df_spread = df_spread[['parameter', 'option', 'value', 'ranges', 'sd']]\n",
        "    # Remove the row with zero value\n",
        "    df_spread = df_spread.query('ranges!=0')\n",
        "    # Change column dtype\n",
        "    df_spread['value'] = df_spread['value'].astype(float)\n",
        "    # Sort the dataframe and use the resulting index to slice\n",
        "    # This ensures the plot will be ordered accordingly\n",
        "    idx = df_spread.sort_values(by=['ranges', 'option'], ascending=False).index\n",
        "    df_plot = df_spread.loc[idx, :]\n",
        "    \n",
        "    return df_plot\n",
        "\n",
        "  \n",
        "def get_best_options(df):\n",
        "  \"\"\"\n",
        "  Gets the best options for all params from the given results df\n",
        "  \n",
        "  Params:\n",
        "    df: the results df returned by the wrangle_results() function\n",
        "  \n",
        "  Returns:\n",
        "    best_options: a list of list containing param and value.\n",
        "  \n",
        "  \"\"\"\n",
        "  best_options = df.groupby('parameter').apply(lambda grp: grp.nlargest(1, 'value'))[['parameter', 'option']].values.tolist()\n",
        "  \n",
        "  return best_options  \n",
        "\n",
        "\n",
        "def visualize_distribution(df, save_figure=False):\n",
        "  \"\"\"\n",
        "  Visualizes the result distribution using boxplot and swarmplot\n",
        "  \n",
        "  Params:\n",
        "    df: pandas df, the wrangled results df returned by the wrangle_results function\n",
        "    save_figure: boolean, whether to save the figure or not\n",
        "  \"\"\"\n",
        "  fig, ax = plt.subplots(figsize=(16, 12))\n",
        "  df['value'] =  df['value'].astype(float)\n",
        "  sns.boxplot(x='parameter', y='value', data=df, ax=ax)\n",
        "  sns.swarmplot(x='parameter', y='value', data=df, size=12, ax=ax)\n",
        "  ax.set_xlabel('Parameters',size=16)\n",
        "  ax.set_ylabel('Values',size=16)\n",
        "  fig_title = 'Parameter Tuning Results Distribution'\n",
        "  ax.set_title(fig_title, y=1.05, fontsize=30)\n",
        "  \n",
        "  if save_figure:\n",
        "    figure_name = '/content/gdrive/My Drive/' + fig_title + '.png'\n",
        "    fig.savefig(figure_name)\n",
        "\n",
        "\n",
        "def visualize_trend(df, save_figure=False):\n",
        "  \"\"\"\n",
        "  Visualizes the result trend using line plot\n",
        "  \n",
        "  Params:\n",
        "    df: pandas df, the wrangled results df returned by the wrangle_results function.\n",
        "    save_figure: boolean, whether to save the figure or not.\n",
        "  \"\"\"\n",
        "  fig, axes = plt.subplots(nrows=2, ncols=4, sharey=True, figsize=(30, 12))\n",
        "  axes = axes.flatten()\n",
        "  # Get the parameter list\n",
        "  params = df.parameter.unique().tolist()\n",
        "  # Loop thru the axes\n",
        "  for i, ax in enumerate(axes):\n",
        "    try:\n",
        "      # Each subplot corresponds to one parameter\n",
        "      param = params[i]\n",
        "      df_param = df.query(\"parameter==@param\")\n",
        "      df_param.plot(kind='line', x='option', y='value', ax=ax)\n",
        "      # Log-transform the x-axis for learning rate to avoid mixing up\n",
        "      if param == 'learning_rate':\n",
        "        ax.set_xscale('log')\n",
        "      # Set the x ticks and tick lables\n",
        "      if param in ('initializer', 'optimizer'):\n",
        "        ax.set_xticks(np.arange(5))\n",
        "        ax.set_xticklabels(df_param.option)\n",
        "      ax.set_xlabel(param, fontsize=16) \n",
        "      ax.set_ylabel('Accuracy', fontsize=16) \n",
        "      ax.get_legend().remove()\n",
        "    except:\n",
        "      # Remove the last axis since we have only 7 params\n",
        "      fig.delaxes(ax)\n",
        "  \n",
        "  fig_title = 'Parameter Tuning Trend'\n",
        "  fig.suptitle(fig_title, y=0.92, verticalalignment='bottom', fontsize=30)\n",
        "  \n",
        "  plt.show()\n",
        "  \n",
        "  if save_figure:\n",
        "    figure_name = '/content/gdrive/My Drive/' + fig_title + '.png'\n",
        "    fig.savefig(figure_name)\n"
      ],
      "execution_count": 0,
      "outputs": []
    },
    {
      "metadata": {
        "id": "7pk8yynPP2vp",
        "colab_type": "text"
      },
      "cell_type": "markdown",
      "source": [
        "## Running the Test"
      ]
    },
    {
      "metadata": {
        "id": "8CjnqVGL_s_Q",
        "colab_type": "code",
        "outputId": "07c15083-e5ac-4370-f528-7a40cb97f148",
        "colab": {
          "base_uri": "https://localhost:8080/",
          "height": 122
        }
      },
      "cell_type": "code",
      "source": [
        "# Get baseline accuracy using defauls with the defined Neural Networks class  \n",
        "param_dict_defaults, param_dict = get_defaults(), get_defaults()\n",
        "accuracy_baseline = run_test(X=X, y=y, param_dict=param_dict_defaults)"
      ],
      "execution_count": 0,
      "outputs": [
        {
          "output_type": "stream",
          "text": [
            "Building model using param_dict:\n",
            " {'input_dim': 8, 'num_layers': 2, 'num_units': 8, 'activation': 'relu', 'activation_out': 'sigmoid', 'loss': 'binary_crossentropy', 'initializer': 'random_uniform', 'optimizer': 'adam', 'learning_rate': 0.001, 'metrics': ['accuracy'], 'epochs': 10, 'batch_size': 4, 'one_hot': False}\n",
            "Starting 10-fold cross-validation...\n",
            "Finished cross-valiation. Took 1.5 mintues.\n",
            "Mean Accuracy: 71.61%, Standard Deviation: 2.92%\n"
          ],
          "name": "stdout"
        }
      ]
    },
    {
      "metadata": {
        "id": "iTqI0PIcKSIW",
        "colab_type": "code",
        "outputId": "ef39c17e-d0f8-481b-9605-c26ff7a40ffb",
        "colab": {
          "base_uri": "https://localhost:8080/",
          "height": 4678
        }
      },
      "cell_type": "code",
      "source": [
        "# Get the tuning optioins\n",
        "num_units = [4, 8, 16, 32, 64]\n",
        "num_layers = [2, 4, 8, 16, 32]\n",
        "loss = ['binary_crossentropy', 'categorical_crossentropy', 'sparse_categorical_crossentropy']\n",
        "initializer = ['random_uniform', 'random_normal', 'TruncatedNormal', 'glorot_normal', 'glorot_uniform']\n",
        "learning_rate = [0.0001, 0.001, 0.01, 0.1, 1]\n",
        "optimizer = ['adam', 'adamax', 'adagrad', 'sgd', 'rmsprop']\n",
        "epochs = [5, 10, 20, 40, 80]\n",
        "batch_size = [1, 2, 4, 8, 16]\n",
        "\n",
        "tuning_options = get_tuning_options(num_units=num_units, \n",
        "                                    num_layers=num_layers, \n",
        "                                    loss=loss, \n",
        "                                    initializer=initializer,\n",
        "                                    learning_rate=learning_rate, \n",
        "                                    optimizer=optimizer, \n",
        "                                    epochs=epochs, \n",
        "                                    batch_size=batch_size)\n",
        "\n",
        "# Test all the tuning options\n",
        "results = run_test(X=X, y=y, \n",
        "                   param_dict=param_dict_defaults,\n",
        "                   tuning_options=tuning_options)\n",
        "\n",
        "# Save the tuning results \n",
        "with open('/content/gdrive/My Drive/cross_validation_results.pkl', 'wb') as f:\n",
        "    pickle.dump(results, f, pickle.HIGHEST_PROTOCOL)\n",
        "    print(\"\\nResults saved to Google Drive successfully!\")"
      ],
      "execution_count": 0,
      "outputs": [
        {
          "output_type": "stream",
          "text": [
            "\n",
            "Evaluating parameter \"num_units\" using value \"4\"...\n",
            "Building model using param_dict:\n",
            " {'input_dim': 8, 'num_layers': 2, 'num_units': 4, 'activation': 'relu', 'activation_out': 'sigmoid', 'loss': 'binary_crossentropy', 'initializer': 'random_uniform', 'optimizer': 'adam', 'learning_rate': 0.001, 'metrics': ['accuracy'], 'epochs': 10, 'batch_size': 4, 'one_hot': False}\n",
            "Starting 10-fold cross-validation...\n",
            "Finished cross-valiation. Took 1.5 mintues.\n",
            "Mean Accuracy: 72.00%, Standard Deviation: 6.42%\n",
            "\n",
            "Evaluating parameter \"num_units\" using value \"8\"...\n",
            "Building model using param_dict:\n",
            " {'input_dim': 8, 'num_layers': 2, 'num_units': 8, 'activation': 'relu', 'activation_out': 'sigmoid', 'loss': 'binary_crossentropy', 'initializer': 'random_uniform', 'optimizer': 'adam', 'learning_rate': 0.001, 'metrics': ['accuracy'], 'epochs': 10, 'batch_size': 4, 'one_hot': False}\n",
            "Starting 10-fold cross-validation...\n",
            "Finished cross-valiation. Took 1.5 mintues.\n",
            "Mean Accuracy: 72.26%, Standard Deviation: 4.39%\n",
            "\n",
            "Evaluating parameter \"num_units\" using value \"16\"...\n",
            "Building model using param_dict:\n",
            " {'input_dim': 8, 'num_layers': 2, 'num_units': 16, 'activation': 'relu', 'activation_out': 'sigmoid', 'loss': 'binary_crossentropy', 'initializer': 'random_uniform', 'optimizer': 'adam', 'learning_rate': 0.001, 'metrics': ['accuracy'], 'epochs': 10, 'batch_size': 4, 'one_hot': False}\n",
            "Starting 10-fold cross-validation...\n",
            "Finished cross-valiation. Took 1.5 mintues.\n",
            "Mean Accuracy: 73.97%, Standard Deviation: 4.40%\n",
            "\n",
            "Evaluating parameter \"num_units\" using value \"32\"...\n",
            "Building model using param_dict:\n",
            " {'input_dim': 8, 'num_layers': 2, 'num_units': 32, 'activation': 'relu', 'activation_out': 'sigmoid', 'loss': 'binary_crossentropy', 'initializer': 'random_uniform', 'optimizer': 'adam', 'learning_rate': 0.001, 'metrics': ['accuracy'], 'epochs': 10, 'batch_size': 4, 'one_hot': False}\n",
            "Starting 10-fold cross-validation...\n",
            "Finished cross-valiation. Took 1.5 mintues.\n",
            "Mean Accuracy: 72.68%, Standard Deviation: 5.74%\n",
            "\n",
            "Evaluating parameter \"num_units\" using value \"64\"...\n",
            "Building model using param_dict:\n",
            " {'input_dim': 8, 'num_layers': 2, 'num_units': 64, 'activation': 'relu', 'activation_out': 'sigmoid', 'loss': 'binary_crossentropy', 'initializer': 'random_uniform', 'optimizer': 'adam', 'learning_rate': 0.001, 'metrics': ['accuracy'], 'epochs': 10, 'batch_size': 4, 'one_hot': False}\n",
            "Starting 10-fold cross-validation...\n",
            "Finished cross-valiation. Took 1.5 mintues.\n",
            "Mean Accuracy: 74.08%, Standard Deviation: 5.20%\n",
            "\n",
            "Evaluating parameter \"num_layers\" using value \"2\"...\n",
            "Building model using param_dict:\n",
            " {'input_dim': 8, 'num_layers': 2, 'num_units': 8, 'activation': 'relu', 'activation_out': 'sigmoid', 'loss': 'binary_crossentropy', 'initializer': 'random_uniform', 'optimizer': 'adam', 'learning_rate': 0.001, 'metrics': ['accuracy'], 'epochs': 10, 'batch_size': 4, 'one_hot': False}\n",
            "Starting 10-fold cross-validation...\n",
            "Finished cross-valiation. Took 1.5 mintues.\n",
            "Mean Accuracy: 73.05%, Standard Deviation: 3.18%\n",
            "\n",
            "Evaluating parameter \"num_layers\" using value \"4\"...\n",
            "Building model using param_dict:\n",
            " {'input_dim': 8, 'num_layers': 4, 'num_units': 8, 'activation': 'relu', 'activation_out': 'sigmoid', 'loss': 'binary_crossentropy', 'initializer': 'random_uniform', 'optimizer': 'adam', 'learning_rate': 0.001, 'metrics': ['accuracy'], 'epochs': 10, 'batch_size': 4, 'one_hot': False}\n",
            "Starting 10-fold cross-validation...\n",
            "Finished cross-valiation. Took 2.0 mintues.\n",
            "Mean Accuracy: 71.25%, Standard Deviation: 6.60%\n",
            "\n",
            "Evaluating parameter \"num_layers\" using value \"8\"...\n",
            "Building model using param_dict:\n",
            " {'input_dim': 8, 'num_layers': 8, 'num_units': 8, 'activation': 'relu', 'activation_out': 'sigmoid', 'loss': 'binary_crossentropy', 'initializer': 'random_uniform', 'optimizer': 'adam', 'learning_rate': 0.001, 'metrics': ['accuracy'], 'epochs': 10, 'batch_size': 4, 'one_hot': False}\n",
            "Starting 10-fold cross-validation...\n",
            "Finished cross-valiation. Took 2.9 mintues.\n",
            "Mean Accuracy: 65.11%, Standard Deviation: 0.34%\n",
            "\n",
            "Evaluating parameter \"num_layers\" using value \"16\"...\n",
            "Building model using param_dict:\n",
            " {'input_dim': 8, 'num_layers': 16, 'num_units': 8, 'activation': 'relu', 'activation_out': 'sigmoid', 'loss': 'binary_crossentropy', 'initializer': 'random_uniform', 'optimizer': 'adam', 'learning_rate': 0.001, 'metrics': ['accuracy'], 'epochs': 10, 'batch_size': 4, 'one_hot': False}\n",
            "Starting 10-fold cross-validation...\n",
            "Finished cross-valiation. Took 4.5 mintues.\n",
            "Mean Accuracy: 65.11%, Standard Deviation: 0.34%\n",
            "\n",
            "Evaluating parameter \"num_layers\" using value \"32\"...\n",
            "Building model using param_dict:\n",
            " {'input_dim': 8, 'num_layers': 32, 'num_units': 8, 'activation': 'relu', 'activation_out': 'sigmoid', 'loss': 'binary_crossentropy', 'initializer': 'random_uniform', 'optimizer': 'adam', 'learning_rate': 0.001, 'metrics': ['accuracy'], 'epochs': 10, 'batch_size': 4, 'one_hot': False}\n",
            "Starting 10-fold cross-validation...\n",
            "Finished cross-valiation. Took 7.7 mintues.\n",
            "Mean Accuracy: 65.11%, Standard Deviation: 0.34%\n",
            "\n",
            "Evaluating parameter \"loss\" using value \"binary_crossentropy\"...\n",
            "Building model using param_dict:\n",
            " {'input_dim': 8, 'num_layers': 2, 'num_units': 8, 'activation': 'relu', 'activation_out': 'sigmoid', 'loss': 'binary_crossentropy', 'initializer': 'random_uniform', 'optimizer': 'adam', 'learning_rate': 0.001, 'metrics': ['accuracy'], 'epochs': 10, 'batch_size': 4, 'one_hot': False}\n",
            "Starting 10-fold cross-validation...\n",
            "Finished cross-valiation. Took 1.6 mintues.\n",
            "Mean Accuracy: 72.39%, Standard Deviation: 4.86%\n",
            "\n",
            "Evaluating parameter \"loss\" using value \"categorical_crossentropy\"...\n",
            "Building model using param_dict:\n",
            " {'input_dim': 8, 'num_layers': 2, 'num_units': 8, 'activation': 'relu', 'activation_out': 'sigmoid', 'loss': 'categorical_crossentropy', 'initializer': 'random_uniform', 'optimizer': 'adam', 'learning_rate': 0.001, 'metrics': ['accuracy'], 'epochs': 10, 'batch_size': 4, 'one_hot': False}\n",
            "Starting 10-fold cross-validation...\n",
            "Error: You are passing a target array of shape (691, 1) while using as loss `categorical_crossentropy`. `categorical_crossentropy` expects targets to be binary matrices (1s and 0s) of shape (samples, classes). If your targets are integer classes, you can convert them to the expected format via:\n",
            "```\n",
            "from keras.utils import to_categorical\n",
            "y_binary = to_categorical(y_int)\n",
            "```\n",
            "\n",
            "Alternatively, you can use the loss function `sparse_categorical_crossentropy` instead, which does expect integer targets., skipping...\n",
            "\n",
            "Evaluating parameter \"loss\" using value \"sparse_categorical_crossentropy\"...\n",
            "Building model using param_dict:\n",
            " {'input_dim': 8, 'num_layers': 2, 'num_units': 8, 'activation': 'relu', 'activation_out': 'sigmoid', 'loss': 'sparse_categorical_crossentropy', 'initializer': 'random_uniform', 'optimizer': 'adam', 'learning_rate': 0.001, 'metrics': ['accuracy'], 'epochs': 10, 'batch_size': 4, 'one_hot': False}\n",
            "Starting 10-fold cross-validation...\n",
            "Finished cross-valiation. Took 1.3 mintues.\n",
            "Mean Accuracy: 0.00%, Standard Deviation: 0.00%\n",
            "\n",
            "Evaluating parameter \"initializer\" using value \"random_uniform\"...\n",
            "Building model using param_dict:\n",
            " {'input_dim': 8, 'num_layers': 2, 'num_units': 8, 'activation': 'relu', 'activation_out': 'sigmoid', 'loss': 'binary_crossentropy', 'initializer': 'random_uniform', 'optimizer': 'adam', 'learning_rate': 0.001, 'metrics': ['accuracy'], 'epochs': 10, 'batch_size': 4, 'one_hot': False}\n",
            "Starting 10-fold cross-validation...\n",
            "Finished cross-valiation. Took 1.6 mintues.\n",
            "Mean Accuracy: 72.15%, Standard Deviation: 4.17%\n",
            "\n",
            "Evaluating parameter \"initializer\" using value \"random_normal\"...\n",
            "Building model using param_dict:\n",
            " {'input_dim': 8, 'num_layers': 2, 'num_units': 8, 'activation': 'relu', 'activation_out': 'sigmoid', 'loss': 'binary_crossentropy', 'initializer': 'random_normal', 'optimizer': 'adam', 'learning_rate': 0.001, 'metrics': ['accuracy'], 'epochs': 10, 'batch_size': 4, 'one_hot': False}\n",
            "Starting 10-fold cross-validation...\n",
            "Finished cross-valiation. Took 1.6 mintues.\n",
            "Mean Accuracy: 69.79%, Standard Deviation: 2.83%\n",
            "\n",
            "Evaluating parameter \"initializer\" using value \"TruncatedNormal\"...\n",
            "Building model using param_dict:\n",
            " {'input_dim': 8, 'num_layers': 2, 'num_units': 8, 'activation': 'relu', 'activation_out': 'sigmoid', 'loss': 'binary_crossentropy', 'initializer': 'TruncatedNormal', 'optimizer': 'adam', 'learning_rate': 0.001, 'metrics': ['accuracy'], 'epochs': 10, 'batch_size': 4, 'one_hot': False}\n",
            "Starting 10-fold cross-validation...\n",
            "Finished cross-valiation. Took 1.6 mintues.\n",
            "Mean Accuracy: 71.87%, Standard Deviation: 4.48%\n",
            "\n",
            "Evaluating parameter \"initializer\" using value \"glorot_normal\"...\n",
            "Building model using param_dict:\n",
            " {'input_dim': 8, 'num_layers': 2, 'num_units': 8, 'activation': 'relu', 'activation_out': 'sigmoid', 'loss': 'binary_crossentropy', 'initializer': 'glorot_normal', 'optimizer': 'adam', 'learning_rate': 0.001, 'metrics': ['accuracy'], 'epochs': 10, 'batch_size': 4, 'one_hot': False}\n",
            "Starting 10-fold cross-validation...\n",
            "Finished cross-valiation. Took 1.6 mintues.\n",
            "Mean Accuracy: 67.21%, Standard Deviation: 5.08%\n",
            "\n",
            "Evaluating parameter \"initializer\" using value \"glorot_uniform\"...\n",
            "Building model using param_dict:\n",
            " {'input_dim': 8, 'num_layers': 2, 'num_units': 8, 'activation': 'relu', 'activation_out': 'sigmoid', 'loss': 'binary_crossentropy', 'initializer': 'glorot_uniform', 'optimizer': 'adam', 'learning_rate': 0.001, 'metrics': ['accuracy'], 'epochs': 10, 'batch_size': 4, 'one_hot': False}\n",
            "Starting 10-fold cross-validation...\n",
            "Finished cross-valiation. Took 1.6 mintues.\n",
            "Mean Accuracy: 69.41%, Standard Deviation: 5.92%\n",
            "\n",
            "Evaluating parameter \"learning_rate\" using value \"0.0001\"...\n",
            "Building model using param_dict:\n",
            " {'input_dim': 8, 'num_layers': 2, 'num_units': 8, 'activation': 'relu', 'activation_out': 'sigmoid', 'loss': 'binary_crossentropy', 'initializer': 'random_uniform', 'optimizer': 'adam', 'learning_rate': 0.0001, 'metrics': ['accuracy'], 'epochs': 10, 'batch_size': 4, 'one_hot': False}\n",
            "Starting 10-fold cross-validation...\n",
            "Finished cross-valiation. Took 1.6 mintues.\n",
            "Mean Accuracy: 68.90%, Standard Deviation: 6.18%\n",
            "\n",
            "Evaluating parameter \"learning_rate\" using value \"0.001\"...\n",
            "Building model using param_dict:\n",
            " {'input_dim': 8, 'num_layers': 2, 'num_units': 8, 'activation': 'relu', 'activation_out': 'sigmoid', 'loss': 'binary_crossentropy', 'initializer': 'random_uniform', 'optimizer': 'adam', 'learning_rate': 0.001, 'metrics': ['accuracy'], 'epochs': 10, 'batch_size': 4, 'one_hot': False}\n",
            "Starting 10-fold cross-validation...\n",
            "Finished cross-valiation. Took 1.6 mintues.\n",
            "Mean Accuracy: 72.66%, Standard Deviation: 4.25%\n",
            "\n",
            "Evaluating parameter \"learning_rate\" using value \"0.01\"...\n",
            "Building model using param_dict:\n",
            " {'input_dim': 8, 'num_layers': 2, 'num_units': 8, 'activation': 'relu', 'activation_out': 'sigmoid', 'loss': 'binary_crossentropy', 'initializer': 'random_uniform', 'optimizer': 'adam', 'learning_rate': 0.01, 'metrics': ['accuracy'], 'epochs': 10, 'batch_size': 4, 'one_hot': False}\n",
            "Starting 10-fold cross-validation...\n",
            "Finished cross-valiation. Took 1.6 mintues.\n",
            "Mean Accuracy: 65.11%, Standard Deviation: 0.34%\n",
            "\n",
            "Evaluating parameter \"learning_rate\" using value \"0.1\"...\n",
            "Building model using param_dict:\n",
            " {'input_dim': 8, 'num_layers': 2, 'num_units': 8, 'activation': 'relu', 'activation_out': 'sigmoid', 'loss': 'binary_crossentropy', 'initializer': 'random_uniform', 'optimizer': 'adam', 'learning_rate': 0.1, 'metrics': ['accuracy'], 'epochs': 10, 'batch_size': 4, 'one_hot': False}\n",
            "Starting 10-fold cross-validation...\n",
            "Finished cross-valiation. Took 1.6 mintues.\n",
            "Mean Accuracy: 65.11%, Standard Deviation: 0.34%\n",
            "\n",
            "Evaluating parameter \"learning_rate\" using value \"1\"...\n",
            "Building model using param_dict:\n",
            " {'input_dim': 8, 'num_layers': 2, 'num_units': 8, 'activation': 'relu', 'activation_out': 'sigmoid', 'loss': 'binary_crossentropy', 'initializer': 'random_uniform', 'optimizer': 'adam', 'learning_rate': 1, 'metrics': ['accuracy'], 'epochs': 10, 'batch_size': 4, 'one_hot': False}\n",
            "Starting 10-fold cross-validation...\n",
            "Finished cross-valiation. Took 1.6 mintues.\n",
            "Mean Accuracy: 65.11%, Standard Deviation: 0.34%\n",
            "\n",
            "Evaluating parameter \"optimizer\" using value \"adam\"...\n",
            "Building model using param_dict:\n",
            " {'input_dim': 8, 'num_layers': 2, 'num_units': 8, 'activation': 'relu', 'activation_out': 'sigmoid', 'loss': 'binary_crossentropy', 'initializer': 'random_uniform', 'optimizer': 'adam', 'learning_rate': 0.001, 'metrics': ['accuracy'], 'epochs': 10, 'batch_size': 4, 'one_hot': False}\n",
            "Starting 10-fold cross-validation...\n",
            "Finished cross-valiation. Took 1.6 mintues.\n",
            "Mean Accuracy: 74.23%, Standard Deviation: 4.22%\n",
            "\n",
            "Evaluating parameter \"optimizer\" using value \"adamax\"...\n",
            "Building model using param_dict:\n",
            " {'input_dim': 8, 'num_layers': 2, 'num_units': 8, 'activation': 'relu', 'activation_out': 'sigmoid', 'loss': 'binary_crossentropy', 'initializer': 'random_uniform', 'optimizer': 'adamax', 'learning_rate': 0.001, 'metrics': ['accuracy'], 'epochs': 10, 'batch_size': 4, 'one_hot': False}\n",
            "Starting 10-fold cross-validation...\n",
            "Finished cross-valiation. Took 1.5 mintues.\n",
            "Mean Accuracy: 70.97%, Standard Deviation: 3.96%\n",
            "\n",
            "Evaluating parameter \"optimizer\" using value \"adagrad\"...\n",
            "Building model using param_dict:\n",
            " {'input_dim': 8, 'num_layers': 2, 'num_units': 8, 'activation': 'relu', 'activation_out': 'sigmoid', 'loss': 'binary_crossentropy', 'initializer': 'random_uniform', 'optimizer': 'adagrad', 'learning_rate': 0.001, 'metrics': ['accuracy'], 'epochs': 10, 'batch_size': 4, 'one_hot': False}\n",
            "Starting 10-fold cross-validation...\n",
            "Finished cross-valiation. Took 1.4 mintues.\n",
            "Mean Accuracy: 64.71%, Standard Deviation: 1.55%\n",
            "\n",
            "Evaluating parameter \"optimizer\" using value \"sgd\"...\n",
            "Building model using param_dict:\n",
            " {'input_dim': 8, 'num_layers': 2, 'num_units': 8, 'activation': 'relu', 'activation_out': 'sigmoid', 'loss': 'binary_crossentropy', 'initializer': 'random_uniform', 'optimizer': 'sgd', 'learning_rate': 0.001, 'metrics': ['accuracy'], 'epochs': 10, 'batch_size': 4, 'one_hot': False}\n",
            "Starting 10-fold cross-validation...\n",
            "Finished cross-valiation. Took 1.4 mintues.\n",
            "Mean Accuracy: 69.93%, Standard Deviation: 4.19%\n",
            "\n",
            "Evaluating parameter \"optimizer\" using value \"rmsprop\"...\n",
            "Building model using param_dict:\n",
            " {'input_dim': 8, 'num_layers': 2, 'num_units': 8, 'activation': 'relu', 'activation_out': 'sigmoid', 'loss': 'binary_crossentropy', 'initializer': 'random_uniform', 'optimizer': 'rmsprop', 'learning_rate': 0.001, 'metrics': ['accuracy'], 'epochs': 10, 'batch_size': 4, 'one_hot': False}\n",
            "Starting 10-fold cross-validation...\n",
            "Finished cross-valiation. Took 1.5 mintues.\n",
            "Mean Accuracy: 67.05%, Standard Deviation: 5.23%\n",
            "\n",
            "Evaluating parameter \"epochs\" using value \"5\"...\n",
            "Building model using param_dict:\n",
            " {'input_dim': 8, 'num_layers': 2, 'num_units': 8, 'activation': 'relu', 'activation_out': 'sigmoid', 'loss': 'binary_crossentropy', 'initializer': 'random_uniform', 'optimizer': 'adam', 'learning_rate': 0.001, 'metrics': ['accuracy'], 'epochs': 5, 'batch_size': 4, 'one_hot': False}\n",
            "Starting 10-fold cross-validation...\n",
            "Finished cross-valiation. Took 0.9 mintues.\n",
            "Mean Accuracy: 70.96%, Standard Deviation: 3.68%\n",
            "\n",
            "Evaluating parameter \"epochs\" using value \"10\"...\n",
            "Building model using param_dict:\n",
            " {'input_dim': 8, 'num_layers': 2, 'num_units': 8, 'activation': 'relu', 'activation_out': 'sigmoid', 'loss': 'binary_crossentropy', 'initializer': 'random_uniform', 'optimizer': 'adam', 'learning_rate': 0.001, 'metrics': ['accuracy'], 'epochs': 10, 'batch_size': 4, 'one_hot': False}\n",
            "Starting 10-fold cross-validation...\n",
            "Finished cross-valiation. Took 1.7 mintues.\n",
            "Mean Accuracy: 68.11%, Standard Deviation: 3.84%\n",
            "\n",
            "Evaluating parameter \"epochs\" using value \"20\"...\n",
            "Building model using param_dict:\n",
            " {'input_dim': 8, 'num_layers': 2, 'num_units': 8, 'activation': 'relu', 'activation_out': 'sigmoid', 'loss': 'binary_crossentropy', 'initializer': 'random_uniform', 'optimizer': 'adam', 'learning_rate': 0.001, 'metrics': ['accuracy'], 'epochs': 20, 'batch_size': 4, 'one_hot': False}\n",
            "Starting 10-fold cross-validation...\n",
            "Finished cross-valiation. Took 3.3 mintues.\n",
            "Mean Accuracy: 74.36%, Standard Deviation: 4.01%\n",
            "\n",
            "Evaluating parameter \"epochs\" using value \"40\"...\n",
            "Building model using param_dict:\n",
            " {'input_dim': 8, 'num_layers': 2, 'num_units': 8, 'activation': 'relu', 'activation_out': 'sigmoid', 'loss': 'binary_crossentropy', 'initializer': 'random_uniform', 'optimizer': 'adam', 'learning_rate': 0.001, 'metrics': ['accuracy'], 'epochs': 40, 'batch_size': 4, 'one_hot': False}\n",
            "Starting 10-fold cross-validation...\n",
            "Finished cross-valiation. Took 6.5 mintues.\n",
            "Mean Accuracy: 76.17%, Standard Deviation: 2.77%\n",
            "\n",
            "Evaluating parameter \"epochs\" using value \"80\"...\n",
            "Building model using param_dict:\n",
            " {'input_dim': 8, 'num_layers': 2, 'num_units': 8, 'activation': 'relu', 'activation_out': 'sigmoid', 'loss': 'binary_crossentropy', 'initializer': 'random_uniform', 'optimizer': 'adam', 'learning_rate': 0.001, 'metrics': ['accuracy'], 'epochs': 80, 'batch_size': 4, 'one_hot': False}\n",
            "Starting 10-fold cross-validation...\n",
            "Finished cross-valiation. Took 13.0 mintues.\n",
            "Mean Accuracy: 76.31%, Standard Deviation: 1.75%\n",
            "\n",
            "Evaluating parameter \"batch_size\" using value \"1\"...\n",
            "Building model using param_dict:\n",
            " {'input_dim': 8, 'num_layers': 2, 'num_units': 8, 'activation': 'relu', 'activation_out': 'sigmoid', 'loss': 'binary_crossentropy', 'initializer': 'random_uniform', 'optimizer': 'adam', 'learning_rate': 0.001, 'metrics': ['accuracy'], 'epochs': 10, 'batch_size': 1, 'one_hot': False}\n",
            "Starting 10-fold cross-validation...\n",
            "Finished cross-valiation. Took 6.4 mintues.\n",
            "Mean Accuracy: 73.58%, Standard Deviation: 4.80%\n",
            "\n",
            "Evaluating parameter \"batch_size\" using value \"2\"...\n",
            "Building model using param_dict:\n",
            " {'input_dim': 8, 'num_layers': 2, 'num_units': 8, 'activation': 'relu', 'activation_out': 'sigmoid', 'loss': 'binary_crossentropy', 'initializer': 'random_uniform', 'optimizer': 'adam', 'learning_rate': 0.001, 'metrics': ['accuracy'], 'epochs': 10, 'batch_size': 2, 'one_hot': False}\n",
            "Starting 10-fold cross-validation...\n",
            "Finished cross-valiation. Took 3.3 mintues.\n",
            "Mean Accuracy: 72.92%, Standard Deviation: 3.73%\n",
            "\n",
            "Evaluating parameter \"batch_size\" using value \"4\"...\n",
            "Building model using param_dict:\n",
            " {'input_dim': 8, 'num_layers': 2, 'num_units': 8, 'activation': 'relu', 'activation_out': 'sigmoid', 'loss': 'binary_crossentropy', 'initializer': 'random_uniform', 'optimizer': 'adam', 'learning_rate': 0.001, 'metrics': ['accuracy'], 'epochs': 10, 'batch_size': 4, 'one_hot': False}\n",
            "Starting 10-fold cross-validation...\n",
            "Finished cross-valiation. Took 1.7 mintues.\n",
            "Mean Accuracy: 72.28%, Standard Deviation: 3.81%\n",
            "\n",
            "Evaluating parameter \"batch_size\" using value \"8\"...\n",
            "Building model using param_dict:\n",
            " {'input_dim': 8, 'num_layers': 2, 'num_units': 8, 'activation': 'relu', 'activation_out': 'sigmoid', 'loss': 'binary_crossentropy', 'initializer': 'random_uniform', 'optimizer': 'adam', 'learning_rate': 0.001, 'metrics': ['accuracy'], 'epochs': 10, 'batch_size': 8, 'one_hot': False}\n",
            "Starting 10-fold cross-validation...\n",
            "Finished cross-valiation. Took 0.9 mintues.\n",
            "Mean Accuracy: 70.34%, Standard Deviation: 7.04%\n",
            "\n",
            "Evaluating parameter \"batch_size\" using value \"16\"...\n",
            "Building model using param_dict:\n",
            " {'input_dim': 8, 'num_layers': 2, 'num_units': 8, 'activation': 'relu', 'activation_out': 'sigmoid', 'loss': 'binary_crossentropy', 'initializer': 'random_uniform', 'optimizer': 'adam', 'learning_rate': 0.001, 'metrics': ['accuracy'], 'epochs': 10, 'batch_size': 16, 'one_hot': False}\n",
            "Starting 10-fold cross-validation...\n",
            "Finished cross-valiation. Took 0.5 mintues.\n",
            "Mean Accuracy: 71.88%, Standard Deviation: 5.96%\n",
            "\n",
            "Results saved to Google Drive successfully!\n"
          ],
          "name": "stdout"
        }
      ]
    },
    {
      "metadata": {
        "id": "Kozw8MO7Iu3I",
        "colab_type": "code",
        "outputId": "9e543fad-5a3c-4b5b-e595-c222f031e702",
        "colab": {
          "base_uri": "https://localhost:8080/",
          "height": 102
        }
      },
      "cell_type": "code",
      "source": [
        "# Load the pickled results dict\n",
        "with open('/content/gdrive/My Drive/cross_validation_results.pkl', 'rb') as f:\n",
        "    results = pickle.load(f)\n",
        "\n",
        "df = wrangle_results(results)"
      ],
      "execution_count": 0,
      "outputs": [
        {
          "output_type": "stream",
          "text": [
            "/usr/local/lib/python3.6/dist-packages/ipykernel_launcher.py:33: SettingWithCopyWarning: \n",
            "A value is trying to be set on a copy of a slice from a DataFrame.\n",
            "Try using .loc[row_indexer,col_indexer] = value instead\n",
            "\n",
            "See the caveats in the documentation: http://pandas.pydata.org/pandas-docs/stable/indexing.html#indexing-view-versus-copy\n"
          ],
          "name": "stderr"
        }
      ]
    },
    {
      "metadata": {
        "id": "exxz2QY_EawU",
        "colab_type": "code",
        "outputId": "4c04b1f7-4f38-42aa-c858-621ac5ee68a1",
        "colab": {
          "base_uri": "https://localhost:8080/",
          "height": 814
        }
      },
      "cell_type": "code",
      "source": [
        "visualize_distribution(df, save_figure=True)"
      ],
      "execution_count": 0,
      "outputs": [
        {
          "output_type": "stream",
          "text": [
            "/usr/local/lib/python3.6/dist-packages/seaborn/categorical.py:454: FutureWarning: remove_na is deprecated and is a private function. Do not use.\n",
            "  box_data = remove_na(group_data)\n"
          ],
          "name": "stderr"
        },
        {
          "output_type": "display_data",
          "data": {
            "image/png": "[encoded data removed]",
            "text/plain": [
              "<matplotlib.figure.Figure at 0x7fbb1e94b6d8>"
            ]
          },
          "metadata": {
            "tags": []
          }
        }
      ]
    },
    {
      "metadata": {
        "id": "homU6uWWEeoN",
        "colab_type": "code",
        "outputId": "9c7a4c9b-dcff-4c8a-f000-57961cbd50a5",
        "colab": {
          "base_uri": "https://localhost:8080/",
          "height": 802
        }
      },
      "cell_type": "code",
      "source": [
        "visualize_trend(df, save_figure=True)"
      ],
      "execution_count": 0,
      "outputs": [
        {
          "output_type": "display_data",
          "data": {
            "image/png": "[encoded data removed]",
            "text/plain": [
              "<matplotlib.figure.Figure at 0x7fbb1e2beda0>"
            ]
          },
          "metadata": {
            "tags": []
          }
        }
      ]
    },
    {
      "metadata": {
        "id": "r2LScFOJRKpZ",
        "colab_type": "code",
        "outputId": "16a5148a-4c55-4532-afe4-6450ec131d60",
        "colab": {
          "base_uri": "https://localhost:8080/",
          "height": 71
        }
      },
      "cell_type": "code",
      "source": [
        "best_options = get_best_options(df)\n",
        "print(best_options)\n",
        "\n",
        "for i in best_options:\n",
        "  param_dict[i[0]] = i[1]\n",
        "print(param_dict)"
      ],
      "execution_count": 0,
      "outputs": [
        {
          "output_type": "stream",
          "text": [
            "[['batch_size', 1], ['epochs', 80], ['initializer', 'random_uniform'], ['learning_rate', 0.001], ['num_layers', 2], ['num_units', 64], ['optimizer', 'adam']]\n",
            "{'input_dim': 8, 'num_layers': 2, 'num_units': 64, 'activation': 'relu', 'activation_out': 'sigmoid', 'loss': 'binary_crossentropy', 'initializer': 'random_uniform', 'optimizer': 'adam', 'learning_rate': 0.001, 'metrics': ['accuracy'], 'epochs': 80, 'batch_size': 1, 'one_hot': False}\n"
          ],
          "name": "stdout"
        }
      ]
    },
    {
      "metadata": {
        "id": "-8DnyqKeg3tq",
        "colab_type": "code",
        "outputId": "f2fbca47-9728-4bb6-d722-239b48c525b8",
        "colab": {
          "base_uri": "https://localhost:8080/",
          "height": 139
        }
      },
      "cell_type": "code",
      "source": [
        "# Build a model using the best options\n",
        "run_test(X=X, y=y, param_dict=param_dict)"
      ],
      "execution_count": 0,
      "outputs": [
        {
          "output_type": "stream",
          "text": [
            "Building model using param_dict:\n",
            " {'input_dim': 8, 'num_layers': 2, 'num_units': 64, 'activation': 'relu', 'activation_out': 'sigmoid', 'loss': 'binary_crossentropy', 'initializer': 'random_uniform', 'optimizer': 'adam', 'learning_rate': 0.001, 'metrics': ['accuracy'], 'epochs': 80, 'batch_size': 1, 'one_hot': False}\n",
            "Starting 10-fold cross-validation...\n",
            "Finished cross-valiation. Took 49.3 mintues.\n",
            "Mean Accuracy: 78.00%, Standard Deviation: 4.59%\n"
          ],
          "name": "stdout"
        },
        {
          "output_type": "execute_result",
          "data": {
            "text/plain": [
              "0.7800239250705573"
            ]
          },
          "metadata": {
            "tags": []
          },
          "execution_count": 18
        }
      ]
    },
    {
      "metadata": {
        "id": "MaW_K9aD9Jyg",
        "colab_type": "text"
      },
      "cell_type": "markdown",
      "source": [
        "Wow, that's brutal - it took almost 50 minutes! But I guess I cannot complain since the result is great! Definitely close to top results for this dataset. Let's now try tuning individual parameters using the default parameter settings. First, start with learning rate.\n",
        "\n"
      ]
    },
    {
      "metadata": {
        "id": "6e3KFWmRh8bS",
        "colab_type": "code",
        "outputId": "04a0074a-7919-44a0-b71a-b7523ac44538",
        "colab": {
          "base_uri": "https://localhost:8080/",
          "height": 751
        }
      },
      "cell_type": "code",
      "source": [
        "# Get the default params\n",
        "param_dict = get_defaults()\n",
        "\n",
        "# Get 6 randomly generated learning rates between 0.0001 and 0.01\n",
        "bases = np.repeat(10, 3)\n",
        "exponents_1 = -(np.random.rand(3) + 3) # 3 from between 0.0001 and 0.001\n",
        "exponents_2 = -(np.random.rand(3) + 2) # another 3 between 0.001 and 0.01\n",
        "\n",
        "learning_rate = np.power(bases, exponents_1).tolist() + np.power(bases, exponents_2).tolist()\n",
        "\n",
        "tuning_options = get_tuning_options(learning_rate=learning_rate)\n",
        "\n",
        "results_lr = run_test(X=X, y=y,\n",
        "                      param_dict=param_dict,\n",
        "                      tuning_options=tuning_options)"
      ],
      "execution_count": 0,
      "outputs": [
        {
          "output_type": "stream",
          "text": [
            "\n",
            "Evaluating parameter \"learning_rate\" using value \"0.0004828852547308251\"...\n",
            "Building model using param_dict:\n",
            " {'input_dim': 8, 'num_layers': 2, 'num_units': 8, 'activation': 'relu', 'activation_out': 'sigmoid', 'loss': 'binary_crossentropy', 'initializer': 'random_uniform', 'optimizer': 'adam', 'learning_rate': 0.0004828852547308251, 'metrics': ['accuracy'], 'epochs': 10, 'batch_size': 4, 'one_hot': False}\n",
            "Starting 10-fold cross-validation...\n",
            "Finished cross-valiation. Took 1.6 mintues.\n",
            "Mean Accuracy: 72.14%, Standard Deviation: 5.85%\n",
            "\n",
            "Evaluating parameter \"learning_rate\" using value \"0.0006716184352348816\"...\n",
            "Building model using param_dict:\n",
            " {'input_dim': 8, 'num_layers': 2, 'num_units': 8, 'activation': 'relu', 'activation_out': 'sigmoid', 'loss': 'binary_crossentropy', 'initializer': 'random_uniform', 'optimizer': 'adam', 'learning_rate': 0.0006716184352348816, 'metrics': ['accuracy'], 'epochs': 10, 'batch_size': 4, 'one_hot': False}\n",
            "Starting 10-fold cross-validation...\n",
            "Finished cross-valiation. Took 1.6 mintues.\n",
            "Mean Accuracy: 73.70%, Standard Deviation: 2.36%\n",
            "\n",
            "Evaluating parameter \"learning_rate\" using value \"0.0008984573578418341\"...\n",
            "Building model using param_dict:\n",
            " {'input_dim': 8, 'num_layers': 2, 'num_units': 8, 'activation': 'relu', 'activation_out': 'sigmoid', 'loss': 'binary_crossentropy', 'initializer': 'random_uniform', 'optimizer': 'adam', 'learning_rate': 0.0008984573578418341, 'metrics': ['accuracy'], 'epochs': 10, 'batch_size': 4, 'one_hot': False}\n",
            "Starting 10-fold cross-validation...\n",
            "Finished cross-valiation. Took 1.6 mintues.\n",
            "Mean Accuracy: 72.28%, Standard Deviation: 4.49%\n",
            "\n",
            "Evaluating parameter \"learning_rate\" using value \"0.004588719536910916\"...\n",
            "Building model using param_dict:\n",
            " {'input_dim': 8, 'num_layers': 2, 'num_units': 8, 'activation': 'relu', 'activation_out': 'sigmoid', 'loss': 'binary_crossentropy', 'initializer': 'random_uniform', 'optimizer': 'adam', 'learning_rate': 0.004588719536910916, 'metrics': ['accuracy'], 'epochs': 10, 'batch_size': 4, 'one_hot': False}\n",
            "Starting 10-fold cross-validation...\n",
            "Finished cross-valiation. Took 1.6 mintues.\n",
            "Mean Accuracy: 68.62%, Standard Deviation: 4.59%\n",
            "\n",
            "Evaluating parameter \"learning_rate\" using value \"0.0056995268151447\"...\n",
            "Building model using param_dict:\n",
            " {'input_dim': 8, 'num_layers': 2, 'num_units': 8, 'activation': 'relu', 'activation_out': 'sigmoid', 'loss': 'binary_crossentropy', 'initializer': 'random_uniform', 'optimizer': 'adam', 'learning_rate': 0.0056995268151447, 'metrics': ['accuracy'], 'epochs': 10, 'batch_size': 4, 'one_hot': False}\n",
            "Starting 10-fold cross-validation...\n",
            "Finished cross-valiation. Took 1.6 mintues.\n",
            "Mean Accuracy: 65.10%, Standard Deviation: 0.48%\n",
            "\n",
            "Evaluating parameter \"learning_rate\" using value \"0.004765515645052744\"...\n",
            "Building model using param_dict:\n",
            " {'input_dim': 8, 'num_layers': 2, 'num_units': 8, 'activation': 'relu', 'activation_out': 'sigmoid', 'loss': 'binary_crossentropy', 'initializer': 'random_uniform', 'optimizer': 'adam', 'learning_rate': 0.004765515645052744, 'metrics': ['accuracy'], 'epochs': 10, 'batch_size': 4, 'one_hot': False}\n",
            "Starting 10-fold cross-validation...\n",
            "Finished cross-valiation. Took 1.6 mintues.\n",
            "Mean Accuracy: 65.11%, Standard Deviation: 0.34%\n"
          ],
          "name": "stdout"
        }
      ]
    },
    {
      "metadata": {
        "id": "CoUts7phZ7Ct",
        "colab_type": "code",
        "outputId": "8a9aa727-3fef-43c8-ea71-ec472ba8c3a4",
        "colab": {
          "base_uri": "https://localhost:8080/",
          "height": 430
        }
      },
      "cell_type": "code",
      "source": [
        "df_lr = wrangle_results(results_lr)\n",
        "visualize_trend(df_lr)"
      ],
      "execution_count": 0,
      "outputs": [
        {
          "output_type": "display_data",
          "data": {
            "image/png": "[encoded data removed]",
            "text/plain": [
              "<matplotlib.figure.Figure at 0x7fbb18b23358>"
            ]
          },
          "metadata": {
            "tags": []
          }
        }
      ]
    },
    {
      "metadata": {
        "id": "rCOLyjaWaq9f",
        "colab_type": "code",
        "outputId": "0d2b30d9-fe3e-4e44-f75b-ad6db6abf865",
        "colab": {
          "base_uri": "https://localhost:8080/",
          "height": 34
        }
      },
      "cell_type": "code",
      "source": [
        "best_lr = get_best_options(df_lr)\n",
        "best_lr"
      ],
      "execution_count": 0,
      "outputs": [
        {
          "output_type": "execute_result",
          "data": {
            "text/plain": [
              "[['learning_rate', 0.0006716184352348816]]"
            ]
          },
          "metadata": {
            "tags": []
          },
          "execution_count": 28
        }
      ]
    },
    {
      "metadata": {
        "id": "ogGdQHNIbmBy",
        "colab_type": "code",
        "outputId": "515d606b-83a5-4e58-a4e4-6940f71b36fc",
        "colab": {
          "base_uri": "https://localhost:8080/",
          "height": 139
        }
      },
      "cell_type": "code",
      "source": [
        "param_dict['learning_rate'] = best_lr[0][1]\n",
        "\n",
        "run_test(X=X, y=y, param_dict=param_dict)"
      ],
      "execution_count": 0,
      "outputs": [
        {
          "output_type": "stream",
          "text": [
            "Building model using param_dict:\n",
            " {'input_dim': 8, 'num_layers': 2, 'num_units': 8, 'activation': 'relu', 'activation_out': 'sigmoid', 'loss': 'binary_crossentropy', 'initializer': 'random_uniform', 'optimizer': 'adam', 'learning_rate': 0.0006716184352348816, 'metrics': ['accuracy'], 'epochs': 10, 'batch_size': 4, 'one_hot': False}\n",
            "Starting 10-fold cross-validation...\n",
            "Finished cross-valiation. Took 1.6 mintues.\n",
            "Mean Accuracy: 73.06%, Standard Deviation: 6.29%\n"
          ],
          "name": "stdout"
        },
        {
          "output_type": "execute_result",
          "data": {
            "text/plain": [
              "0.7306220114964456"
            ]
          },
          "metadata": {
            "tags": []
          },
          "execution_count": 29
        }
      ]
    },
    {
      "metadata": {
        "id": "iJD2iAOWsbQP",
        "colab_type": "text"
      },
      "cell_type": "markdown",
      "source": [
        "Let's check the baseline model and confirm the model above is indeed better:"
      ]
    },
    {
      "metadata": {
        "id": "3PSpVhy4scUV",
        "colab_type": "code",
        "outputId": "757b2548-ec38-4dc1-901c-195adca77189",
        "colab": {
          "base_uri": "https://localhost:8080/",
          "height": 34
        }
      },
      "cell_type": "code",
      "source": [
        "accuracy_baseline"
      ],
      "execution_count": 0,
      "outputs": [
        {
          "output_type": "execute_result",
          "data": {
            "text/plain": [
              "0.7161141519585621"
            ]
          },
          "metadata": {
            "tags": []
          },
          "execution_count": 30
        }
      ]
    },
    {
      "metadata": {
        "id": "lKXCkad77M-r",
        "colab_type": "text"
      },
      "cell_type": "markdown",
      "source": [
        "Great! We have an alomost 2 percentage points improvement!\n",
        "\n",
        "Next, let's keep the updated learning rate and tune batch size:"
      ]
    },
    {
      "metadata": {
        "id": "A1Nr9t6rcHhg",
        "colab_type": "code",
        "outputId": "64be860e-bcf3-410e-e3ce-d0183197c8ec",
        "colab": {
          "base_uri": "https://localhost:8080/",
          "height": 751
        }
      },
      "cell_type": "code",
      "source": [
        "batch_size = [2 ** e for e in range(6)]\n",
        "\n",
        "tuning_options = get_tuning_options(batch_size=batch_size)\n",
        "\n",
        "results_batch = run_test(X=X, y=y, \n",
        "                         param_dict=param_dict, \n",
        "                         tuning_options=tuning_options)"
      ],
      "execution_count": 0,
      "outputs": [
        {
          "output_type": "stream",
          "text": [
            "\n",
            "Evaluating parameter \"batch_size\" using value \"1\"...\n",
            "Building model using param_dict:\n",
            " {'input_dim': 8, 'num_layers': 2, 'num_units': 8, 'activation': 'relu', 'activation_out': 'sigmoid', 'loss': 'binary_crossentropy', 'initializer': 'random_uniform', 'optimizer': 'adam', 'learning_rate': 0.0006716184352348816, 'metrics': ['accuracy'], 'epochs': 10, 'batch_size': 1, 'one_hot': False}\n",
            "Starting 10-fold cross-validation...\n",
            "Finished cross-valiation. Took 6.0 mintues.\n",
            "Mean Accuracy: 72.67%, Standard Deviation: 4.94%\n",
            "\n",
            "Evaluating parameter \"batch_size\" using value \"2\"...\n",
            "Building model using param_dict:\n",
            " {'input_dim': 8, 'num_layers': 2, 'num_units': 8, 'activation': 'relu', 'activation_out': 'sigmoid', 'loss': 'binary_crossentropy', 'initializer': 'random_uniform', 'optimizer': 'adam', 'learning_rate': 0.0006716184352348816, 'metrics': ['accuracy'], 'epochs': 10, 'batch_size': 2, 'one_hot': False}\n",
            "Starting 10-fold cross-validation...\n",
            "Finished cross-valiation. Took 3.1 mintues.\n",
            "Mean Accuracy: 72.93%, Standard Deviation: 5.53%\n",
            "\n",
            "Evaluating parameter \"batch_size\" using value \"4\"...\n",
            "Building model using param_dict:\n",
            " {'input_dim': 8, 'num_layers': 2, 'num_units': 8, 'activation': 'relu', 'activation_out': 'sigmoid', 'loss': 'binary_crossentropy', 'initializer': 'random_uniform', 'optimizer': 'adam', 'learning_rate': 0.0006716184352348816, 'metrics': ['accuracy'], 'epochs': 10, 'batch_size': 4, 'one_hot': False}\n",
            "Starting 10-fold cross-validation...\n",
            "Finished cross-valiation. Took 1.5 mintues.\n",
            "Mean Accuracy: 71.48%, Standard Deviation: 3.50%\n",
            "\n",
            "Evaluating parameter \"batch_size\" using value \"8\"...\n",
            "Building model using param_dict:\n",
            " {'input_dim': 8, 'num_layers': 2, 'num_units': 8, 'activation': 'relu', 'activation_out': 'sigmoid', 'loss': 'binary_crossentropy', 'initializer': 'random_uniform', 'optimizer': 'adam', 'learning_rate': 0.0006716184352348816, 'metrics': ['accuracy'], 'epochs': 10, 'batch_size': 8, 'one_hot': False}\n",
            "Starting 10-fold cross-validation...\n",
            "Finished cross-valiation. Took 0.8 mintues.\n",
            "Mean Accuracy: 71.10%, Standard Deviation: 2.76%\n",
            "\n",
            "Evaluating parameter \"batch_size\" using value \"16\"...\n",
            "Building model using param_dict:\n",
            " {'input_dim': 8, 'num_layers': 2, 'num_units': 8, 'activation': 'relu', 'activation_out': 'sigmoid', 'loss': 'binary_crossentropy', 'initializer': 'random_uniform', 'optimizer': 'adam', 'learning_rate': 0.0006716184352348816, 'metrics': ['accuracy'], 'epochs': 10, 'batch_size': 16, 'one_hot': False}\n",
            "Starting 10-fold cross-validation...\n",
            "Finished cross-valiation. Took 0.5 mintues.\n",
            "Mean Accuracy: 72.92%, Standard Deviation: 4.75%\n",
            "\n",
            "Evaluating parameter \"batch_size\" using value \"32\"...\n",
            "Building model using param_dict:\n",
            " {'input_dim': 8, 'num_layers': 2, 'num_units': 8, 'activation': 'relu', 'activation_out': 'sigmoid', 'loss': 'binary_crossentropy', 'initializer': 'random_uniform', 'optimizer': 'adam', 'learning_rate': 0.0006716184352348816, 'metrics': ['accuracy'], 'epochs': 10, 'batch_size': 32, 'one_hot': False}\n",
            "Starting 10-fold cross-validation...\n",
            "Finished cross-valiation. Took 0.3 mintues.\n",
            "Mean Accuracy: 69.29%, Standard Deviation: 4.97%\n"
          ],
          "name": "stdout"
        }
      ]
    },
    {
      "metadata": {
        "id": "Wth374fJe54x",
        "colab_type": "code",
        "outputId": "71943b1c-b3b1-494c-8149-45360278f7de",
        "colab": {
          "base_uri": "https://localhost:8080/",
          "height": 426
        }
      },
      "cell_type": "code",
      "source": [
        "df_batch = wrangle_results(results_batch)\n",
        "visualize_trend(df_batch)"
      ],
      "execution_count": 0,
      "outputs": [
        {
          "output_type": "display_data",
          "data": {
            "image/png": "[encoded data removed]",
            "text/plain": [
              "<matplotlib.figure.Figure at 0x7fbb14f17d68>"
            ]
          },
          "metadata": {
            "tags": []
          }
        }
      ]
    },
    {
      "metadata": {
        "id": "F-sVLKmifFZ3",
        "colab_type": "text"
      },
      "cell_type": "markdown",
      "source": [
        "Although batch size of 2 has a higher accuracy result, the time cost significantly outweighs the benefit, so we'll go with batch size of 16."
      ]
    },
    {
      "metadata": {
        "id": "w8bRyuiUfDb0",
        "colab_type": "code",
        "outputId": "a6ce6f66-d9b7-4095-a955-5a0be0149d12",
        "colab": {
          "base_uri": "https://localhost:8080/",
          "height": 139
        }
      },
      "cell_type": "code",
      "source": [
        "param_dict['batch_size'] = 16\n",
        "\n",
        "run_test(X=X, y=y, param_dict=param_dict)"
      ],
      "execution_count": 0,
      "outputs": [
        {
          "output_type": "stream",
          "text": [
            "Building model using param_dict:\n",
            " {'input_dim': 8, 'num_layers': 2, 'num_units': 8, 'activation': 'relu', 'activation_out': 'sigmoid', 'loss': 'binary_crossentropy', 'initializer': 'random_uniform', 'optimizer': 'adam', 'learning_rate': 0.0006716184352348816, 'metrics': ['accuracy'], 'epochs': 10, 'batch_size': 16, 'one_hot': False}\n",
            "Starting 10-fold cross-validation...\n",
            "Finished cross-valiation. Took 0.5 mintues.\n",
            "Mean Accuracy: 70.32%, Standard Deviation: 5.70%\n"
          ],
          "name": "stdout"
        },
        {
          "output_type": "execute_result",
          "data": {
            "text/plain": [
              "0.7032296672351377"
            ]
          },
          "metadata": {
            "tags": []
          },
          "execution_count": 35
        }
      ]
    },
    {
      "metadata": {
        "id": "slfdKc84pkop",
        "colab_type": "code",
        "outputId": "2470133e-8de5-4057-cf35-a80b46e841d6",
        "colab": {
          "base_uri": "https://localhost:8080/",
          "height": 34
        }
      },
      "cell_type": "code",
      "source": [
        "# Let's get the baseline accuracy to compare\n",
        "accuracy_baseline"
      ],
      "execution_count": 0,
      "outputs": [
        {
          "output_type": "execute_result",
          "data": {
            "text/plain": [
              "0.7161141519585621"
            ]
          },
          "metadata": {
            "tags": []
          },
          "execution_count": 36
        }
      ]
    },
    {
      "metadata": {
        "id": "3R6Ix8vZRrfp",
        "colab_type": "text"
      },
      "cell_type": "markdown",
      "source": [
        "This is weird... It's possible that due to randomness the result is not consistent. Wel'll still keep the best batch size and tune epochs."
      ]
    },
    {
      "metadata": {
        "id": "S8qBrBbiObAB",
        "colab_type": "code",
        "outputId": "7a7dfaa1-2c05-46f3-9e4a-588bdd9d3acd",
        "colab": {
          "base_uri": "https://localhost:8080/",
          "height": 1160
        }
      },
      "cell_type": "code",
      "source": [
        "epochs = [40, 60, 80, 100, 150, 200] \n",
        "\n",
        "tuning_options = get_tuning_options(epochs=epochs)\n",
        "\n",
        "results_epoch = run_test(X=X, y=y, \n",
        "                         param_dict=param_dict, \n",
        "                         tuning_options=tuning_options)\n",
        "\n",
        "df_epoch = wrangle_results(results_epoch)\n",
        "visualize_trend(df_epoch)"
      ],
      "execution_count": 0,
      "outputs": [
        {
          "output_type": "stream",
          "text": [
            "\n",
            "Evaluating parameter \"epochs\" using value \"40\"...\n",
            "Building model using param_dict:\n",
            " {'input_dim': 8, 'num_layers': 2, 'num_units': 8, 'activation': 'relu', 'activation_out': 'sigmoid', 'loss': 'binary_crossentropy', 'initializer': 'random_uniform', 'optimizer': 'adam', 'learning_rate': 0.0006716184352348816, 'metrics': ['accuracy'], 'epochs': 40, 'batch_size': 16, 'one_hot': False}\n",
            "Starting 10-fold cross-validation...\n",
            "Finished cross-valiation. Took 1.7 mintues.\n",
            "Mean Accuracy: 76.18%, Standard Deviation: 3.60%\n",
            "\n",
            "Evaluating parameter \"epochs\" using value \"60\"...\n",
            "Building model using param_dict:\n",
            " {'input_dim': 8, 'num_layers': 2, 'num_units': 8, 'activation': 'relu', 'activation_out': 'sigmoid', 'loss': 'binary_crossentropy', 'initializer': 'random_uniform', 'optimizer': 'adam', 'learning_rate': 0.0006716184352348816, 'metrics': ['accuracy'], 'epochs': 60, 'batch_size': 16, 'one_hot': False}\n",
            "Starting 10-fold cross-validation...\n",
            "Finished cross-valiation. Took 2.5 mintues.\n",
            "Mean Accuracy: 76.43%, Standard Deviation: 3.91%\n",
            "\n",
            "Evaluating parameter \"epochs\" using value \"80\"...\n",
            "Building model using param_dict:\n",
            " {'input_dim': 8, 'num_layers': 2, 'num_units': 8, 'activation': 'relu', 'activation_out': 'sigmoid', 'loss': 'binary_crossentropy', 'initializer': 'random_uniform', 'optimizer': 'adam', 'learning_rate': 0.0006716184352348816, 'metrics': ['accuracy'], 'epochs': 80, 'batch_size': 16, 'one_hot': False}\n",
            "Starting 10-fold cross-validation...\n",
            "Finished cross-valiation. Took 3.2 mintues.\n",
            "Mean Accuracy: 75.26%, Standard Deviation: 2.97%\n",
            "\n",
            "Evaluating parameter \"epochs\" using value \"100\"...\n",
            "Building model using param_dict:\n",
            " {'input_dim': 8, 'num_layers': 2, 'num_units': 8, 'activation': 'relu', 'activation_out': 'sigmoid', 'loss': 'binary_crossentropy', 'initializer': 'random_uniform', 'optimizer': 'adam', 'learning_rate': 0.0006716184352348816, 'metrics': ['accuracy'], 'epochs': 100, 'batch_size': 16, 'one_hot': False}\n",
            "Starting 10-fold cross-validation...\n",
            "Finished cross-valiation. Took 4.0 mintues.\n",
            "Mean Accuracy: 75.66%, Standard Deviation: 5.74%\n",
            "\n",
            "Evaluating parameter \"epochs\" using value \"150\"...\n",
            "Building model using param_dict:\n",
            " {'input_dim': 8, 'num_layers': 2, 'num_units': 8, 'activation': 'relu', 'activation_out': 'sigmoid', 'loss': 'binary_crossentropy', 'initializer': 'random_uniform', 'optimizer': 'adam', 'learning_rate': 0.0006716184352348816, 'metrics': ['accuracy'], 'epochs': 150, 'batch_size': 16, 'one_hot': False}\n",
            "Starting 10-fold cross-validation...\n",
            "Finished cross-valiation. Took 5.8 mintues.\n",
            "Mean Accuracy: 76.31%, Standard Deviation: 3.33%\n",
            "\n",
            "Evaluating parameter \"epochs\" using value \"200\"...\n",
            "Building model using param_dict:\n",
            " {'input_dim': 8, 'num_layers': 2, 'num_units': 8, 'activation': 'relu', 'activation_out': 'sigmoid', 'loss': 'binary_crossentropy', 'initializer': 'random_uniform', 'optimizer': 'adam', 'learning_rate': 0.0006716184352348816, 'metrics': ['accuracy'], 'epochs': 200, 'batch_size': 16, 'one_hot': False}\n",
            "Starting 10-fold cross-validation...\n",
            "Finished cross-valiation. Took 7.7 mintues.\n",
            "Mean Accuracy: 76.96%, Standard Deviation: 2.55%\n"
          ],
          "name": "stdout"
        },
        {
          "output_type": "display_data",
          "data": {
            "image/png": "[encoded data removed]",
            "text/plain": [
              "<matplotlib.figure.Figure at 0x7fbb12ec56a0>"
            ]
          },
          "metadata": {
            "tags": []
          }
        }
      ]
    },
    {
      "metadata": {
        "id": "vUsIjftTd2ZH",
        "colab_type": "text"
      },
      "cell_type": "markdown",
      "source": [
        "It seems the more epochs, the better the result is."
      ]
    },
    {
      "metadata": {
        "id": "6TlfScyWY6l8",
        "colab_type": "code",
        "colab": {}
      },
      "cell_type": "code",
      "source": [
        "epochs = get_best_options(df_epoch)\n",
        "param_dict['epochs'] = epochs[0][1]"
      ],
      "execution_count": 0,
      "outputs": []
    },
    {
      "metadata": {
        "id": "4N_yfWWyhCze",
        "colab_type": "text"
      },
      "cell_type": "markdown",
      "source": [
        "Next, let's test whether standardizing the data is helpful. We'll first try with the baseline parameters."
      ]
    },
    {
      "metadata": {
        "id": "ms_Rnb6ytigA",
        "colab_type": "code",
        "outputId": "11312adc-63c4-4df5-8f80-952ddf63c024",
        "colab": {
          "base_uri": "https://localhost:8080/",
          "height": 139
        }
      },
      "cell_type": "code",
      "source": [
        "run_test(X=X_std, y=y, param_dict=param_dict_defaults)"
      ],
      "execution_count": 0,
      "outputs": [
        {
          "output_type": "stream",
          "text": [
            "Building model using param_dict:\n",
            " {'input_dim': 8, 'num_layers': 2, 'num_units': 8, 'activation': 'relu', 'activation_out': 'sigmoid', 'loss': 'binary_crossentropy', 'initializer': 'random_uniform', 'optimizer': 'adam', 'learning_rate': 0.001, 'metrics': ['accuracy'], 'epochs': 10, 'batch_size': 4, 'one_hot': False}\n",
            "Starting 10-fold cross-validation...\n",
            "Finished cross-valiation. Took 1.7 mintues.\n",
            "Mean Accuracy: 76.95%, Standard Deviation: 2.88%\n"
          ],
          "name": "stdout"
        },
        {
          "output_type": "execute_result",
          "data": {
            "text/plain": [
              "0.769497609435901"
            ]
          },
          "metadata": {
            "tags": []
          },
          "execution_count": 39
        }
      ]
    },
    {
      "metadata": {
        "id": "NeAhIzWYd0DG",
        "colab_type": "text"
      },
      "cell_type": "markdown",
      "source": [
        "Wow, incredible! That's 76.95% vs. 71.61%, a more than 5 percentage points increase without doing any tuning! Let's now use the best param options obtained so far and the standardized data to train a final model."
      ]
    },
    {
      "metadata": {
        "id": "vrBdzzCgeIBH",
        "colab_type": "code",
        "outputId": "9647f7bf-e8e9-484b-ba5c-ab57c805d733",
        "colab": {
          "base_uri": "https://localhost:8080/",
          "height": 139
        }
      },
      "cell_type": "code",
      "source": [
        "run_test(X=X_std, y=y, param_dict=param_dict)"
      ],
      "execution_count": 0,
      "outputs": [
        {
          "output_type": "stream",
          "text": [
            "Building model using param_dict:\n",
            " {'input_dim': 8, 'num_layers': 2, 'num_units': 8, 'activation': 'relu', 'activation_out': 'sigmoid', 'loss': 'binary_crossentropy', 'initializer': 'random_uniform', 'optimizer': 'adam', 'learning_rate': 0.0006716184352348816, 'metrics': ['accuracy'], 'epochs': 200, 'batch_size': 16, 'one_hot': False}\n",
            "Starting 10-fold cross-validation...\n",
            "Finished cross-valiation. Took 8.3 mintues.\n",
            "Mean Accuracy: 78.53%, Standard Deviation: 3.64%\n"
          ],
          "name": "stdout"
        },
        {
          "output_type": "execute_result",
          "data": {
            "text/plain": [
              "0.7852699952588371"
            ]
          },
          "metadata": {
            "tags": []
          },
          "execution_count": 41
        }
      ]
    },
    {
      "metadata": {
        "id": "QLrDWMZjs7zi",
        "colab_type": "text"
      },
      "cell_type": "markdown",
      "source": [
        "There we go! We have the [state-of-the-art accuracy result](https://www.kaggle.com/general/19387) now with 10-fold cross-validation! Although it seems parameter tuning's contribution in performance increase is marginal compared with data standardization."
      ]
    },
    {
      "metadata": {
        "id": "-Xr-p1kAOmvn",
        "colab_type": "text"
      },
      "cell_type": "markdown",
      "source": [
        "## To-do's\n",
        "\n",
        "- add dropout layer and regularization\n",
        "- add time used in visualization"
      ]
    }
  ]
}