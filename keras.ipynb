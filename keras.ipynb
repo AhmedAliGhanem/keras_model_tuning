{
  "nbformat": 4,
  "nbformat_minor": 0,
  "metadata": {
    "colab": {
      "name": "keras.ipynb",
      "version": "0.3.2",
      "provenance": [],
      "collapsed_sections": [],
      "include_colab_link": true
    },
    "kernelspec": {
      "name": "python3",
      "display_name": "Python 3"
    },
    "accelerator": "GPU"
  },
  "cells": [
    {
      "cell_type": "markdown",
      "metadata": {
        "id": "view-in-github",
        "colab_type": "text"
      },
      "source": [
        "<a href=\"https://colab.research.google.com/github/georgeliu1998/keras_model_tuning/blob/master/keras.ipynb\" target=\"_parent\"><img src=\"https://colab.research.google.com/assets/colab-badge.svg\" alt=\"Open In Colab\"/></a>"
      ]
    },
    {
      "metadata": {
        "id": "QQl1lUm7zmN9",
        "colab_type": "code",
        "colab": {
          "base_uri": "https://localhost:8080/",
          "height": 34
        },
        "outputId": "d3fc7ef3-a625-4724-b0d1-dde12f273747"
      },
      "cell_type": "code",
      "source": [
        "import numpy as np\n",
        "import pandas as pd\n",
        "import sklearn\n",
        "import pickle\n",
        "from time import time\n",
        "import importlib # for dynamic class instantiation from a string\n",
        "from copy import deepcopy\n",
        "\n",
        "from sklearn.model_selection import StratifiedKFold, cross_val_score\n",
        "#from sklearn.preprocessing import StandardScaler\n",
        "\n",
        "import xgboost as xgb\n",
        "\n",
        "\n",
        "from keras.models import Sequential\n",
        "from keras.layers import Dense\n",
        "#from keras.wrappers.scikit_learn import KerasClassifier\n",
        "from keras.utils import to_categorical\n",
        "\n",
        "import matplotlib.pyplot as plt\n",
        "import seaborn as sns\n",
        "%matplotlib inline"
      ],
      "execution_count": 1,
      "outputs": [
        {
          "output_type": "stream",
          "text": [
            "Using TensorFlow backend.\n"
          ],
          "name": "stderr"
        }
      ]
    },
    {
      "metadata": {
        "id": "pYJCnFnjwiLF",
        "colab_type": "code",
        "colab": {}
      },
      "cell_type": "code",
      "source": [
        "from numpy.random import seed\n",
        "seed(6)\n",
        "from tensorflow import set_random_seed\n",
        "set_random_seed(6)\n",
        "\n",
        "seed = np.random.RandomState(6)"
      ],
      "execution_count": 0,
      "outputs": []
    },
    {
      "metadata": {
        "id": "jUyYfdfxreXS",
        "colab_type": "code",
        "outputId": "9f890785-f76f-4fa6-c436-27832b8f3dbb",
        "colab": {
          "base_uri": "https://localhost:8080/",
          "height": 122
        }
      },
      "cell_type": "code",
      "source": [
        "# Mount gdrive \n",
        "from google.colab import drive\n",
        "drive.mount('/content/gdrive')"
      ],
      "execution_count": 3,
      "outputs": [
        {
          "output_type": "stream",
          "text": [
            "Go to this URL in a browser: https://accounts.google.com/o/oauth2/auth?client_id=947318989803-6bn6qk8qdgf4n4g3pfee6491hc0brc4i.apps.googleusercontent.com&redirect_uri=urn%3Aietf%3Awg%3Aoauth%3A2.0%3Aoob&scope=email%20https%3A%2F%2Fwww.googleapis.com%2Fauth%2Fdocs.test%20https%3A%2F%2Fwww.googleapis.com%2Fauth%2Fdrive%20https%3A%2F%2Fwww.googleapis.com%2Fauth%2Fdrive.photos.readonly%20https%3A%2F%2Fwww.googleapis.com%2Fauth%2Fpeopleapi.readonly&response_type=code\n",
            "\n",
            "Enter your authorization code:\n",
            "··········\n",
            "Mounted at /content/gdrive\n"
          ],
          "name": "stdout"
        }
      ]
    },
    {
      "metadata": {
        "id": "HCQ1-GuByxYx",
        "colab_type": "code",
        "colab": {}
      },
      "cell_type": "code",
      "source": [
        "class SequentialModel:\n",
        "  \"\"\"\n",
        "  The base class for a Neural Networks model\n",
        "  \"\"\"\n",
        "  \n",
        "  def __init__(self, input_dim, num_layers, num_units, \n",
        "               activation, activation_out, \n",
        "               loss, initializer, optimizer, learning_rate, \n",
        "               metrics, epochs, batch_size, one_hot=False):\n",
        "    \"\"\"\n",
        "    Params:\n",
        "      input_dim: int, number of features\n",
        "      num_layers: int, number of layers of the model (excluding the input layer)\n",
        "      num_units: list, number of units in each layer(excluding the input layer)\n",
        "      activation: str, activation function used in all layers except output\n",
        "      activation_out: str, activation function used in output layer\n",
        "      loss: str, loss functon\n",
        "      initializer: str, kernel initializer\n",
        "      optimizer: str, optimizer\n",
        "      metrics: list of strings, metrics used\n",
        "      epochs: int, number of epochs to train for\n",
        "      batch_size: int, number of samples per batch\n",
        "      one_hot: bool, whether one hot encoding is needed\n",
        "    \"\"\"\n",
        "    self.input_dim = input_dim\n",
        "    self.num_layers = num_layers\n",
        "    self.num_units = [num_units, 1]\n",
        "    self.activation = activation\n",
        "    self.activation_out = activation_out\n",
        "    self.loss = loss\n",
        "    self.initializer = initializer\n",
        "    self.optimizer = optimizer\n",
        "    self.learning_rate = learning_rate\n",
        "    self.metrics = metrics\n",
        "    self.epochs = epochs\n",
        "    self.batch_size = batch_size\n",
        "    self.one_hot = one_hot\n",
        "    \n",
        "    # Initialize the sequential model\n",
        "    self.model = Sequential()\n",
        "\n",
        "    \n",
        "  def build_model(self):\n",
        "    \"\"\"\n",
        "    Adds layers and compiles the model\n",
        "    \"\"\"\n",
        "    # Ensure num_units tuple's length is the same as num_layers\n",
        "    if self.num_layers != len(self.num_units):\n",
        "      # Expand the list by repeating number of nodes except for last layer\n",
        "      num_nodes, num_nodes_out = self.num_units[0], self.num_units[-1]\n",
        "      self.num_units = [i for i in range(self.num_layers-1) for i in [num_nodes]]\n",
        "      self.num_units.append(num_nodes_out) \n",
        " \n",
        "    # Loop thru all the layers\n",
        "    for i in range(self.num_layers):\n",
        "      # different layers should have different setups\n",
        "      if i == 0: # input and first hidden layer\n",
        "        self.model.add(Dense(units=self.num_units[i],\n",
        "                             input_dim=self.input_dim,\n",
        "                             kernel_initializer=self.initializer,\n",
        "                             activation=self.activation)) \n",
        "      elif i+1 == self.num_layers: # output layer\n",
        "        self.model.add(Dense(units=self.num_units[i],\n",
        "                             kernel_initializer=self.initializer,\n",
        "                             activation=self.activation_out))\n",
        "      else: # hidden layers\n",
        "        self.model.add(Dense(units=self.num_units[i],\n",
        "                            kernel_initializer=self.initializer,\n",
        "                            activation=self.activation))\n",
        "    \n",
        "    # Instantiate the optimizer class\n",
        "    optimizer_class = getattr(importlib.import_module(\"keras.optimizers\"), \n",
        "                             self.optimizer)\n",
        "    self.optimizer = optimizer_class(lr=self.learning_rate)\n",
        "    # Compile the model\n",
        "    self.model.compile(loss=self.loss,\n",
        "                       optimizer=self.optimizer,\n",
        "                       metrics=self.metrics)\n",
        "        \n",
        "  \n",
        "  def evaluate_model(self, X, y, n_splits=3):\n",
        "    \"\"\"\n",
        "    Evaluates the model using cross-validation.\n",
        "    \n",
        "    Params:\n",
        "      X: np.array, features\n",
        "      y: np.array, labels\n",
        "      n_splits: int, number of folds for the cross-validation\n",
        "    Returns:\n",
        "      mean_accuracy: float, the average accuracy based on the cross-validation.\n",
        "    \n",
        "    \"\"\"\n",
        "    score_lst = []\n",
        "    t1 = time()\n",
        "    \n",
        "    print(\"Starting {}-fold cross-validation...\".format(n_splits))\n",
        "    \n",
        "    kfold = StratifiedKFold(n_splits=n_splits, \n",
        "                            shuffle=True, \n",
        "                            random_state=seed)\n",
        "    \n",
        "    # Loop through the different folds\n",
        "    for train_index, test_index in kfold.split(X, y):\n",
        "      # Do one-hot encoding when needed\n",
        "      if self.one_hot:\n",
        "        y_one_hot = to_categorical(y)\n",
        "      else:\n",
        "        y_one_hot = y\n",
        "        \n",
        "      self.model.fit(X[train_index],\n",
        "                     y_one_hot[train_index],\n",
        "                     epochs=self.epochs,\n",
        "                     batch_size=self.batch_size,\n",
        "                     verbose=0)\n",
        "        \n",
        "      scores = self.model.evaluate(X[test_index],\n",
        "                                   y_one_hot[test_index], \n",
        "                                   verbose=0)\n",
        "            \n",
        "      # The second item is accuracy\n",
        "      score_lst.append(scores[1])\n",
        "\n",
        "    t2 = time()\n",
        "    t = t2 - t1\n",
        "    # Convert time to mintues\n",
        "    t /= 60\n",
        "\n",
        "    print(\"Finished cross-valiation. Took {:.1f} mintues.\".format(t))\n",
        "\n",
        "    # Convert to np.array and calculate mean and sd\n",
        "    score_lst = np.array(score_lst)\n",
        "    mean_acc = score_lst.mean()\n",
        "    sd_acc = score_lst.std()\n",
        "\n",
        "    print(\"Mean Accuracy: {:.2%}, Standard Deviation: {:.2%}\".format(mean_acc, sd_acc))\n",
        "    return mean_acc"
      ],
      "execution_count": 0,
      "outputs": []
    },
    {
      "metadata": {
        "id": "3QbFJkQVK4tQ",
        "colab_type": "code",
        "colab": {}
      },
      "cell_type": "code",
      "source": [
        "def get_defaults(input_dim=8, \n",
        "                 num_layers=2,\n",
        "                 num_units=8,\n",
        "                 activation='relu',\n",
        "                 activation_out='sigmoid',\n",
        "                 loss='binary_crossentropy',\n",
        "                 initializer='random_uniform',\n",
        "                 optimizer='adam',\n",
        "                 learning_rate=0.001,\n",
        "                 metrics=['accuracy'],\n",
        "                 epochs=10, \n",
        "                 batch_size=4,\n",
        "                 one_hot=False):\n",
        "  \"\"\"\n",
        "  Returns a dict of default hyperparameter values\n",
        "  \"\"\"\n",
        "\n",
        "  defaults = {'input_dim': input_dim, \n",
        "              'num_layers': num_layers, \n",
        "              'num_units': num_units, \n",
        "              'activation': activation, \n",
        "              'activation_out': activation_out, \n",
        "              'loss': loss, \n",
        "              'initializer': initializer, \n",
        "              'optimizer': optimizer, \n",
        "              'learning_rate': learning_rate, \n",
        "              'metrics': metrics, \n",
        "              'epochs': epochs, \n",
        "              'batch_size': batch_size, \n",
        "              'one_hot': one_hot}\n",
        "  \n",
        "  return defaults\n",
        "\n",
        "\n",
        "def get_tuning_options(**kwargs):\n",
        "  \"\"\"\n",
        "  Define tuning parameter and corresponding options\n",
        "  \n",
        "  Params:\n",
        "    -----------------####################\n",
        "  Returns:\n",
        "    -----------------####################\n",
        "  \n",
        "  \"\"\" \n",
        "  tuning_options = {}\n",
        "  \n",
        "  for param, options in kwargs.items():\n",
        "    tuning_options[param] = options \n",
        "  \n",
        "  return tuning_options"
      ],
      "execution_count": 0,
      "outputs": []
    },
    {
      "metadata": {
        "id": "c3ItJYo2Zd7o",
        "colab_type": "code",
        "colab": {}
      },
      "cell_type": "code",
      "source": [
        "def build_eval(X, y, param_dict):\n",
        "  \"\"\"\n",
        "  Builds a Neural Network model using the given params and returns the \n",
        "  cross-validation accuracy\n",
        "  \n",
        "  Params:\n",
        "    param_dict: dict - Python dict containing the tuning parameters and values\n",
        "  \n",
        "  Returns:\n",
        "    result: float - percentage accuracy based on cross-validation\n",
        "  \"\"\"\n",
        "  model = SequentialModel(input_dim=param_dict['input_dim'], \n",
        "                          num_layers=param_dict['num_layers'], \n",
        "                          num_units=param_dict['num_units'],\n",
        "                          activation=param_dict['activation'], \n",
        "                          activation_out=param_dict['activation_out'], \n",
        "                          loss=param_dict['loss'], \n",
        "                          initializer=param_dict['initializer'], \n",
        "                          optimizer=param_dict['optimizer'], \n",
        "                          learning_rate=param_dict['learning_rate'], \n",
        "                          metrics=param_dict['metrics'], \n",
        "                          epochs=param_dict['epochs'], \n",
        "                          batch_size=param_dict['batch_size'], \n",
        "                          one_hot=param_dict['one_hot'])\n",
        "  model.build_model()\n",
        "  result = model.evaluate_model(X, y)\n",
        "  \n",
        "  return result\n",
        "\n",
        "\n",
        "def run_test(X, y, param_dict, tuning_options=None):\n",
        "  \"\"\"\n",
        "  Tests different parameter's accurcy using the given tuning options\n",
        "\n",
        "  Params:\n",
        "    -----------------####################\n",
        "  Returns:\n",
        "    -----------------####################\n",
        "\n",
        "  \"\"\"\n",
        "  if tuning_options:\n",
        "    results = {}\n",
        "        \n",
        "    for parameter, options in  tuning_options.items():\n",
        "      results[parameter] = {}\n",
        "      param_dict_temp = deepcopy(param_dict)\n",
        "      \n",
        "      for option in options:\n",
        "        print(\"\\nEvaluating parameter \\\"{}\\\" using value \\\"{}\\\"...\".format(parameter, option))\n",
        "        # Update the corresponding parameter\n",
        "        param_dict_temp[parameter] = option\n",
        "        \n",
        "        try:\n",
        "          #print(\"param_dict_temp: {}\".format(param_dict_temp))\n",
        "          results[parameter][option] = build_eval(X, y, param_dict_temp)\n",
        "        except Exception as e: \n",
        "          results[parameter][option] = 'NaN'\n",
        "          print('Error: {}, skipping...'.format(e))\n",
        "          pass\n",
        "    return results\n",
        "  \n",
        "  else:\n",
        "    return build_eval(X, y, param_dict)"
      ],
      "execution_count": 0,
      "outputs": []
    },
    {
      "metadata": {
        "id": "q_xgwDiwjvHr",
        "colab_type": "code",
        "colab": {}
      },
      "cell_type": "code",
      "source": [
        "def wrangle_results(results):\n",
        "    \"\"\"\n",
        "    \n",
        "    Params:\n",
        "      results: dict - the results dict returned by the build_eval() function\n",
        "\n",
        "    Returns:\n",
        "        df_plot: pandas df, the wrangled long format dataframe\n",
        "    \"\"\"\n",
        "    df = pd.DataFrame(results)\n",
        "    # Get the col names as value vars for melt func\n",
        "    value_vars = df.columns.tolist()\n",
        "    # Reset index and rename the index col \n",
        "    df = df.reset_index().rename(columns={'index': 'option'})\n",
        "    # Transform from wide to long format for easy plotting\n",
        "    df_long = pd.melt(df, id_vars='option', value_vars=value_vars)\n",
        "    df_long = df_long.rename(columns={'variable': 'parameter'})\n",
        "    # Exclude the zero and null values\n",
        "    df_long = df_long[~df_long['value'].isnull()]\n",
        "    df_long = df_long.query(\"value!=0 & value!='NaN'\")\n",
        "\n",
        "    # Calculate the range and sd of each parameter group and convert to a df\n",
        "    ranges = df_long.groupby('parameter').apply(lambda grp: grp.value.max() - grp.value.min())\n",
        "    sd = df_long.groupby('parameter').apply(lambda grp: grp.value.std())\n",
        "    spread = pd.concat([ranges, sd], axis=1).rename(columns={0: 'ranges', 1: 'sd'})\n",
        "    # Join back the df\n",
        "    df_spread = pd.merge(df_long, spread, how='left', left_on='parameter', right_index=True)\n",
        "    # Reorder columns\n",
        "    df_spread = df_spread[['parameter', 'option', 'value', 'ranges', 'sd']]\n",
        "    # Remove the row with zero value\n",
        "    df_spread = df_spread.query('ranges!=0')\n",
        "    # Change column dtype\n",
        "    df_spread['value'] = df_spread['value'].astype(float)\n",
        "    # Sort the dataframe and use the resulting index to slice\n",
        "    # This ensures the plot will be ordered accordingly\n",
        "    idx = df_spread.sort_values(by=['ranges', 'option'], ascending=False).index\n",
        "    df_plot = df_spread.loc[idx, :]\n",
        "    \n",
        "    return df_plot\n",
        "\n",
        "\n",
        "def visualize_distribution(df):\n",
        "  fig, ax = plt.subplots(figsize=(16, 12))\n",
        "  df['value'] =  df['value'].astype(float)\n",
        "  sns.boxplot(x='parameter', y='value', data=df, ax=ax)\n",
        "  sns.swarmplot(x='parameter', y='value', data=df, size=12, ax=ax)\n",
        "  ax.set_xlabel('Parameters',size=20)\n",
        "  ax.set_ylabel('Values',size=20)\n",
        "\n",
        "\n",
        "def visualize_trend(df, param):\n",
        "  \"\"\"\n",
        "  Visualizes a parameter's tuning trend\n",
        "\n",
        "  Params:\n",
        "    param - string, the parameter to visualize\n",
        "  returns:\n",
        "    best_option: string/integer/float, option with the best accuracy for the given parameter \n",
        "  \"\"\"\n",
        "\n",
        "  df =  df.query(\"parameter==@param\")\n",
        "\n",
        "  fig, ax = plt.subplots(figsize=(12, 8))\n",
        "  df.plot(x='option', y='value', ax=ax) \n",
        "  ax.set_xlim(df.option.min()*0.9, df.option.max()*1.1)\n",
        "  plt.show()\n",
        "\n",
        "  # Get the best parameter options\n",
        "  best_option = df.groupby('parameter').apply(lambda grp: grp.nlargest(1, 'value'))[['parameter', 'option']].values.tolist()\n",
        "\n",
        "  return best_option"
      ],
      "execution_count": 0,
      "outputs": []
    },
    {
      "metadata": {
        "id": "wwRIfdxNJ6oM",
        "colab_type": "code",
        "outputId": "c8dfd7dd-adca-44a2-942b-6df6521e80df",
        "colab": {
          "base_uri": "https://localhost:8080/",
          "height": 136
        }
      },
      "cell_type": "code",
      "source": [
        "df = pd.read_csv(\"/content/gdrive/My Drive/pima-indians-diabetes.csv\", header=None)\n",
        "print(df.head())\n",
        "\n",
        "# Get the features and labels as np arrays\n",
        "X, y = df.values[:, 0:8], df.values[:, 8]\n",
        "print(X.shape, y.shape)"
      ],
      "execution_count": 8,
      "outputs": [
        {
          "output_type": "stream",
          "text": [
            "   0    1   2   3    4     5      6   7  8\n",
            "0  6  148  72  35    0  33.6  0.627  50  1\n",
            "1  1   85  66  29    0  26.6  0.351  31  0\n",
            "2  8  183  64   0    0  23.3  0.672  32  1\n",
            "3  1   89  66  23   94  28.1  0.167  21  0\n",
            "4  0  137  40  35  168  43.1  2.288  33  1\n",
            "(768, 8) (768,)\n"
          ],
          "name": "stdout"
        }
      ]
    },
    {
      "metadata": {
        "id": "Che2aHnO5Q6v",
        "colab_type": "code",
        "outputId": "89e2a11b-2baf-4a59-f00a-1ad620b968b6",
        "colab": {
          "base_uri": "https://localhost:8080/",
          "height": 51
        }
      },
      "cell_type": "code",
      "source": [
        "# Get baseline accuracy using XGBoost\n",
        "t1 = time()\n",
        "clf = xgb.XGBClassifier()\n",
        "cv = StratifiedKFold(n_splits=3, random_state=seed)\n",
        "scores = cross_val_score(clf, X, y, cv=cv)\n",
        "t2 = time()\n",
        "t = t2 - t1\n",
        "\n",
        "print(\"Mean Accuracy: {:.2%}, Standard Deviation: {:.2%}\".format(scores.mean(), scores.std()))\n",
        "print(\"Time taken: {:.2f} seconds\".format(t))"
      ],
      "execution_count": 9,
      "outputs": [
        {
          "output_type": "stream",
          "text": [
            "Mean Accuracy: 77.61%, Standard Deviation: 3.07%\n",
            "Time taken: 0.12 seconds\n"
          ],
          "name": "stdout"
        }
      ]
    },
    {
      "metadata": {
        "id": "ynXE8tfeKWyk",
        "colab_type": "code",
        "outputId": "43bf59ce-0285-452b-920f-eb9139e095dc",
        "colab": {
          "base_uri": "https://localhost:8080/",
          "height": 238
        }
      },
      "cell_type": "code",
      "source": [
        "param_dict = get_defaults()\n",
        "param_dict"
      ],
      "execution_count": 10,
      "outputs": [
        {
          "output_type": "execute_result",
          "data": {
            "text/plain": [
              "{'activation': 'relu',\n",
              " 'activation_out': 'sigmoid',\n",
              " 'batch_size': 4,\n",
              " 'epochs': 10,\n",
              " 'initializer': 'random_uniform',\n",
              " 'input_dim': 8,\n",
              " 'learning_rate': 0.001,\n",
              " 'loss': 'binary_crossentropy',\n",
              " 'metrics': ['accuracy'],\n",
              " 'num_layers': 2,\n",
              " 'num_units': 8,\n",
              " 'one_hot': False,\n",
              " 'optimizer': 'adam'}"
            ]
          },
          "metadata": {
            "tags": []
          },
          "execution_count": 10
        }
      ]
    },
    {
      "metadata": {
        "id": "Yc5XufW6ANeo",
        "colab_type": "code",
        "outputId": "c124cad2-91c1-4cd3-8ede-5974c231ff98",
        "colab": {
          "base_uri": "https://localhost:8080/",
          "height": 255
        }
      },
      "cell_type": "code",
      "source": [
        "num_units = [4, 8, 16, 32, 64]\n",
        "num_layers = [2, 4, 8, 16, 32]\n",
        "loss = ['binary_crossentropy', 'categorical_crossentropy', 'sparse_categorical_crossentropy']\n",
        "initializer = ['random_uniform', 'random_normal', 'TruncatedNormal', 'glorot_normal', 'glorot_uniform']\n",
        "learning_rate = [0.001, 0.002, 0.01, 0.1, 1]\n",
        "optimizer = ['adam', 'adamax', 'adagrad', 'sgd', 'rmsprop']\n",
        "epochs = [10, 20, 40, 80, 160]\n",
        "batch_size = [1, 2, 4, 8, 16]\n",
        "\n",
        "\n",
        "tuning_options = get_tuning_options(num_units=num_units, \n",
        "                                    num_layers=num_layers, \n",
        "                                    loss=loss, \n",
        "                                    initializer=initializer,\n",
        "                                    learning_rate=learning_rate, \n",
        "                                    optimizer=optimizer, \n",
        "                                    epochs=epochs, \n",
        "                                    batch_size=batch_size)\n",
        "tuning_options"
      ],
      "execution_count": 11,
      "outputs": [
        {
          "output_type": "execute_result",
          "data": {
            "text/plain": [
              "{'batch_size': [1, 2, 4, 8, 16],\n",
              " 'epochs': [10, 20, 40, 80, 160],\n",
              " 'initializer': ['random_uniform',\n",
              "  'random_normal',\n",
              "  'TruncatedNormal',\n",
              "  'glorot_normal',\n",
              "  'glorot_uniform'],\n",
              " 'learning_rate': [0.001, 0.002, 0.01, 0.1, 1],\n",
              " 'loss': ['binary_crossentropy',\n",
              "  'categorical_crossentropy',\n",
              "  'sparse_categorical_crossentropy'],\n",
              " 'num_layers': [2, 4, 8, 16, 32],\n",
              " 'num_units': [4, 8, 16, 32, 64],\n",
              " 'optimizer': ['adam', 'adamax', 'adagrad', 'sgd', 'rmsprop']}"
            ]
          },
          "metadata": {
            "tags": []
          },
          "execution_count": 11
        }
      ]
    },
    {
      "metadata": {
        "id": "8CjnqVGL_s_Q",
        "colab_type": "code",
        "outputId": "6db8cf60-cf65-41db-f565-81decc5d7fac",
        "colab": {
          "base_uri": "https://localhost:8080/",
          "height": 85
        }
      },
      "cell_type": "code",
      "source": [
        "# Get baseline accuracy using defauls with the defined Neural Networks class  \n",
        "run_test(X, y, param_dict)"
      ],
      "execution_count": 14,
      "outputs": [
        {
          "output_type": "stream",
          "text": [
            "Starting 3-fold cross-validation...\n",
            "Finished cross-valiation. Took 0.3 mintues.\n",
            "Mean Accuracy: 70.45%, Standard Deviation: 1.39%\n"
          ],
          "name": "stdout"
        },
        {
          "output_type": "execute_result",
          "data": {
            "text/plain": [
              "0.7044647134495444"
            ]
          },
          "metadata": {
            "tags": []
          },
          "execution_count": 14
        }
      ]
    },
    {
      "metadata": {
        "id": "iTqI0PIcKSIW",
        "colab_type": "code",
        "outputId": "a8eef9ae-a6a8-485b-bead-637061adb8ed",
        "colab": {
          "base_uri": "https://localhost:8080/",
          "height": 3352
        }
      },
      "cell_type": "code",
      "source": [
        "results = run_test(X=X, y=y, param_dict=param_dict,\n",
        "                   tuning_options=tuning_options)"
      ],
      "execution_count": 15,
      "outputs": [
        {
          "output_type": "stream",
          "text": [
            "\n",
            "Evaluating parameter \"num_units\" using value \"4\"...\n",
            "Starting 3-fold cross-validation...\n",
            "Finished cross-valiation. Took 0.3 mintues.\n",
            "Mean Accuracy: 66.54%, Standard Deviation: 1.33%\n",
            "\n",
            "Evaluating parameter \"num_units\" using value \"8\"...\n",
            "Starting 3-fold cross-validation...\n",
            "Finished cross-valiation. Took 0.3 mintues.\n",
            "Mean Accuracy: 66.54%, Standard Deviation: 1.85%\n",
            "\n",
            "Evaluating parameter \"num_units\" using value \"16\"...\n",
            "Starting 3-fold cross-validation...\n",
            "Finished cross-valiation. Took 0.3 mintues.\n",
            "Mean Accuracy: 69.27%, Standard Deviation: 0.74%\n",
            "\n",
            "Evaluating parameter \"num_units\" using value \"32\"...\n",
            "Starting 3-fold cross-validation...\n",
            "Finished cross-valiation. Took 0.3 mintues.\n",
            "Mean Accuracy: 70.31%, Standard Deviation: 0.09%\n",
            "\n",
            "Evaluating parameter \"num_units\" using value \"64\"...\n",
            "Starting 3-fold cross-validation...\n",
            "Finished cross-valiation. Took 0.3 mintues.\n",
            "Mean Accuracy: 69.93%, Standard Deviation: 3.70%\n",
            "\n",
            "Evaluating parameter \"num_layers\" using value \"2\"...\n",
            "Starting 3-fold cross-validation...\n",
            "Finished cross-valiation. Took 0.3 mintues.\n",
            "Mean Accuracy: 70.58%, Standard Deviation: 2.62%\n",
            "\n",
            "Evaluating parameter \"num_layers\" using value \"4\"...\n",
            "Starting 3-fold cross-validation...\n",
            "Finished cross-valiation. Took 0.4 mintues.\n",
            "Mean Accuracy: 65.10%, Standard Deviation: 0.10%\n",
            "\n",
            "Evaluating parameter \"num_layers\" using value \"8\"...\n",
            "Starting 3-fold cross-validation...\n",
            "Finished cross-valiation. Took 0.6 mintues.\n",
            "Mean Accuracy: 65.10%, Standard Deviation: 0.10%\n",
            "\n",
            "Evaluating parameter \"num_layers\" using value \"16\"...\n",
            "Starting 3-fold cross-validation...\n",
            "Finished cross-valiation. Took 0.9 mintues.\n",
            "Mean Accuracy: 65.10%, Standard Deviation: 0.10%\n",
            "\n",
            "Evaluating parameter \"num_layers\" using value \"32\"...\n",
            "Starting 3-fold cross-validation...\n",
            "Finished cross-valiation. Took 1.5 mintues.\n",
            "Mean Accuracy: 65.10%, Standard Deviation: 0.10%\n",
            "\n",
            "Evaluating parameter \"loss\" using value \"binary_crossentropy\"...\n",
            "Starting 3-fold cross-validation...\n",
            "Finished cross-valiation. Took 0.3 mintues.\n",
            "Mean Accuracy: 69.41%, Standard Deviation: 2.51%\n",
            "\n",
            "Evaluating parameter \"loss\" using value \"categorical_crossentropy\"...\n",
            "Starting 3-fold cross-validation...\n",
            "Error: You are passing a target array of shape (511, 1) while using as loss `categorical_crossentropy`. `categorical_crossentropy` expects targets to be binary matrices (1s and 0s) of shape (samples, classes). If your targets are integer classes, you can convert them to the expected format via:\n",
            "```\n",
            "from keras.utils import to_categorical\n",
            "y_binary = to_categorical(y_int)\n",
            "```\n",
            "\n",
            "Alternatively, you can use the loss function `sparse_categorical_crossentropy` instead, which does expect integer targets., skipping...\n",
            "\n",
            "Evaluating parameter \"loss\" using value \"sparse_categorical_crossentropy\"...\n",
            "Starting 3-fold cross-validation...\n",
            "Finished cross-valiation. Took 0.3 mintues.\n",
            "Mean Accuracy: 0.00%, Standard Deviation: 0.00%\n",
            "\n",
            "Evaluating parameter \"initializer\" using value \"random_uniform\"...\n",
            "Starting 3-fold cross-validation...\n",
            "Finished cross-valiation. Took 0.3 mintues.\n",
            "Mean Accuracy: 69.28%, Standard Deviation: 1.82%\n",
            "\n",
            "Evaluating parameter \"initializer\" using value \"random_normal\"...\n",
            "Starting 3-fold cross-validation...\n",
            "Finished cross-valiation. Took 0.3 mintues.\n",
            "Mean Accuracy: 67.85%, Standard Deviation: 3.10%\n",
            "\n",
            "Evaluating parameter \"initializer\" using value \"TruncatedNormal\"...\n",
            "Starting 3-fold cross-validation...\n",
            "Finished cross-valiation. Took 0.3 mintues.\n",
            "Mean Accuracy: 69.15%, Standard Deviation: 2.45%\n",
            "\n",
            "Evaluating parameter \"initializer\" using value \"glorot_normal\"...\n",
            "Starting 3-fold cross-validation...\n",
            "Finished cross-valiation. Took 0.3 mintues.\n",
            "Mean Accuracy: 67.71%, Standard Deviation: 0.65%\n",
            "\n",
            "Evaluating parameter \"initializer\" using value \"glorot_uniform\"...\n",
            "Starting 3-fold cross-validation...\n",
            "Finished cross-valiation. Took 0.3 mintues.\n",
            "Mean Accuracy: 62.13%, Standard Deviation: 5.84%\n",
            "\n",
            "Evaluating parameter \"learning_rate\" using value \"0.001\"...\n",
            "Starting 3-fold cross-validation...\n",
            "Finished cross-valiation. Took 0.3 mintues.\n",
            "Mean Accuracy: 68.63%, Standard Deviation: 1.96%\n",
            "\n",
            "Evaluating parameter \"learning_rate\" using value \"0.002\"...\n",
            "Starting 3-fold cross-validation...\n",
            "Finished cross-valiation. Took 0.3 mintues.\n",
            "Mean Accuracy: 70.19%, Standard Deviation: 2.15%\n",
            "\n",
            "Evaluating parameter \"learning_rate\" using value \"0.01\"...\n",
            "Starting 3-fold cross-validation...\n",
            "Finished cross-valiation. Took 0.3 mintues.\n",
            "Mean Accuracy: 65.10%, Standard Deviation: 0.10%\n",
            "\n",
            "Evaluating parameter \"learning_rate\" using value \"0.1\"...\n",
            "Starting 3-fold cross-validation...\n",
            "Finished cross-valiation. Took 0.3 mintues.\n",
            "Mean Accuracy: 65.10%, Standard Deviation: 0.10%\n",
            "\n",
            "Evaluating parameter \"learning_rate\" using value \"1\"...\n",
            "Starting 3-fold cross-validation...\n",
            "Finished cross-valiation. Took 0.3 mintues.\n",
            "Mean Accuracy: 34.90%, Standard Deviation: 0.10%\n",
            "\n",
            "Evaluating parameter \"optimizer\" using value \"adam\"...\n",
            "Starting 3-fold cross-validation...\n",
            "Finished cross-valiation. Took 0.3 mintues.\n",
            "Mean Accuracy: 69.01%, Standard Deviation: 1.13%\n",
            "\n",
            "Evaluating parameter \"optimizer\" using value \"adamax\"...\n",
            "Starting 3-fold cross-validation...\n",
            "Finished cross-valiation. Took 0.3 mintues.\n",
            "Mean Accuracy: 69.67%, Standard Deviation: 4.97%\n",
            "\n",
            "Evaluating parameter \"optimizer\" using value \"adagrad\"...\n",
            "Starting 3-fold cross-validation...\n",
            "Finished cross-valiation. Took 0.3 mintues.\n",
            "Mean Accuracy: 65.89%, Standard Deviation: 0.28%\n",
            "\n",
            "Evaluating parameter \"optimizer\" using value \"sgd\"...\n",
            "Starting 3-fold cross-validation...\n",
            "Finished cross-valiation. Took 0.3 mintues.\n",
            "Mean Accuracy: 69.02%, Standard Deviation: 3.78%\n",
            "\n",
            "Evaluating parameter \"optimizer\" using value \"rmsprop\"...\n",
            "Starting 3-fold cross-validation...\n",
            "Finished cross-valiation. Took 0.3 mintues.\n",
            "Mean Accuracy: 67.58%, Standard Deviation: 2.12%\n",
            "\n",
            "Evaluating parameter \"epochs\" using value \"10\"...\n",
            "Starting 3-fold cross-validation...\n",
            "Finished cross-valiation. Took 0.4 mintues.\n",
            "Mean Accuracy: 68.36%, Standard Deviation: 0.77%\n",
            "\n",
            "Evaluating parameter \"epochs\" using value \"20\"...\n",
            "Starting 3-fold cross-validation...\n",
            "Finished cross-valiation. Took 0.7 mintues.\n",
            "Mean Accuracy: 72.14%, Standard Deviation: 2.66%\n",
            "\n",
            "Evaluating parameter \"epochs\" using value \"40\"...\n",
            "Starting 3-fold cross-validation...\n",
            "Finished cross-valiation. Took 1.3 mintues.\n",
            "Mean Accuracy: 73.44%, Standard Deviation: 3.01%\n",
            "\n",
            "Evaluating parameter \"epochs\" using value \"80\"...\n",
            "Starting 3-fold cross-validation...\n",
            "Finished cross-valiation. Took 2.5 mintues.\n",
            "Mean Accuracy: 74.75%, Standard Deviation: 2.58%\n",
            "\n",
            "Evaluating parameter \"epochs\" using value \"160\"...\n",
            "Starting 3-fold cross-validation...\n",
            "Finished cross-valiation. Took 5.0 mintues.\n",
            "Mean Accuracy: 75.52%, Standard Deviation: 1.14%\n",
            "\n",
            "Evaluating parameter \"batch_size\" using value \"1\"...\n",
            "Starting 3-fold cross-validation...\n",
            "Finished cross-valiation. Took 1.3 mintues.\n",
            "Mean Accuracy: 71.48%, Standard Deviation: 1.94%\n",
            "\n",
            "Evaluating parameter \"batch_size\" using value \"2\"...\n",
            "Starting 3-fold cross-validation...\n",
            "Finished cross-valiation. Took 0.7 mintues.\n",
            "Mean Accuracy: 67.97%, Standard Deviation: 1.49%\n",
            "\n",
            "Evaluating parameter \"batch_size\" using value \"4\"...\n",
            "Starting 3-fold cross-validation...\n",
            "Finished cross-valiation. Took 0.4 mintues.\n",
            "Mean Accuracy: 68.11%, Standard Deviation: 2.29%\n",
            "\n",
            "Evaluating parameter \"batch_size\" using value \"8\"...\n",
            "Starting 3-fold cross-validation...\n",
            "Finished cross-valiation. Took 0.2 mintues.\n",
            "Mean Accuracy: 69.53%, Standard Deviation: 1.55%\n",
            "\n",
            "Evaluating parameter \"batch_size\" using value \"16\"...\n",
            "Starting 3-fold cross-validation...\n",
            "Finished cross-valiation. Took 0.1 mintues.\n",
            "Mean Accuracy: 67.32%, Standard Deviation: 1.97%\n"
          ],
          "name": "stdout"
        }
      ]
    },
    {
      "metadata": {
        "id": "s159Jx6Fplqx",
        "colab_type": "code",
        "outputId": "2025f420-14d7-4817-e55a-b24aed490379",
        "colab": {
          "base_uri": "https://localhost:8080/",
          "height": 34
        }
      },
      "cell_type": "code",
      "source": [
        "# Save the dict    \n",
        "with open('/content/gdrive/My Drive/cross_validation_results.pkl', 'wb') as f:\n",
        "    pickle.dump(results, f, pickle.HIGHEST_PROTOCOL)\n",
        "    print(\"Results saved to Google Drive successfully!\")"
      ],
      "execution_count": 16,
      "outputs": [
        {
          "output_type": "stream",
          "text": [
            "Results saved to Google Drive successfully!\n"
          ],
          "name": "stdout"
        }
      ]
    },
    {
      "metadata": {
        "id": "Kozw8MO7Iu3I",
        "colab_type": "code",
        "colab": {}
      },
      "cell_type": "code",
      "source": [
        "# Load the pickled results dict\n",
        "with open('/content/gdrive/My Drive/cross_validation_results.pkl', 'rb') as f:\n",
        "    results = pickle.load(f)"
      ],
      "execution_count": 0,
      "outputs": []
    },
    {
      "metadata": {
        "id": "e5SS5w_7DXZs",
        "colab_type": "code",
        "outputId": "9101e313-71aa-4eb0-f91f-c0db8d4fe791",
        "colab": {
          "base_uri": "https://localhost:8080/",
          "height": 842
        }
      },
      "cell_type": "code",
      "source": [
        "df = wrangle_results(results)\n",
        "visualize_distribution(df)"
      ],
      "execution_count": 18,
      "outputs": [
        {
          "output_type": "stream",
          "text": [
            "/usr/local/lib/python3.6/dist-packages/ipykernel_launcher.py:33: SettingWithCopyWarning: \n",
            "A value is trying to be set on a copy of a slice from a DataFrame.\n",
            "Try using .loc[row_indexer,col_indexer] = value instead\n",
            "\n",
            "See the caveats in the documentation: http://pandas.pydata.org/pandas-docs/stable/indexing.html#indexing-view-versus-copy\n",
            "/usr/local/lib/python3.6/dist-packages/seaborn/categorical.py:454: FutureWarning: remove_na is deprecated and is a private function. Do not use.\n",
            "  box_data = remove_na(group_data)\n"
          ],
          "name": "stderr"
        },
        {
          "output_type": "display_data",
          "data": {
            "image/png": "[encoded data removed]",
            "text/plain": [
              "<matplotlib.figure.Figure at 0x7fabc1e0cb00>"
            ]
          },
          "metadata": {
            "tags": []
          }
        }
      ]
    },
    {
      "metadata": {
        "id": "WjClfrUsHq0K",
        "colab_type": "code",
        "colab": {
          "base_uri": "https://localhost:8080/",
          "height": 514
        },
        "outputId": "db47fd5d-b1bd-4314-936f-fa359c6f6588"
      },
      "cell_type": "code",
      "source": [
        "visualize_trend(df, 'epochs')"
      ],
      "execution_count": 25,
      "outputs": [
        {
          "output_type": "display_data",
          "data": {
            "image/png": "[encoded data removed]",
            "text/plain": [
              "<matplotlib.figure.Figure at 0x7faba95d5be0>"
            ]
          },
          "metadata": {
            "tags": []
          }
        },
        {
          "output_type": "execute_result",
          "data": {
            "text/plain": [
              "[['epochs', 160]]"
            ]
          },
          "metadata": {
            "tags": []
          },
          "execution_count": 25
        }
      ]
    },
    {
      "metadata": {
        "id": "RzU36qL3OYb8",
        "colab_type": "code",
        "outputId": "1579b744-9b84-4485-e98e-2726c2a3165c",
        "colab": {
          "base_uri": "https://localhost:8080/",
          "height": 514
        }
      },
      "cell_type": "code",
      "source": [
        "visualize_trend(df, 'num_layers')"
      ],
      "execution_count": 26,
      "outputs": [
        {
          "output_type": "display_data",
          "data": {
            "image/png": "[encoded data removed]",
            "text/plain": [
              "<matplotlib.figure.Figure at 0x7faba953be48>"
            ]
          },
          "metadata": {
            "tags": []
          }
        },
        {
          "output_type": "execute_result",
          "data": {
            "text/plain": [
              "[['num_layers', 2]]"
            ]
          },
          "metadata": {
            "tags": []
          },
          "execution_count": 26
        }
      ]
    },
    {
      "metadata": {
        "id": "r2LScFOJRKpZ",
        "colab_type": "code",
        "colab": {}
      },
      "cell_type": "code",
      "source": [
        "# Use the best_options to build a new baseline model\n",
        "param_dict = get_defaults()\n",
        "\n",
        "for i in best_options:\n",
        "  if i[0] == 'num_units': # ensure num_units is a list\n",
        "    param_dict[i[0]] = [i[1], 1]\n",
        "  else:\n",
        "    param_dict[i[0]] = i[1]\n",
        "\n",
        "build_test_model(param_dict=param_dict)"
      ],
      "execution_count": 0,
      "outputs": []
    },
    {
      "metadata": {
        "id": "xNeotHP_I9sL",
        "colab_type": "code",
        "colab": {}
      },
      "cell_type": "code",
      "source": [
        "learning_rate = [0.00095, 0.001, 0.0018, 0.0019, 0.002, 0.003] #0.00095\n",
        "\n",
        "tuning_options = get_tuning_options(learning_rate=learning_rate)\n",
        "\n",
        "result = run_test(tuning_options, X, y, use_defaults=False, param_dict=param_dict)"
      ],
      "execution_count": 0,
      "outputs": []
    },
    {
      "metadata": {
        "id": "kIlZwm7iNKam",
        "colab_type": "code",
        "colab": {}
      },
      "cell_type": "code",
      "source": [
        "param_dict['learning_rate'] = 0.00095\n",
        "param_dict"
      ],
      "execution_count": 0,
      "outputs": []
    },
    {
      "metadata": {
        "id": "Rj20zhkHOGSU",
        "colab_type": "code",
        "colab": {}
      },
      "cell_type": "code",
      "source": [
        "df_plot.query(\"parameter=='epochs'\").plot(x='option', y='value')"
      ],
      "execution_count": 0,
      "outputs": []
    },
    {
      "metadata": {
        "id": "S8qBrBbiObAB",
        "colab_type": "code",
        "colab": {}
      },
      "cell_type": "code",
      "source": [
        "epochs = [160, 180, 200, 220, 250] #0.00095\n",
        "\n",
        "tuning_options = get_tuning_options(epochs=epochs)\n",
        "\n",
        "result = run_test(tuning_options, X, y, use_defaults=False, param_dict=param_dict)"
      ],
      "execution_count": 0,
      "outputs": []
    },
    {
      "metadata": {
        "id": "NQYJljE-Owom",
        "colab_type": "code",
        "colab": {}
      },
      "cell_type": "code",
      "source": [
        "# Now tune batch_size\n",
        "batch_size = [1, 2, 4, 8, 16, 32, 64, 128] #4\n",
        "tuning_options = {'batch_size': batch_size}\n",
        "result = run_test(tuning_options, X, y)\n",
        "visualize(result, 'batch_size')"
      ],
      "execution_count": 0,
      "outputs": []
    },
    {
      "metadata": {
        "id": "xPHlALpxJdrh",
        "colab_type": "text"
      },
      "cell_type": "markdown",
      "source": [
        "1. params class\n",
        "2. download pima from kaggle\n",
        "3. random search\n",
        "4. plot title\n",
        "5. code refactoring: given param dict, test results\n",
        "6. normalize data"
      ]
    },
    {
      "metadata": {
        "id": "IxKg9k1rRtqJ",
        "colab_type": "code",
        "colab": {}
      },
      "cell_type": "code",
      "source": [
        ""
      ],
      "execution_count": 0,
      "outputs": []
    }
  ]
}